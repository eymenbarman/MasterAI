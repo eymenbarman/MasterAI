{
  "nbformat": 4,
  "nbformat_minor": 0,
  "metadata": {
    "colab": {
      "provenance": []
    },
    "kernelspec": {
      "name": "python3",
      "display_name": "Python 3"
    },
    "language_info": {
      "name": "python"
    }
  },
  "cells": [
    {
      "cell_type": "code",
      "execution_count": null,
      "metadata": {
        "colab": {
          "base_uri": "https://localhost:8080/"
        },
        "id": "_y0VDMrTv_FH",
        "outputId": "3932ea7f-74b7-4700-fde8-fefe1048e9a4"
      },
      "outputs": [
        {
          "output_type": "stream",
          "name": "stdout",
          "text": [
            "         Date  Views\n",
            "0  01/06/2021   7831\n",
            "1  02/06/2021   7798\n",
            "2  03/06/2021   7401\n",
            "3  04/06/2021   7054\n",
            "4  05/06/2021   7973\n",
            "Index(['Date', 'Views'], dtype='object')\n",
            "<class 'pandas.core.frame.DataFrame'>\n",
            "RangeIndex: 391 entries, 0 to 390\n",
            "Data columns (total 2 columns):\n",
            " #   Column  Non-Null Count  Dtype \n",
            "---  ------  --------------  ----- \n",
            " 0   Date    391 non-null    object\n",
            " 1   Views   391 non-null    int64 \n",
            "dtypes: int64(1), object(1)\n",
            "memory usage: 6.2+ KB\n",
            "None\n"
          ]
        }
      ],
      "source": [
        "import pandas as pd\n",
        "\n",
        "df = pd.read_csv(\"Thecleverprogrammer.csv\")\n",
        "print(df.head())\n",
        "print(df.columns)\n",
        "print(df.info())"
      ]
    },
    {
      "cell_type": "code",
      "source": [
        "df[\"Date\"] = pd.to_datetime(df[\"Date\"], dayfirst=True)\n",
        "df.set_index(\"Date\", inplace=True)\n"
      ],
      "metadata": {
        "id": "_oLoFzMLw3KC"
      },
      "execution_count": null,
      "outputs": []
    },
    {
      "cell_type": "code",
      "source": [
        "from statsmodels.tsa.holtwinters import ExponentialSmoothing\n",
        "import pickle\n",
        "\n",
        "# Zaman serisi verisini al\n",
        "views_series = df[\"Views\"]\n",
        "\n",
        "# Modeli tanımla ve eğit\n",
        "model = ExponentialSmoothing(views_series, trend='add', seasonal='add', seasonal_periods=7)\n",
        "model_fit = model.fit()\n",
        "\n",
        "# Tahmin örneği (7 gün sonrası)\n",
        "forecast = model_fit.forecast(7)\n",
        "print(\"Forecast:\\n\", forecast)\n",
        "\n",
        "# Modeli .pkl olarak kaydet\n",
        "with open(\"website_model.pkl\", \"wb\") as f:\n",
        "    pickle.dump(model_fit, f)\n",
        "\n",
        "print(\"✅ Model başarıyla kaydedildi: website_model.pkl\")\n"
      ],
      "metadata": {
        "colab": {
          "base_uri": "https://localhost:8080/"
        },
        "id": "3iDZDXb3xDeI",
        "outputId": "eab32bf9-c482-4503-cc74-1a9a4c09da36"
      },
      "execution_count": null,
      "outputs": [
        {
          "output_type": "stream",
          "name": "stderr",
          "text": [
            "/usr/local/lib/python3.11/dist-packages/statsmodels/tsa/base/tsa_model.py:473: ValueWarning: No frequency information was provided, so inferred frequency D will be used.\n",
            "  self._init_dates(dates, freq)\n",
            "/usr/local/lib/python3.11/dist-packages/statsmodels/tsa/holtwinters/model.py:918: ConvergenceWarning: Optimization failed to converge. Check mle_retvals.\n",
            "  warnings.warn(\n"
          ]
        },
        {
          "output_type": "stream",
          "name": "stdout",
          "text": [
            "Forecast:\n",
            " 2022-06-27    10552.697857\n",
            "2022-06-28    10737.294523\n",
            "2022-06-29    10546.927174\n",
            "2022-06-30    10292.504293\n",
            "2022-07-01     9396.822783\n",
            "2022-07-02     8579.663345\n",
            "2022-07-03     8904.298253\n",
            "Freq: D, dtype: float64\n",
            "✅ Model başarıyla kaydedildi: website_model.pkl\n"
          ]
        }
      ]
    },
    {
      "cell_type": "code",
      "source": [],
      "metadata": {
        "id": "MfKIkSc6xZ7D"
      },
      "execution_count": null,
      "outputs": []
    }
  ]
}