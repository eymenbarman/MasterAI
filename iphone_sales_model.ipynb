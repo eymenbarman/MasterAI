{
  "nbformat": 4,
  "nbformat_minor": 0,
  "metadata": {
    "colab": {
      "provenance": []
    },
    "kernelspec": {
      "name": "python3",
      "display_name": "Python 3"
    },
    "language_info": {
      "name": "python"
    }
  },
  "cells": [
    {
      "cell_type": "code",
      "execution_count": null,
      "metadata": {
        "colab": {
          "base_uri": "https://localhost:8080/"
        },
        "id": "D-40Fj120t07",
        "outputId": "a0678afd-53df-4513-a247-f292ae471cea"
      },
      "outputs": [
        {
          "output_type": "stream",
          "name": "stdout",
          "text": [
            "                               Product Name  \\\n",
            "0         APPLE iPhone 8 Plus (Gold, 64 GB)   \n",
            "1  APPLE iPhone 8 Plus (Space Grey, 256 GB)   \n",
            "2      APPLE iPhone 8 Plus (Silver, 256 GB)   \n",
            "3           APPLE iPhone 8 (Silver, 256 GB)   \n",
            "4             APPLE iPhone 8 (Gold, 256 GB)   \n",
            "\n",
            "                                         Product URL  Brand  Sale Price  \\\n",
            "0  https://www.flipkart.com/apple-iphone-8-plus-g...  Apple       49900   \n",
            "1  https://www.flipkart.com/apple-iphone-8-plus-s...  Apple       84900   \n",
            "2  https://www.flipkart.com/apple-iphone-8-plus-s...  Apple       84900   \n",
            "3  https://www.flipkart.com/apple-iphone-8-silver...  Apple       77000   \n",
            "4  https://www.flipkart.com/apple-iphone-8-gold-2...  Apple       77000   \n",
            "\n",
            "     Mrp  Discount Percentage  Number Of Ratings  Number Of Reviews  \\\n",
            "0  49900                    0               3431                356   \n",
            "1  84900                    0               3431                356   \n",
            "2  84900                    0               3431                356   \n",
            "3  77000                    0              11202                794   \n",
            "4  77000                    0              11202                794   \n",
            "\n",
            "                Upc  Star Rating   Ram  \n",
            "0  MOBEXRGV7EHHTGUH          4.6  2 GB  \n",
            "1  MOBEXRGVAC6TJT4F          4.6  2 GB  \n",
            "2  MOBEXRGVGETABXWZ          4.6  2 GB  \n",
            "3  MOBEXRGVMZWUHCBA          4.5  2 GB  \n",
            "4  MOBEXRGVPK7PFEJZ          4.5  2 GB  \n",
            "Index(['Product Name', 'Product URL', 'Brand', 'Sale Price', 'Mrp',\n",
            "       'Discount Percentage', 'Number Of Ratings', 'Number Of Reviews', 'Upc',\n",
            "       'Star Rating', 'Ram'],\n",
            "      dtype='object')\n",
            "<class 'pandas.core.frame.DataFrame'>\n",
            "RangeIndex: 62 entries, 0 to 61\n",
            "Data columns (total 11 columns):\n",
            " #   Column               Non-Null Count  Dtype  \n",
            "---  ------               --------------  -----  \n",
            " 0   Product Name         62 non-null     object \n",
            " 1   Product URL          62 non-null     object \n",
            " 2   Brand                62 non-null     object \n",
            " 3   Sale Price           62 non-null     int64  \n",
            " 4   Mrp                  62 non-null     int64  \n",
            " 5   Discount Percentage  62 non-null     int64  \n",
            " 6   Number Of Ratings    62 non-null     int64  \n",
            " 7   Number Of Reviews    62 non-null     int64  \n",
            " 8   Upc                  62 non-null     object \n",
            " 9   Star Rating          62 non-null     float64\n",
            " 10  Ram                  62 non-null     object \n",
            "dtypes: float64(1), int64(5), object(5)\n",
            "memory usage: 5.5+ KB\n",
            "None\n"
          ]
        }
      ],
      "source": [
        "import pandas as pd\n",
        "\n",
        "# CSV dosyasını oku\n",
        "df = pd.read_csv(\"apple_products.csv\")\n",
        "\n",
        "# İlk 5 satıra bakalım\n",
        "print(df.head())\n",
        "\n",
        "# Sütun adlarını görelim\n",
        "print(df.columns)\n",
        "\n",
        "# Veri tipi bilgisi\n",
        "print(df.info())\n"
      ]
    },
    {
      "cell_type": "code",
      "source": [
        "# Eksik verileri kontrol et\n",
        "print(df.isnull().sum())\n",
        "\n",
        "# Boşları düşürelim\n",
        "df = df.dropna()\n"
      ],
      "metadata": {
        "colab": {
          "base_uri": "https://localhost:8080/"
        },
        "id": "rGmi5S3C273O",
        "outputId": "47890596-4e29-4e4b-9506-970fde23d3fd"
      },
      "execution_count": null,
      "outputs": [
        {
          "output_type": "stream",
          "name": "stdout",
          "text": [
            "Product Name           0\n",
            "Product URL            0\n",
            "Brand                  0\n",
            "Sale Price             0\n",
            "Mrp                    0\n",
            "Discount Percentage    0\n",
            "Number Of Ratings      0\n",
            "Number Of Reviews      0\n",
            "Upc                    0\n",
            "Star Rating            0\n",
            "Ram                    0\n",
            "dtype: int64\n"
          ]
        }
      ]
    },
    {
      "cell_type": "code",
      "source": [
        "# En yüksek puanlı iPhone'lar\n",
        "top_rated = df.sort_values(\"Star Rating\", ascending=False)[[\"Product Name\", \"Sale Price\", \"Star Rating\"]].head(10)\n",
        "print(top_rated)\n"
      ],
      "metadata": {
        "colab": {
          "base_uri": "https://localhost:8080/"
        },
        "id": "28WmY3eK3CeA",
        "outputId": "57f95f9a-4b51-4a5f-a218-f0ec52bd41b1"
      },
      "execution_count": null,
      "outputs": [
        {
          "output_type": "stream",
          "name": "stdout",
          "text": [
            "                                         Product Name  Sale Price  Star Rating\n",
            "15              APPLE iPhone 11 Pro Max (Gold, 64 GB)      117100          4.7\n",
            "20    APPLE iPhone 11 Pro Max (Midnight Green, 64 GB)      117100          4.7\n",
            "17        APPLE iPhone 11 Pro Max (Space Grey, 64 GB)      117100          4.7\n",
            "16   APPLE iPhone 11 Pro Max (Midnight Green, 256 GB)      131900          4.7\n",
            "14             APPLE iPhone 11 Pro Max (Gold, 256 GB)      131900          4.7\n",
            "0                   APPLE iPhone 8 Plus (Gold, 64 GB)       49900          4.6\n",
            "12  Apple iPhone XR (Black, 128 GB) (Includes EarP...       41999          4.6\n",
            "11  Apple iPhone XR (Coral, 128 GB) (Includes EarP...       41999          4.6\n",
            "9   Apple iPhone XR ((PRODUCT)RED, 128 GB) (Includ...       41999          4.6\n",
            "1            APPLE iPhone 8 Plus (Space Grey, 256 GB)       84900          4.6\n"
          ]
        }
      ]
    },
    {
      "cell_type": "code",
      "source": [
        "import pandas as pd\n",
        "from sklearn.ensemble import RandomForestRegressor\n",
        "from sklearn.model_selection import train_test_split\n",
        "import pickle\n",
        "\n",
        "# Veri\n",
        "df = pd.read_csv(\"apple_products.csv\")\n",
        "\n",
        "# RAM sütunu sayıya çevrilmeli\n",
        "df[\"Ram\"] = df[\"Ram\"].str.replace(\" GB\", \"\").astype(int)\n",
        "\n",
        "# Model girişleri ve hedef\n",
        "features = [\"Sale Price\", \"Discount Percentage\", \"Number Of Ratings\", \"Number Of Reviews\", \"Ram\"]\n",
        "X = df[features]\n",
        "y = df[\"Star Rating\"]\n",
        "\n",
        "# Split\n",
        "X_train, X_test, y_train, y_test = train_test_split(X, y, test_size=0.2, random_state=42)\n",
        "\n",
        "# Model\n",
        "model = RandomForestRegressor()\n",
        "model.fit(X_train, y_train)\n",
        "\n",
        "# Kaydet\n",
        "with open(\"iphone_rating_model.pkl\", \"wb\") as f:\n",
        "    pickle.dump(model, f)\n"
      ],
      "metadata": {
        "id": "VmEY-9ZT3aS8"
      },
      "execution_count": null,
      "outputs": []
    },
    {
      "cell_type": "code",
      "source": [],
      "metadata": {
        "id": "w1fF1xAH3cni"
      },
      "execution_count": null,
      "outputs": []
    }
  ]
}