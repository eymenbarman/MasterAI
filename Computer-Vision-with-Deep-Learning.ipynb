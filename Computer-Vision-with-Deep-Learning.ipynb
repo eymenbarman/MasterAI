{
 "cells": [
  {
   "cell_type": "markdown",
   "id": "51fb3344-0975-4ea6-8175-41479aec2d91",
   "metadata": {},
   "source": [
    "# Computer-Vision-with-Deep-Learning"
   ]
  },
  {
   "cell_type": "code",
   "execution_count": 6,
   "id": "01145802-8941-45cd-a680-67c963983d6e",
   "metadata": {},
   "outputs": [],
   "source": [
    "#pip install bing-image-downloader"
   ]
  },
  {
   "cell_type": "code",
   "execution_count": 4,
   "id": "3c8a8227-8f9c-4615-a4d1-086d2b28950c",
   "metadata": {},
   "outputs": [],
   "source": [
    "from bing_image_downloader import downloader"
   ]
  },
  {
   "cell_type": "code",
   "execution_count": 10,
   "id": "31e45b9e-7ce9-4e6e-b233-e60c325d9622",
   "metadata": {},
   "outputs": [
    {
     "name": "stdout",
     "output_type": "stream",
     "text": [
      "[%] Downloading Images to C:\\Users\\SABRI\\Documents\\Red-Ocean-AI\\Day_9\\dataset\\bird\n",
      "\n",
      "\n",
      "[!!]Indexing page: 1\n",
      "\n",
      "[%] Indexed 0 Images on Page 1.\n",
      "\n",
      "===============================================\n",
      "\n",
      "\n",
      "\n",
      "[!!]Indexing page: 2\n",
      "\n",
      "[%] Indexed 0 Images on Page 2.\n",
      "\n",
      "===============================================\n",
      "\n",
      "\n",
      "\n",
      "[!!]Indexing page: 3\n",
      "\n",
      "[%] Indexed 0 Images on Page 3.\n",
      "\n",
      "===============================================\n",
      "\n",
      "\n",
      "\n",
      "[!!]Indexing page: 4\n",
      "\n",
      "[%] Indexed 0 Images on Page 4.\n",
      "\n",
      "===============================================\n",
      "\n",
      "\n",
      "\n",
      "[!!]Indexing page: 5\n",
      "\n",
      "[%] Indexed 0 Images on Page 5.\n",
      "\n",
      "===============================================\n",
      "\n",
      "\n",
      "\n",
      "[!!]Indexing page: 6\n",
      "\n",
      "[%] Indexed 0 Images on Page 6.\n",
      "\n",
      "===============================================\n",
      "\n",
      "\n",
      "\n",
      "[!!]Indexing page: 7\n",
      "\n",
      "[%] Indexed 0 Images on Page 7.\n",
      "\n",
      "===============================================\n",
      "\n",
      "\n",
      "\n",
      "[!!]Indexing page: 8\n",
      "\n",
      "[%] Indexed 0 Images on Page 8.\n",
      "\n",
      "===============================================\n",
      "\n",
      "\n",
      "\n",
      "[!!]Indexing page: 9\n",
      "\n",
      "[%] Indexed 0 Images on Page 9.\n",
      "\n",
      "===============================================\n",
      "\n",
      "\n",
      "\n",
      "[!!]Indexing page: 10\n",
      "\n",
      "[%] Indexed 0 Images on Page 10.\n",
      "\n",
      "===============================================\n",
      "\n",
      "\n",
      "\n",
      "[!!]Indexing page: 11\n",
      "\n",
      "[%] Indexed 0 Images on Page 11.\n",
      "\n",
      "===============================================\n",
      "\n",
      "\n",
      "\n",
      "[!!]Indexing page: 12\n",
      "\n",
      "[%] Indexed 0 Images on Page 12.\n",
      "\n",
      "===============================================\n",
      "\n",
      "\n",
      "\n",
      "[!!]Indexing page: 13\n",
      "\n",
      "[%] Indexed 0 Images on Page 13.\n",
      "\n",
      "===============================================\n",
      "\n",
      "\n",
      "\n",
      "[!!]Indexing page: 14\n",
      "\n",
      "[%] No more images are available\n",
      "\n",
      "\n",
      "[%] Done. Downloaded 0 images.\n"
     ]
    }
   ],
   "source": [
    "downloader.download('bird',limit=100,adult_filter_off=False)"
   ]
  },
  {
   "cell_type": "code",
   "execution_count": 12,
   "id": "b8d52a75-a34a-4987-874d-d6797c45634a",
   "metadata": {},
   "outputs": [],
   "source": [
    "import tensorflow as tf"
   ]
  },
  {
   "cell_type": "code",
   "execution_count": 14,
   "id": "2a253b1e-9ed1-4dab-9666-00d9c9c91bc9",
   "metadata": {},
   "outputs": [],
   "source": [
    "mnist=tf.keras.datasets.mnist   #el yazması rakamları dataseti "
   ]
  },
  {
   "cell_type": "code",
   "execution_count": 16,
   "id": "49fd9b39-576c-4afa-9ba4-a8a0ef173f09",
   "metadata": {},
   "outputs": [
    {
     "name": "stdout",
     "output_type": "stream",
     "text": [
      "Downloading data from https://storage.googleapis.com/tensorflow/tf-keras-datasets/mnist.npz\n",
      "\u001b[1m11490434/11490434\u001b[0m \u001b[32m━━━━━━━━━━━━━━━━━━━━\u001b[0m\u001b[37m\u001b[0m \u001b[1m3s\u001b[0m 0us/step\n"
     ]
    }
   ],
   "source": [
    "(train_images,train_labels),(test_images,test_labels)=mnist.load_data()"
   ]
  },
  {
   "cell_type": "code",
   "execution_count": 18,
   "id": "52a022e7-5192-40d9-8189-28a5dbbf83d2",
   "metadata": {},
   "outputs": [
    {
     "data": {
      "text/plain": [
       "(60000, 28, 28)"
      ]
     },
     "execution_count": 18,
     "metadata": {},
     "output_type": "execute_result"
    }
   ],
   "source": [
    "train_images.shape"
   ]
  },
  {
   "cell_type": "code",
   "execution_count": 20,
   "id": "f9454982-3a1f-4b5c-8168-f81ad656b2a5",
   "metadata": {},
   "outputs": [],
   "source": [
    "import matplotlib.pyplot as plt"
   ]
  },
  {
   "cell_type": "code",
   "execution_count": 24,
   "id": "2d7c3d07-d4ab-4350-8bb3-4ab7a22e6faa",
   "metadata": {},
   "outputs": [
    {
     "data": {
      "text/plain": [
       "<matplotlib.image.AxesImage at 0x18416b409e0>"
      ]
     },
     "execution_count": 24,
     "metadata": {},
     "output_type": "execute_result"
    },
    {
     "data": {
      "image/png": "[encoded data removed]",
      "text/plain": [
       "<Figure size 640x480 with 1 Axes>"
      ]
     },
     "metadata": {},
     "output_type": "display_data"
    }
   ],
   "source": [
    "plt.imshow(train_images[54],cmap='gray')"
   ]
  },
  {
   "cell_type": "code",
   "execution_count": 26,
   "id": "cd5627aa-127f-4e2c-88b0-a5d4c98cc7cb",
   "metadata": {},
   "outputs": [
    {
     "data": {
      "text/plain": [
       "9"
      ]
     },
     "execution_count": 26,
     "metadata": {},
     "output_type": "execute_result"
    }
   ],
   "source": [
    "train_labels[54]"
   ]
  },
  {
   "cell_type": "code",
   "execution_count": 28,
   "id": "a183d69e-e1c1-4d46-b23a-bec17217f924",
   "metadata": {},
   "outputs": [
    {
     "data": {
      "text/plain": [
       "(10000, 28, 28)"
      ]
     },
     "execution_count": 28,
     "metadata": {},
     "output_type": "execute_result"
    }
   ],
   "source": [
    "test_images.shape"
   ]
  },
  {
   "cell_type": "code",
   "execution_count": 30,
   "id": "09941e02-b51a-4d5e-aedd-e4e02bd76d3e",
   "metadata": {},
   "outputs": [
    {
     "data": {
      "text/plain": [
       "array([[  0,   0,   0,   0,   0,   0,   0,   0,   0,   0,   0,   0,   0,\n",
       "          0,   0,   0,   0,   0,   0,   0,   0,   0,   0,   0,   0,   0,\n",
       "          0,   0],\n",
       "       [  0,   0,   0,   0,   0,   0,   0,   0,   0,   0,   0,   0,   0,\n",
       "          0,   0,   0,   0,   0,   0,   0,   0,   0,   0,   0,   0,   0,\n",
       "          0,   0],\n",
       "       [  0,   0,   0,   0,   0,   0,   0,   0,   0,   0,   0,   0,   0,\n",
       "          0,   0,   0,   0,   0,   0,   0,   0,   0,   0,   0,   0,   0,\n",
       "          0,   0],\n",
       "       [  0,   0,   0,   0,   0,   0,   0,   0,   0,   0,   0,   0,   0,\n",
       "          0,   0,   0,   0,   0,   0,   0,   0,   0,   0,   0,   0,   0,\n",
       "          0,   0],\n",
       "       [  0,   0,   0,   0,   0,   0,   0,   0,   0,   0,   0,   0,   0,\n",
       "          0,   0,   0,   0,   0,   0,   0,   0,   0,   0,   0,   0,   0,\n",
       "          0,   0],\n",
       "       [  0,   0,   0,   0,   0,   0,   0,   0,   0,   0,   0,   0,   0,\n",
       "          0,   0,   0,   0,   0,   0,   0,   0,   0,   0,   0,   0,   0,\n",
       "          0,   0],\n",
       "       [  0,   0,   0,   0,   0,   0,   0,   0,   0,   0,   0,   0,   0,\n",
       "          0,   0,   0,   0,   0,   0,   0,   0,   0,   0,   0,   0,   0,\n",
       "          0,   0],\n",
       "       [  0,   0,   0,   0,   0,   0,   0,   0,   0,  49, 125, 235, 255,\n",
       "        254, 122,   0,   0,   0,   0,   0,  13, 134, 180,  57,   0,   0,\n",
       "          0,   0],\n",
       "       [  0,   0,   0,   0,   0,   0,   0,   0, 163, 250, 253, 253, 253,\n",
       "        253, 252,  63,   0,   0,   0,  16, 199, 253, 253, 117,   0,   0,\n",
       "          0,   0],\n",
       "       [  0,   0,   0,   0,   0,   0,  52, 168, 252, 253, 213,  32,  12,\n",
       "         49, 109,   3,   0,   0,   0, 157, 253, 253, 183,   6,   0,   0,\n",
       "          0,   0],\n",
       "       [  0,   0,   0,   0,   0,   0, 171, 253, 103,  19,  12,   0,   0,\n",
       "          0,   0,   0,   0,   0,  91, 247, 253, 235,   8,   0,   0,   0,\n",
       "          0,   0],\n",
       "       [  0,   0,   0,   0,   0,   0, 248, 253,  19,   0,   0,   0,   0,\n",
       "          0,   0,   0,  21, 189, 245, 253, 243,  77,   0,   0,   0,   0,\n",
       "          0,   0],\n",
       "       [  0,   0,   0,   0,   0,   0, 201, 253, 104,   9,   0,   0,   0,\n",
       "          0,  71, 122, 228, 253, 253, 253, 113,   0,   0,   0,   0,   0,\n",
       "          0,   0],\n",
       "       [  0,   0,   0,   0,   0,   0,  18, 199, 253, 219, 215, 215, 215,\n",
       "        215, 245, 253, 253, 253, 253, 182,  15,   0,   0,   0,   0,   0,\n",
       "          0,   0],\n",
       "       [  0,   0,   0,   0,   0,   0,   0,  20, 165, 205, 253, 253, 253,\n",
       "        191, 175, 193, 253, 253, 221,  16,   0,   0,   0,   0,   0,   0,\n",
       "          0,   0],\n",
       "       [  0,   0,   0,   0,   0,   0,   0,   0,   0,  20,  51,  51,  51,\n",
       "         11,   0,  59, 253, 253, 110,   0,   0,   0,   0,   0,   0,   0,\n",
       "          0,   0],\n",
       "       [  0,   0,   0,   0,   0,   0,   0,   0,   0,   0,   0,   0,   0,\n",
       "          0,   0,  93, 253, 218,  19,   0,   0,   0,   0,   0,   0,   0,\n",
       "          0,   0],\n",
       "       [  0,   0,   0,   0,   0,   0,   0,   0,   0,   0,   0,   0,   0,\n",
       "          0,  80, 237, 253, 111,   0,   0,   0,   0,   0,   0,   0,   0,\n",
       "          0,   0],\n",
       "       [  0,   0,   0,   0,   0,   0,   0,   0,   0,   0,   0,   0,   0,\n",
       "          0, 196, 253, 215,  22,   0,   0,   0,   0,   0,   0,   0,   0,\n",
       "          0,   0],\n",
       "       [  0,   0,   0,   0,   0,   0,   0,   0,   0,   0,   0,   0,   0,\n",
       "         13, 206, 243,  98,   0,   0,   0,   0,   0,   0,   0,   0,   0,\n",
       "          0,   0],\n",
       "       [  0,   0,   0,   0,   0,   0,   0,   0,   0,   0,   0,   0,   0,\n",
       "         93, 253, 194,   0,   0,   0,   0,   0,   0,   0,   0,   0,   0,\n",
       "          0,   0],\n",
       "       [  0,   0,   0,   0,   0,   0,   0,   0,   0,   0,   0,   0,  51,\n",
       "        235, 253, 111,   0,   0,   0,   0,   0,   0,   0,   0,   0,   0,\n",
       "          0,   0],\n",
       "       [  0,   0,   0,   0,   0,   0,   0,   0,   0,   0,   0,   0,  79,\n",
       "        253, 246,  58,   0,   0,   0,   0,   0,   0,   0,   0,   0,   0,\n",
       "          0,   0],\n",
       "       [  0,   0,   0,   0,   0,   0,   0,   0,   0,   0,   0,   0, 155,\n",
       "        253, 178,   0,   0,   0,   0,   0,   0,   0,   0,   0,   0,   0,\n",
       "          0,   0],\n",
       "       [  0,   0,   0,   0,   0,   0,   0,   0,   0,   0,   0,   0, 135,\n",
       "        253,  68,   4,   0,   0,   0,   0,   0,   0,   0,   0,   0,   0,\n",
       "          0,   0],\n",
       "       [  0,   0,   0,   0,   0,   0,   0,   0,   0,   0,   0,   0,  79,\n",
       "        253, 253, 131,   0,   0,   0,   0,   0,   0,   0,   0,   0,   0,\n",
       "          0,   0],\n",
       "       [  0,   0,   0,   0,   0,   0,   0,   0,   0,   0,   0,   0,  39,\n",
       "        159, 152,  32,   0,   0,   0,   0,   0,   0,   0,   0,   0,   0,\n",
       "          0,   0],\n",
       "       [  0,   0,   0,   0,   0,   0,   0,   0,   0,   0,   0,   0,   0,\n",
       "          0,   0,   0,   0,   0,   0,   0,   0,   0,   0,   0,   0,   0,\n",
       "          0,   0]], dtype=uint8)"
      ]
     },
     "execution_count": 30,
     "metadata": {},
     "output_type": "execute_result"
    }
   ],
   "source": [
    "train_images[54]"
   ]
  },
  {
   "cell_type": "markdown",
   "id": "9bfaacb1-c0fd-4ca7-8594-cef52def5f29",
   "metadata": {},
   "source": [
    "#### Normalize Data"
   ]
  },
  {
   "cell_type": "code",
   "execution_count": 35,
   "id": "499954c9-3c80-4d95-8009-befeeebc50a6",
   "metadata": {},
   "outputs": [],
   "source": [
    "#tüm rakamları 255'e bölersek her pixel 0-1 arasında olur normalize etmiş oluruz.(255 renk değeri)"
   ]
  },
  {
   "cell_type": "code",
   "execution_count": 37,
   "id": "d442487d-44af-4384-b235-d556229f062f",
   "metadata": {},
   "outputs": [],
   "source": [
    "train_images=train_images/255.0"
   ]
  },
  {
   "cell_type": "code",
   "execution_count": 39,
   "id": "f5a08d2a-3e7c-471c-bba4-920da8b25487",
   "metadata": {},
   "outputs": [],
   "source": [
    "test_images=test_images/255.0"
   ]
  },
  {
   "cell_type": "markdown",
   "id": "7e2524d0-bedf-428b-92bc-b7d9b0be1634",
   "metadata": {},
   "source": [
    "<img src='https://th.bing.com/th/id/OIP.y_R7c938X8Glly58PTy4dgHaDV?w=234&h=180&c=7&r=0&o=5&dpr=1.3&pid=1.7' width=300> "
   ]
  },
  {
   "cell_type": "markdown",
   "id": "8850c80f-86af-4570-ae2c-0b23f6e8d0e8",
   "metadata": {},
   "source": [
    "### Convolutional Neural Networks - CNNs - Image Classification Resim Sınıflandırma modeli"
   ]
  },
  {
   "cell_type": "code",
   "execution_count": 73,
   "id": "26f9b61c-1573-4cf4-b8f2-df1c888df31e",
   "metadata": {},
   "outputs": [],
   "source": [
    "from tensorflow.keras.models import Sequential\n",
    "from tensorflow.keras.layers import Dense, Conv2D, InputLayer, Reshape, MaxPooling2D, Flatten, Dropout, BatchNormalization"
   ]
  },
  {
   "cell_type": "code",
   "execution_count": 63,
   "id": "c0a7136c-2733-439e-965f-41df22dcd57e",
   "metadata": {},
   "outputs": [],
   "source": [
    "model=Sequential()\n",
    "model.add(InputLayer(input_shape=(28,28)))\n",
    "model.add(Reshape(target_shape=(28,28,1)))\n",
    "model.add(Conv2D(filters=12, kernel_size=(3,3),activation='relu'))\n",
    "model.add(MaxPooling2D(pool_size=(2,2)))\n",
    "model.add(Flatten())\n",
    "model.add(Dense(10)) #10 farklı cevap classification 0-9 a kadar olan rakamlar\n",
    "model. compile(optimizer='adam',loss=tf.keras.losses.SparseCategoricalCrossentropy(from_logits=True),metrics=['accuracy'])"
   ]
  },
  {
   "cell_type": "code",
   "execution_count": 65,
   "id": "f90d06de-9991-4e2f-a9a8-9725822b8928",
   "metadata": {},
   "outputs": [
    {
     "name": "stdout",
     "output_type": "stream",
     "text": [
      "Epoch 1/10\n",
      "\u001b[1m1688/1688\u001b[0m \u001b[32m━━━━━━━━━━━━━━━━━━━━\u001b[0m\u001b[37m\u001b[0m \u001b[1m9s\u001b[0m 4ms/step - accuracy: 0.8576 - loss: 0.5154 - val_accuracy: 0.9683 - val_loss: 0.1189\n",
      "Epoch 2/10\n",
      "\u001b[1m1688/1688\u001b[0m \u001b[32m━━━━━━━━━━━━━━━━━━━━\u001b[0m\u001b[37m\u001b[0m \u001b[1m8s\u001b[0m 5ms/step - accuracy: 0.9649 - loss: 0.1271 - val_accuracy: 0.9737 - val_loss: 0.0947\n",
      "Epoch 3/10\n",
      "\u001b[1m1688/1688\u001b[0m \u001b[32m━━━━━━━━━━━━━━━━━━━━\u001b[0m\u001b[37m\u001b[0m \u001b[1m8s\u001b[0m 5ms/step - accuracy: 0.9751 - loss: 0.0889 - val_accuracy: 0.9817 - val_loss: 0.0713\n",
      "Epoch 4/10\n",
      "\u001b[1m1688/1688\u001b[0m \u001b[32m━━━━━━━━━━━━━━━━━━━━\u001b[0m\u001b[37m\u001b[0m \u001b[1m9s\u001b[0m 6ms/step - accuracy: 0.9794 - loss: 0.0726 - val_accuracy: 0.9815 - val_loss: 0.0678\n",
      "Epoch 5/10\n",
      "\u001b[1m1688/1688\u001b[0m \u001b[32m━━━━━━━━━━━━━━━━━━━━\u001b[0m\u001b[37m\u001b[0m \u001b[1m9s\u001b[0m 5ms/step - accuracy: 0.9810 - loss: 0.0629 - val_accuracy: 0.9820 - val_loss: 0.0655\n",
      "Epoch 6/10\n",
      "\u001b[1m1688/1688\u001b[0m \u001b[32m━━━━━━━━━━━━━━━━━━━━\u001b[0m\u001b[37m\u001b[0m \u001b[1m8s\u001b[0m 5ms/step - accuracy: 0.9835 - loss: 0.0559 - val_accuracy: 0.9838 - val_loss: 0.0585\n",
      "Epoch 7/10\n",
      "\u001b[1m1688/1688\u001b[0m \u001b[32m━━━━━━━━━━━━━━━━━━━━\u001b[0m\u001b[37m\u001b[0m \u001b[1m8s\u001b[0m 5ms/step - accuracy: 0.9850 - loss: 0.0498 - val_accuracy: 0.9843 - val_loss: 0.0587\n",
      "Epoch 8/10\n",
      "\u001b[1m1688/1688\u001b[0m \u001b[32m━━━━━━━━━━━━━━━━━━━━\u001b[0m\u001b[37m\u001b[0m \u001b[1m8s\u001b[0m 5ms/step - accuracy: 0.9874 - loss: 0.0430 - val_accuracy: 0.9840 - val_loss: 0.0616\n",
      "Epoch 9/10\n",
      "\u001b[1m1688/1688\u001b[0m \u001b[32m━━━━━━━━━━━━━━━━━━━━\u001b[0m\u001b[37m\u001b[0m \u001b[1m8s\u001b[0m 5ms/step - accuracy: 0.9880 - loss: 0.0395 - val_accuracy: 0.9852 - val_loss: 0.0570\n",
      "Epoch 10/10\n",
      "\u001b[1m1688/1688\u001b[0m \u001b[32m━━━━━━━━━━━━━━━━━━━━\u001b[0m\u001b[37m\u001b[0m \u001b[1m8s\u001b[0m 5ms/step - accuracy: 0.9894 - loss: 0.0362 - val_accuracy: 0.9862 - val_loss: 0.0574\n"
     ]
    },
    {
     "data": {
      "text/plain": [
       "<keras.src.callbacks.history.History at 0x18419b753d0>"
      ]
     },
     "execution_count": 65,
     "metadata": {},
     "output_type": "execute_result"
    }
   ],
   "source": [
    "model.fit(train_images,train_labels, validation_split=.1,epochs=10)"
   ]
  },
  {
   "cell_type": "code",
   "execution_count": 67,
   "id": "3bf47418-6f77-49cd-a3b0-46dc2adc4f2d",
   "metadata": {},
   "outputs": [
    {
     "name": "stdout",
     "output_type": "stream",
     "text": [
      "\u001b[1m313/313\u001b[0m \u001b[32m━━━━━━━━━━━━━━━━━━━━\u001b[0m\u001b[37m\u001b[0m \u001b[1m1s\u001b[0m 2ms/step - accuracy: 0.9781 - loss: 0.0700\n"
     ]
    }
   ],
   "source": [
    "loss,accuracy=model.evaluate(test_images,test_labels)"
   ]
  },
  {
   "cell_type": "code",
   "execution_count": 69,
   "id": "29da45d7-dad7-4708-973e-7088eb840b77",
   "metadata": {},
   "outputs": [
    {
     "data": {
      "text/plain": [
       "0.9818000197410583"
      ]
     },
     "execution_count": 69,
     "metadata": {},
     "output_type": "execute_result"
    }
   ],
   "source": [
    "accuracy"
   ]
  },
  {
   "cell_type": "code",
   "execution_count": null,
   "id": "bd27b3b1-02b1-407f-b29c-946b5f43b2c6",
   "metadata": {},
   "outputs": [],
   "source": [
    "#Deep Learning de Başarı oranını arttırmak:\n",
    "1- Layers sayisini arttirmak\n",
    "2- Neuron Sayısını arttırmak (parantezdeki 60-10 gibi yazan)\n",
    "3- Dropout Overfitting engeller daha iyi öğrenmeyi sağlar\n",
    "4- BatchNormalization ile kalan verileri daha iyi işlemek her işlemde"
   ]
  },
  {
   "cell_type": "code",
   "execution_count": null,
   "id": "3676db68-25dc-4b77-80dc-2f2304aba006",
   "metadata": {},
   "outputs": [],
   "source": [
    "model=Sequential()\n",
    "model.add(InputLayer(input_shape=(28,28)))\n",
    "model.add(Reshape(target_shape=(28,28,1)))\n",
    "model.add(BatchNormalization())\n",
    "model.add(Conv2D(filters=12, kernel_size=(3,3),activation='relu'))\n",
    "model.add(MaxPooling2D(pool_size=(2,2)))\n",
    "model.add(Flatten())\n",
    "model.add(BatchNormalization())\n",
    "model.add(Dense(60))\n",
    "model.add(Dropout(.25))\n",
    "model.add(Dense(10)) #10 farklı cevap classification 0-9 a kadar olan rakamlar\n",
    "model. compile(optimizer='adam',loss=tf.keras.losses.SparseCategoricalCrossentropy(from_logits=True),metrics=['accuracy'])"
   ]
  },
  {
   "cell_type": "code",
   "execution_count": 71,
   "id": "1edbf6c6-2089-489b-81d2-230bdcbcdad3",
   "metadata": {},
   "outputs": [
    {
     "name": "stderr",
     "output_type": "stream",
     "text": [
      "WARNING:absl:You are saving your model as an HDF5 file via `model.save()` or `keras.saving.save_model(model)`. This file format is considered legacy. We recommend using instead the native Keras format, e.g. `model.save('my_model.keras')` or `keras.saving.save_model(model, 'my_model.keras')`. \n"
     ]
    }
   ],
   "source": [
    "model.save('benimelyazmasitaniyanmodelim.h5')"
   ]
  },
  {
   "cell_type": "code",
   "execution_count": null,
   "id": "eb11667b-4fc0-41b2-a918-45d71ca581f2",
   "metadata": {},
   "outputs": [],
   "source": [
    "#df=tf.keras.utils.image_dataset_from_directory('Skin_Data') veriset okuma, klasör örneğin horse,bird label olabilir"
   ]
  },
  {
   "cell_type": "code",
   "execution_count": null,
   "id": "cb9bdf6f-3e8b-4774-a196-44efb9633a4a",
   "metadata": {},
   "outputs": [],
   "source": [
    "### Large Language Models - ChatGPT veya Gemini next lesson"
   ]
  }
 ],
 "metadata": {
  "kernelspec": {
   "display_name": "Python 3 (ipykernel)",
   "language": "python",
   "name": "python3"
  },
  "language_info": {
   "codemirror_mode": {
    "name": "ipython",
    "version": 3
   },
   "file_extension": ".py",
   "mimetype": "text/x-python",
   "name": "python",
   "nbconvert_exporter": "python",
   "pygments_lexer": "ipython3",
   "version": "3.12.4"
  }
 },
 "nbformat": 4,
 "nbformat_minor": 5
}
