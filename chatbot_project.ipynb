{
  "nbformat": 4,
  "nbformat_minor": 0,
  "metadata": {
    "colab": {
      "provenance": []
    },
    "kernelspec": {
      "name": "python3",
      "display_name": "Python 3"
    },
    "language_info": {
      "name": "python"
    }
  },
  "cells": [
    {
      "cell_type": "code",
      "execution_count": null,
      "metadata": {
        "colab": {
          "base_uri": "https://localhost:8080/"
        },
        "id": "6klPw8Y2IQw9",
        "outputId": "e7506c03-6a5a-4bd0-978e-35403822d1c2"
      },
      "outputs": [
        {
          "output_type": "stream",
          "name": "stdout",
          "text": [
            "✅ Model and vectorizer saved successfully!\n"
          ]
        }
      ],
      "source": [
        "# 📦 Imports\n",
        "import nltk\n",
        "import json\n",
        "import pickle\n",
        "from nltk.tokenize import RegexpTokenizer\n",
        "from sklearn.feature_extraction.text import TfidfVectorizer\n",
        "from sklearn.linear_model import LogisticRegression\n",
        "\n",
        "# ✅ NLTK download (punkt değil, RegexpTokenizer kullanılacak)\n",
        "# nltk.download(\"punkt\")  # GEREKMİYOR artık\n",
        "\n",
        "# ✅ Load the data\n",
        "with open(\"intents.json\") as file:\n",
        "    data = json.load(file)\n",
        "\n",
        "# ✅ Data prep\n",
        "X = []\n",
        "y = []\n",
        "tokenizer = RegexpTokenizer(r\"\\w+\")  # Noktalama işaretleri hariç\n",
        "\n",
        "for intent in data[\"intents\"]:\n",
        "    for pattern in intent[\"patterns\"]:\n",
        "        tokens = tokenizer.tokenize(pattern.lower())\n",
        "        X.append(\" \".join(tokens))\n",
        "        y.append(intent[\"tag\"])\n",
        "\n",
        "# ✅ Vectorize\n",
        "vectorizer = TfidfVectorizer()\n",
        "X_vectorized = vectorizer.fit_transform(X)\n",
        "\n",
        "# ✅ Train\n",
        "model = LogisticRegression()\n",
        "model.fit(X_vectorized, y)\n",
        "\n",
        "# ✅ Save\n",
        "with open(\"chatbot_model.pkl\", \"wb\") as f:\n",
        "    pickle.dump(model, f)\n",
        "\n",
        "with open(\"vectorizer.pkl\", \"wb\") as f:\n",
        "    pickle.dump(vectorizer, f)\n",
        "\n",
        "print(\"✅ Model and vectorizer saved successfully!\")\n"
      ]
    },
    {
      "cell_type": "code",
      "source": [],
      "metadata": {
        "id": "ymE-OwONIcq3"
      },
      "execution_count": null,
      "outputs": []
    }
  ]
}