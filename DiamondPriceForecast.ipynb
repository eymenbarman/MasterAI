{
  "nbformat": 4,
  "nbformat_minor": 0,
  "metadata": {
    "colab": {
      "provenance": []
    },
    "kernelspec": {
      "name": "python3",
      "display_name": "Python 3"
    },
    "language_info": {
      "name": "python"
    }
  },
  "cells": [
    {
      "cell_type": "code",
      "execution_count": null,
      "metadata": {
        "colab": {
          "base_uri": "https://localhost:8080/"
        },
        "id": "YmXidY1CyhTP",
        "outputId": "11c1eea4-ac4a-48e5-bcaf-48f101335fea"
      },
      "outputs": [
        {
          "output_type": "stream",
          "name": "stdout",
          "text": [
            "   Unnamed: 0  carat      cut color clarity  depth  table  price     x     y  \\\n",
            "0           1   0.23    Ideal     E     SI2   61.5   55.0    326  3.95  3.98   \n",
            "1           2   0.21  Premium     E     SI1   59.8   61.0    326  3.89  3.84   \n",
            "2           3   0.23     Good     E     VS1   56.9   65.0    327  4.05  4.07   \n",
            "3           4   0.29  Premium     I     VS2   62.4   58.0    334  4.20  4.23   \n",
            "4           5   0.31     Good     J     SI2   63.3   58.0    335  4.34  4.35   \n",
            "\n",
            "      z  \n",
            "0  2.43  \n",
            "1  2.31  \n",
            "2  2.31  \n",
            "3  2.63  \n",
            "4  2.75  \n",
            "\n",
            "Columns:\n",
            " Index(['Unnamed: 0', 'carat', 'cut', 'color', 'clarity', 'depth', 'table',\n",
            "       'price', 'x', 'y', 'z'],\n",
            "      dtype='object')\n",
            "\n",
            "Info:\n",
            "<class 'pandas.core.frame.DataFrame'>\n",
            "RangeIndex: 53940 entries, 0 to 53939\n",
            "Data columns (total 11 columns):\n",
            " #   Column      Non-Null Count  Dtype  \n",
            "---  ------      --------------  -----  \n",
            " 0   Unnamed: 0  53940 non-null  int64  \n",
            " 1   carat       53940 non-null  float64\n",
            " 2   cut         53940 non-null  object \n",
            " 3   color       53940 non-null  object \n",
            " 4   clarity     53940 non-null  object \n",
            " 5   depth       53940 non-null  float64\n",
            " 6   table       53940 non-null  float64\n",
            " 7   price       53940 non-null  int64  \n",
            " 8   x           53940 non-null  float64\n",
            " 9   y           53940 non-null  float64\n",
            " 10  z           53940 non-null  float64\n",
            "dtypes: float64(6), int64(2), object(3)\n",
            "memory usage: 4.5+ MB\n",
            "None\n",
            "\n",
            "Describe:\n",
            "         Unnamed: 0         carat         depth         table         price  \\\n",
            "count  53940.000000  53940.000000  53940.000000  53940.000000  53940.000000   \n",
            "mean   26970.500000      0.797940     61.749405     57.457184   3932.799722   \n",
            "std    15571.281097      0.474011      1.432621      2.234491   3989.439738   \n",
            "min        1.000000      0.200000     43.000000     43.000000    326.000000   \n",
            "25%    13485.750000      0.400000     61.000000     56.000000    950.000000   \n",
            "50%    26970.500000      0.700000     61.800000     57.000000   2401.000000   \n",
            "75%    40455.250000      1.040000     62.500000     59.000000   5324.250000   \n",
            "max    53940.000000      5.010000     79.000000     95.000000  18823.000000   \n",
            "\n",
            "                  x             y             z  \n",
            "count  53940.000000  53940.000000  53940.000000  \n",
            "mean       5.731157      5.734526      3.538734  \n",
            "std        1.121761      1.142135      0.705699  \n",
            "min        0.000000      0.000000      0.000000  \n",
            "25%        4.710000      4.720000      2.910000  \n",
            "50%        5.700000      5.710000      3.530000  \n",
            "75%        6.540000      6.540000      4.040000  \n",
            "max       10.740000     58.900000     31.800000  \n"
          ]
        }
      ],
      "source": [
        "import pandas as pd\n",
        "\n",
        "# Dosyayı yükle\n",
        "df = pd.read_csv(\"diamonds.csv\")\n",
        "\n",
        "# İlk 5 satır\n",
        "print(df.head())\n",
        "\n",
        "# Sütun isimleri\n",
        "print(\"\\nColumns:\\n\", df.columns)\n",
        "\n",
        "# Veri yapısı ve boşluk kontrolü\n",
        "print(\"\\nInfo:\")\n",
        "print(df.info())\n",
        "\n",
        "# Temel istatistikler\n",
        "print(\"\\nDescribe:\")\n",
        "print(df.describe())\n"
      ]
    },
    {
      "cell_type": "code",
      "source": [
        "X = df.drop('price', axis=1)\n",
        "y = df['price']\n"
      ],
      "metadata": {
        "id": "488naAmpzTro"
      },
      "execution_count": null,
      "outputs": []
    },
    {
      "cell_type": "code",
      "source": [
        "from sklearn.preprocessing import LabelEncoder\n",
        "\n",
        "# Label Encoding for categorical columns\n",
        "for col in ['cut', 'color', 'clarity']:\n",
        "    le = LabelEncoder()\n",
        "    df[col] = le.fit_transform(df[col])\n"
      ],
      "metadata": {
        "id": "6RPUGNYzzylR"
      },
      "execution_count": null,
      "outputs": []
    },
    {
      "cell_type": "code",
      "source": [
        "from sklearn.ensemble import RandomForestRegressor\n",
        "from sklearn.model_selection import train_test_split\n",
        "from sklearn.preprocessing import LabelEncoder\n",
        "import pickle\n",
        "import pandas as pd\n",
        "\n",
        "# Veri\n",
        "df = pd.read_csv(\"diamonds.csv\")\n",
        "\n",
        "# Kategorik değişkenleri encode edelim\n",
        "for col in ['cut', 'color', 'clarity']:\n",
        "    le = LabelEncoder()\n",
        "    df[col] = le.fit_transform(df[col])\n",
        "\n",
        "# Model eğitimi\n",
        "X = df.drop(columns=[\"price\", \"Unnamed: 0\"])\n",
        "y = df[\"price\"]\n",
        "\n",
        "X_train, X_test, y_train, y_test = train_test_split(X, y, test_size=0.2, random_state=42)\n",
        "\n",
        "# Daha hafif model\n",
        "model = RandomForestRegressor(n_estimators=10, max_depth=5, random_state=42)\n",
        "model.fit(X_train, y_train)\n",
        "\n",
        "# Kaydet\n",
        "with open(\"diamond_model_light.pkl\", \"wb\") as f:\n",
        "    pickle.dump(model, f)\n"
      ],
      "metadata": {
        "id": "8YaPEpzxzfvV"
      },
      "execution_count": null,
      "outputs": []
    },
    {
      "cell_type": "code",
      "source": [],
      "metadata": {
        "id": "bEtmQYWGzh3U"
      },
      "execution_count": null,
      "outputs": []
    }
  ]
}