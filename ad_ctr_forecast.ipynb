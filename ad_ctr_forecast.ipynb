{
  "nbformat": 4,
  "nbformat_minor": 0,
  "metadata": {
    "colab": {
      "provenance": []
    },
    "kernelspec": {
      "name": "python3",
      "display_name": "Python 3"
    },
    "language_info": {
      "name": "python"
    }
  },
  "cells": [
    {
      "cell_type": "code",
      "execution_count": null,
      "metadata": {
        "colab": {
          "base_uri": "https://localhost:8080/"
        },
        "id": "ykTNup4VYG01",
        "outputId": "55eafc44-c609-493a-e48e-718d6c189be7"
      },
      "outputs": [
        {
          "output_type": "stream",
          "name": "stdout",
          "text": [
            "         Date  Clicks  Impressions\n",
            "0  2022-10-19    2851        58598\n",
            "1  2022-10-20    2707        57628\n",
            "2  2022-10-21    2246        50135\n",
            "3  2022-10-22    1686        40608\n",
            "4  2022-10-23    1808        41999\n",
            "Index(['Date', 'Clicks', 'Impressions'], dtype='object')\n"
          ]
        }
      ],
      "source": [
        "import pandas as pd\n",
        "\n",
        "df = pd.read_csv(\"ctr.csv\")\n",
        "print(df.head())\n",
        "print(df.columns)"
      ]
    },
    {
      "cell_type": "code",
      "source": [
        "df = df[df[\"Impressions\"] > 0]  # sıfıra bölme engeli\n",
        "df[\"CTR\"] = df[\"Clicks\"] / df[\"Impressions\"]\n"
      ],
      "metadata": {
        "id": "kWs7vJIGdkXh"
      },
      "execution_count": null,
      "outputs": []
    },
    {
      "cell_type": "code",
      "source": [
        "X = df[[\"Clicks\", \"Impressions\"]]\n",
        "y = df[\"CTR\"]\n"
      ],
      "metadata": {
        "id": "N-ithOf6duuv"
      },
      "execution_count": null,
      "outputs": []
    },
    {
      "cell_type": "code",
      "source": [
        "from sklearn.model_selection import train_test_split\n",
        "from sklearn.ensemble import RandomForestRegressor\n",
        "from sklearn.metrics import mean_squared_error\n",
        "import pickle\n",
        "\n",
        "X_train, X_test, y_train, y_test = train_test_split(X, y, test_size=0.2, random_state=42)\n",
        "\n",
        "model = RandomForestRegressor()\n",
        "model.fit(X_train, y_train)\n",
        "\n",
        "y_pred = model.predict(X_test)\n",
        "from sklearn.metrics import mean_squared_error\n",
        "import numpy as np\n",
        "\n",
        "mse = mean_squared_error(y_test, y_pred)\n",
        "rmse = np.sqrt(mse)\n",
        "\n",
        "print(\"RMSE:\", rmse)\n",
        "\n",
        "\n",
        "# Modeli kaydet\n",
        "with open(\"ctr_model.pkl\", \"wb\") as f:\n",
        "    pickle.dump(model, f)\n"
      ],
      "metadata": {
        "colab": {
          "base_uri": "https://localhost:8080/"
        },
        "id": "713-yGkbdwDy",
        "outputId": "72c2f633-88b5-4e1d-d47c-29031944aeea"
      },
      "execution_count": null,
      "outputs": [
        {
          "output_type": "stream",
          "name": "stdout",
          "text": [
            "RMSE: 0.000980707108890529\n"
          ]
        }
      ]
    },
    {
      "cell_type": "code",
      "source": [],
      "metadata": {
        "id": "CWc0rAhpey45"
      },
      "execution_count": null,
      "outputs": []
    }
  ]
}