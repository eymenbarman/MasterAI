{
 "cells": [
  {
   "cell_type": "code",
   "execution_count": 5,
   "id": "41374a8f-0a73-45e0-9042-5b709eac63a3",
   "metadata": {},
   "outputs": [],
   "source": [
    "#pip install ollama"
   ]
  },
  {
   "cell_type": "code",
   "execution_count": 7,
   "id": "a67a0702-6860-48f3-a9ea-2d5452dcaa5e",
   "metadata": {},
   "outputs": [
    {
     "name": "stdout",
     "output_type": "stream",
     "text": [
      "role='assistant' content=\" Turkey, officially known as the Republic of Turkey, is a transcontinental country located mainly in Western Asia with a smaller part on the Balkan Peninsula in Southeastern Europe. It is bordered by eight countries: Greece and Bulgaria to the northwest; Georgia to the northeast; Armenia, Azerbaijan (the exclave of Nakhchivan), and Iran to the east; Iraq and Syria to the southeast; and Cyprus to the south.\\n\\nTurkey is known for its rich history, vibrant culture, and geographical diversity. Istanbul, the country's largest city, straddles Europe and Asia and serves as a bridge between these two continents both historically and culturally. Major tourist attractions include historical sites like Hagia Sophia and Topkapi Palace in Istanbul, Cappadocia's unique fairy chimneys, Ephesus ancient ruins, and the stunning landscapes of Pamukkale.\\n\\nTurkey is also famous for its cuisine, with dishes such as kebabs, baklava, and Turkish Delight being popular around the world. The official language is Turkish, and the currency is the Turkish Lira (TRY).\" images=None tool_calls=None\n"
     ]
    }
   ],
   "source": [
    "import ollama\n",
    "messages=[\n",
    "    {\"role\":\"user\",\"content\":\"tell me about Turkey very short\"}\n",
    "]\n",
    "\n",
    "response=ollama.chat(model='mistral',messages=messages)\n",
    "print(response['message'])"
   ]
  },
  {
   "cell_type": "code",
   "execution_count": 8,
   "id": "9dd420e6-791a-4c48-8865-c090f4babceb",
   "metadata": {},
   "outputs": [
    {
     "name": "stdout",
     "output_type": "stream",
     "text": [
      " Turkey, officially known as the Republic of Turkey, is a transcontinental country located mainly in Western Asia with a smaller part on the Balkan Peninsula in Southeastern Europe. It is bordered by eight countries: Greece and Bulgaria to the northwest; Georgia to the northeast; Armenia, Azerbaijan (the exclave of Nakhchivan), and Iran to the east; Iraq and Syria to the southeast; and Cyprus to the south.\n",
      "\n",
      "Turkey is known for its rich history, vibrant culture, and geographical diversity. Istanbul, the country's largest city, straddles Europe and Asia and serves as a bridge between these two continents both historically and culturally. Major tourist attractions include historical sites like Hagia Sophia and Topkapi Palace in Istanbul, Cappadocia's unique fairy chimneys, Ephesus ancient ruins, and the stunning landscapes of Pamukkale.\n",
      "\n",
      "Turkey is also famous for its cuisine, with dishes such as kebabs, baklava, and Turkish Delight being popular around the world. The official language is Turkish, and the currency is the Turkish Lira (TRY).\n"
     ]
    }
   ],
   "source": [
    "print(response['message']['content'])"
   ]
  },
  {
   "cell_type": "code",
   "execution_count": null,
   "id": "e5f06349-f61a-421e-a1f1-2d57b01c3a79",
   "metadata": {},
   "outputs": [],
   "source": []
  }
 ],
 "metadata": {
  "kernelspec": {
   "display_name": "Python 3 (ipykernel)",
   "language": "python",
   "name": "python3"
  },
  "language_info": {
   "codemirror_mode": {
    "name": "ipython",
    "version": 3
   },
   "file_extension": ".py",
   "mimetype": "text/x-python",
   "name": "python",
   "nbconvert_exporter": "python",
   "pygments_lexer": "ipython3",
   "version": "3.12.4"
  }
 },
 "nbformat": 4,
 "nbformat_minor": 5
}
