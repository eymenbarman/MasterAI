{
 "cells": [
  {
   "cell_type": "markdown",
   "id": "d1746ae4-04b8-47b4-ba2f-98d947a3ed8d",
   "metadata": {},
   "source": [
    "# NLP - Data Analysis"
   ]
  },
  {
   "cell_type": "code",
   "execution_count": 2,
   "id": "239ea09e-da34-4766-83ac-bb70452c1d4b",
   "metadata": {},
   "outputs": [],
   "source": [
    "#pip install nltk  # NLP toolkit"
   ]
  },
  {
   "cell_type": "code",
   "execution_count": 3,
   "id": "bd77849c-f20e-400b-87fe-03a6c7630582",
   "metadata": {},
   "outputs": [
    {
     "name": "stderr",
     "output_type": "stream",
     "text": [
      "[nltk_data] Downloading package punkt to\n",
      "[nltk_data]     C:\\Users\\SABRI\\AppData\\Roaming\\nltk_data...\n",
      "[nltk_data]   Package punkt is already up-to-date!\n"
     ]
    },
    {
     "data": {
      "text/plain": [
       "True"
      ]
     },
     "execution_count": 3,
     "metadata": {},
     "output_type": "execute_result"
    }
   ],
   "source": [
    "import nltk\n",
    "nltk.download('punkt')"
   ]
  },
  {
   "cell_type": "markdown",
   "id": "2ddb4ba4-c268-4ebc-88e9-b92b0e8ff9be",
   "metadata": {},
   "source": [
    "### Tokenization -Backbone of NLP"
   ]
  },
  {
   "cell_type": "code",
   "execution_count": 5,
   "id": "6dafd2ee-54f6-4a94-94d1-d6fbb415e8ed",
   "metadata": {},
   "outputs": [],
   "source": [
    "text='Yaylaya gitmişti yayla zamanı, Gülizar döndü de Döndü dönmedi. I hope you find it interesting'"
   ]
  },
  {
   "cell_type": "code",
   "execution_count": 6,
   "id": "f60dc659-d1fe-4f65-b6eb-533ddd3b15a5",
   "metadata": {},
   "outputs": [],
   "source": [
    "# word tokenization"
   ]
  },
  {
   "cell_type": "code",
   "execution_count": 7,
   "id": "bcbe1a10-f000-4ae4-8bd2-763f3182611e",
   "metadata": {},
   "outputs": [
    {
     "name": "stdout",
     "output_type": "stream",
     "text": [
      "['Yaylaya', 'gitmişti', 'yayla', 'zamanı,', 'Gülizar', 'döndü', 'de', 'Döndü', 'dönmedi.', 'I', 'hope', 'you', 'find', 'it', 'interesting']\n"
     ]
    }
   ],
   "source": [
    "print(text.split())   # split and make it list text, sententences. This is tokenization."
   ]
  },
  {
   "cell_type": "code",
   "execution_count": 8,
   "id": "fc36c627-b333-40e9-b45b-0c7ffe2a5e69",
   "metadata": {},
   "outputs": [],
   "source": [
    "#list =[]\n",
    "#dictionary={'key':'explanation'}\n",
    "#tuple=()  #cannotchange content\n",
    "#set() #only take unique values"
   ]
  },
  {
   "cell_type": "code",
   "execution_count": 9,
   "id": "249ec51f-b3a3-4a50-996e-4960bda16a04",
   "metadata": {},
   "outputs": [],
   "source": [
    "#sentence tokenization"
   ]
  },
  {
   "cell_type": "code",
   "execution_count": 10,
   "id": "d0dd0fb2-7bee-4c65-964a-e90d3c570042",
   "metadata": {},
   "outputs": [
    {
     "name": "stdout",
     "output_type": "stream",
     "text": [
      "['Yaylaya gitmişti yayla zamanı, Gülizar döndü de Döndü dönmedi', ' I hope you find it interesting']\n"
     ]
    }
   ],
   "source": [
    "print(text.split('.'))"
   ]
  },
  {
   "cell_type": "code",
   "execution_count": 11,
   "id": "e9a51d98-dca9-41cc-a14f-8cc1855fb4a9",
   "metadata": {},
   "outputs": [
    {
     "data": {
      "text/plain": [
       "'yaylaya gitmişti yayla zamanı, gülizar döndü de döndü dönmedi. i hope you find it interesting'"
      ]
     },
     "execution_count": 11,
     "metadata": {},
     "output_type": "execute_result"
    }
   ],
   "source": [
    "text.lower()"
   ]
  },
  {
   "cell_type": "code",
   "execution_count": 12,
   "id": "cac1b206-e3df-407d-b26c-66ff51059fbd",
   "metadata": {},
   "outputs": [
    {
     "data": {
      "text/plain": [
       "'YAYLAYA GITMIŞTI YAYLA ZAMANI, GÜLIZAR DÖNDÜ DE DÖNDÜ DÖNMEDI. I HOPE YOU FIND IT INTERESTING'"
      ]
     },
     "execution_count": 12,
     "metadata": {},
     "output_type": "execute_result"
    }
   ],
   "source": [
    "text.upper()"
   ]
  },
  {
   "cell_type": "code",
   "execution_count": 13,
   "id": "6a2e63d7-3b57-4a68-80c1-9138de7e35e6",
   "metadata": {},
   "outputs": [],
   "source": [
    "ex1='John did not go to Bank although the banker called him'"
   ]
  },
  {
   "cell_type": "code",
   "execution_count": 14,
   "id": "c1c1cef3-5d41-45eb-864a-3113c27e4d97",
   "metadata": {},
   "outputs": [
    {
     "name": "stdout",
     "output_type": "stream",
     "text": [
      "['John', 'did', 'not', 'go', 'to', 'Bank', 'although', 'the', 'banker', 'called', 'him']\n"
     ]
    }
   ],
   "source": [
    "print(ex1.split())"
   ]
  },
  {
   "cell_type": "code",
   "execution_count": 15,
   "id": "bc95c7e0-7901-4377-aad8-827e774873fd",
   "metadata": {},
   "outputs": [],
   "source": [
    "import re # regular expression"
   ]
  },
  {
   "cell_type": "code",
   "execution_count": 16,
   "id": "8d17fe83-e19f-4f7f-94a0-3a2032b24b07",
   "metadata": {},
   "outputs": [
    {
     "name": "stdout",
     "output_type": "stream",
     "text": [
      "['John', 'did', 'not', 'go', 'to', 'Bank', 'although', 'the', 'banker', 'called', 'him']\n"
     ]
    }
   ],
   "source": [
    "print(re.split(r'\\W+',ex1))"
   ]
  },
  {
   "cell_type": "markdown",
   "id": "5cdb9a79-7a85-4eee-b1ba-a57dc75c4d32",
   "metadata": {},
   "source": [
    "### didn't, isn't, I am I'm , aint instead of is'nt,aren't, -->contractions "
   ]
  },
  {
   "cell_type": "code",
   "execution_count": 18,
   "id": "22c958b0-88c8-40ee-91a3-96aef9f302ec",
   "metadata": {},
   "outputs": [],
   "source": [
    "from nltk.tokenize import word_tokenize, sent_tokenize, WordPunctTokenizer, WhitespaceTokenizer, TreebankWordTokenizer"
   ]
  },
  {
   "cell_type": "code",
   "execution_count": 19,
   "id": "81b2b897-a24c-4791-9037-8986b0109383",
   "metadata": {},
   "outputs": [
    {
     "name": "stdout",
     "output_type": "stream",
     "text": [
      "['John', 'did', 'not', 'go', 'to', 'Bank', 'although', 'the', 'banker', 'called', 'him']\n"
     ]
    }
   ],
   "source": [
    "print(word_tokenize(ex1))"
   ]
  },
  {
   "cell_type": "code",
   "execution_count": 20,
   "id": "abb009a7-e8b7-4a50-b7a9-233d1c5fd296",
   "metadata": {},
   "outputs": [
    {
     "data": {
      "text/plain": [
       "['Yaylaya gitmişti yayla zamanı, Gülizar döndü de Döndü dönmedi.',\n",
       " 'I hope you find it interesting']"
      ]
     },
     "execution_count": 20,
     "metadata": {},
     "output_type": "execute_result"
    }
   ],
   "source": [
    "sent_tokenize(text)"
   ]
  },
  {
   "cell_type": "code",
   "execution_count": 21,
   "id": "8c0d3d03-85d5-4906-a4d3-b3cb8fe46152",
   "metadata": {},
   "outputs": [],
   "source": [
    "# Stop Words - Unnecessary Wwords , is was, as,they, as, like, for, not main goal as word"
   ]
  },
  {
   "cell_type": "code",
   "execution_count": 22,
   "id": "068c51a5-849a-4f30-af60-59d041679c9b",
   "metadata": {},
   "outputs": [
    {
     "name": "stderr",
     "output_type": "stream",
     "text": [
      "[nltk_data] Downloading package stopwords to\n",
      "[nltk_data]     C:\\Users\\SABRI\\AppData\\Roaming\\nltk_data...\n",
      "[nltk_data]   Package stopwords is already up-to-date!\n"
     ]
    },
    {
     "data": {
      "text/plain": [
       "True"
      ]
     },
     "execution_count": 22,
     "metadata": {},
     "output_type": "execute_result"
    }
   ],
   "source": [
    "import nltk\n",
    "nltk.download('stopwords')"
   ]
  },
  {
   "cell_type": "code",
   "execution_count": 23,
   "id": "8471eddc-3d4f-4f44-baf5-380d111414b4",
   "metadata": {},
   "outputs": [
    {
     "name": "stdout",
     "output_type": "stream",
     "text": [
      "['i', 'me', 'my', 'myself', 'we', 'our', 'ours', 'ourselves', 'you', \"you're\", \"you've\", \"you'll\", \"you'd\", 'your', 'yours', 'yourself', 'yourselves', 'he', 'him', 'his', 'himself', 'she', \"she's\", 'her', 'hers', 'herself', 'it', \"it's\", 'its', 'itself', 'they', 'them', 'their', 'theirs', 'themselves', 'what', 'which', 'who', 'whom', 'this', 'that', \"that'll\", 'these', 'those', 'am', 'is', 'are', 'was', 'were', 'be', 'been', 'being', 'have', 'has', 'had', 'having', 'do', 'does', 'did', 'doing', 'a', 'an', 'the', 'and', 'but', 'if', 'or', 'because', 'as', 'until', 'while', 'of', 'at', 'by', 'for', 'with', 'about', 'against', 'between', 'into', 'through', 'during', 'before', 'after', 'above', 'below', 'to', 'from', 'up', 'down', 'in', 'out', 'on', 'off', 'over', 'under', 'again', 'further', 'then', 'once', 'here', 'there', 'when', 'where', 'why', 'how', 'all', 'any', 'both', 'each', 'few', 'more', 'most', 'other', 'some', 'such', 'no', 'nor', 'not', 'only', 'own', 'same', 'so', 'than', 'too', 'very', 's', 't', 'can', 'will', 'just', 'don', \"don't\", 'should', \"should've\", 'now', 'd', 'll', 'm', 'o', 're', 've', 'y', 'ain', 'aren', \"aren't\", 'couldn', \"couldn't\", 'didn', \"didn't\", 'doesn', \"doesn't\", 'hadn', \"hadn't\", 'hasn', \"hasn't\", 'haven', \"haven't\", 'isn', \"isn't\", 'ma', 'mightn', \"mightn't\", 'mustn', \"mustn't\", 'needn', \"needn't\", 'shan', \"shan't\", 'shouldn', \"shouldn't\", 'wasn', \"wasn't\", 'weren', \"weren't\", 'won', \"won't\", 'wouldn', \"wouldn't\"]\n"
     ]
    }
   ],
   "source": [
    "print(nltk.corpus.stopwords.words('english'))"
   ]
  },
  {
   "cell_type": "code",
   "execution_count": 24,
   "id": "7307a212-d6d5-41c5-835e-08cc3bf7bcb4",
   "metadata": {},
   "outputs": [],
   "source": [
    "from nltk.stem import PorterStemmer"
   ]
  },
  {
   "cell_type": "code",
   "execution_count": 25,
   "id": "955d23e2-dd16-491a-b595-afc2b7a3dd4b",
   "metadata": {},
   "outputs": [],
   "source": [
    "ps=PorterStemmer()"
   ]
  },
  {
   "cell_type": "code",
   "execution_count": 26,
   "id": "900b1f6a-7ed9-4840-b015-dc8a63bbb6c9",
   "metadata": {},
   "outputs": [
    {
     "data": {
      "text/plain": [
       "'happi'"
      ]
     },
     "execution_count": 26,
     "metadata": {},
     "output_type": "execute_result"
    }
   ],
   "source": [
    "ps.stem('happiness')"
   ]
  },
  {
   "cell_type": "code",
   "execution_count": 27,
   "id": "49098cf7-b172-41b4-aea5-a8f5b0f8f88c",
   "metadata": {},
   "outputs": [
    {
     "data": {
      "text/plain": [
       "'play'"
      ]
     },
     "execution_count": 27,
     "metadata": {},
     "output_type": "execute_result"
    }
   ],
   "source": [
    "ps.stem('played')"
   ]
  },
  {
   "cell_type": "code",
   "execution_count": 28,
   "id": "d9321c4f-a0c0-4aa5-9e6f-1e7ef312d0d8",
   "metadata": {},
   "outputs": [],
   "source": [
    "from nltk.stem import LancasterStemmer"
   ]
  },
  {
   "cell_type": "code",
   "execution_count": 29,
   "id": "f1b39b9f-11d1-4946-bb80-28f837af563f",
   "metadata": {},
   "outputs": [
    {
     "data": {
      "text/plain": [
       "'happy'"
      ]
     },
     "execution_count": 29,
     "metadata": {},
     "output_type": "execute_result"
    }
   ],
   "source": [
    "LancasterStemmer().stem('Happiness')"
   ]
  },
  {
   "cell_type": "code",
   "execution_count": 30,
   "id": "d7094629-61c5-4970-9f5c-8ad8502381ce",
   "metadata": {},
   "outputs": [],
   "source": [
    "from nltk.stem import SnowballStemmer"
   ]
  },
  {
   "cell_type": "code",
   "execution_count": 31,
   "id": "f7c6699b-6ca3-4b8e-9c22-6d76a7d60103",
   "metadata": {},
   "outputs": [
    {
     "data": {
      "text/plain": [
       "('arabic',\n",
       " 'danish',\n",
       " 'dutch',\n",
       " 'english',\n",
       " 'finnish',\n",
       " 'french',\n",
       " 'german',\n",
       " 'hungarian',\n",
       " 'italian',\n",
       " 'norwegian',\n",
       " 'porter',\n",
       " 'portuguese',\n",
       " 'romanian',\n",
       " 'russian',\n",
       " 'spanish',\n",
       " 'swedish')"
      ]
     },
     "execution_count": 31,
     "metadata": {},
     "output_type": "execute_result"
    }
   ],
   "source": [
    "SnowballStemmer.languages"
   ]
  },
  {
   "cell_type": "code",
   "execution_count": 32,
   "id": "4c2a3612-f92d-4bce-a209-64863bcb0478",
   "metadata": {},
   "outputs": [],
   "source": [
    "#pip install TurkishStemmer"
   ]
  },
  {
   "cell_type": "code",
   "execution_count": 33,
   "id": "29740890-9fc1-48d9-9a79-1169cea0471f",
   "metadata": {},
   "outputs": [],
   "source": [
    "from TurkishStemmer import TurkishStemmer"
   ]
  },
  {
   "cell_type": "code",
   "execution_count": 34,
   "id": "434f6cd9-5f0e-4109-8468-4c6f1b59793c",
   "metadata": {},
   "outputs": [
    {
     "data": {
      "text/plain": [
       "'git'"
      ]
     },
     "execution_count": 34,
     "metadata": {},
     "output_type": "execute_result"
    }
   ],
   "source": [
    "TurkishStemmer().stem('gittim')"
   ]
  },
  {
   "cell_type": "code",
   "execution_count": 35,
   "id": "4b238a24-6cf3-486c-ad58-15ac4ef07af3",
   "metadata": {},
   "outputs": [],
   "source": [
    "frstemmer=SnowballStemmer('french')"
   ]
  },
  {
   "cell_type": "code",
   "execution_count": 36,
   "id": "bc5585aa-a861-43c7-8dc4-d38efd787f2a",
   "metadata": {},
   "outputs": [
    {
     "data": {
      "text/plain": [
       "'bonjour'"
      ]
     },
     "execution_count": 36,
     "metadata": {},
     "output_type": "execute_result"
    }
   ],
   "source": [
    "frstemmer.stem('bonjour')"
   ]
  },
  {
   "cell_type": "code",
   "execution_count": 37,
   "id": "af9fb59f-7c91-41f9-8174-42a215185c26",
   "metadata": {},
   "outputs": [],
   "source": [
    "spstemmer=SnowballStemmer('spanish')"
   ]
  },
  {
   "cell_type": "code",
   "execution_count": 38,
   "id": "dd0fdcde-5e3f-498d-a01a-8e3e4f821d44",
   "metadata": {},
   "outputs": [
    {
     "data": {
      "text/plain": [
       "'con'"
      ]
     },
     "execution_count": 38,
     "metadata": {},
     "output_type": "execute_result"
    }
   ],
   "source": [
    "spstemmer.stem('coniendo')"
   ]
  },
  {
   "cell_type": "markdown",
   "id": "0a9ad838-efe7-46ff-9d0e-d45ccd99b6fb",
   "metadata": {},
   "source": [
    "### POS - Part of Speech - Verb, Subject, Adverb - Adjective"
   ]
  },
  {
   "cell_type": "code",
   "execution_count": 40,
   "id": "4d801468-62e6-4558-b7f0-3c7b24f655ff",
   "metadata": {},
   "outputs": [
    {
     "name": "stderr",
     "output_type": "stream",
     "text": [
      "[nltk_data] Downloading package averaged_perceptron_tagger to\n",
      "[nltk_data]     C:\\Users\\SABRI\\AppData\\Roaming\\nltk_data...\n",
      "[nltk_data]   Package averaged_perceptron_tagger is already up-to-\n",
      "[nltk_data]       date!\n"
     ]
    },
    {
     "data": {
      "text/plain": [
       "True"
      ]
     },
     "execution_count": 40,
     "metadata": {},
     "output_type": "execute_result"
    }
   ],
   "source": [
    "nltk.download('averaged_perceptron_tagger')"
   ]
  },
  {
   "cell_type": "code",
   "execution_count": 41,
   "id": "b11637da-49e4-44af-b140-56aa67ad4047",
   "metadata": {},
   "outputs": [],
   "source": [
    "cumle='Welcome, readers.. I hope you find it interesting. Please call me phone'.split()"
   ]
  },
  {
   "cell_type": "code",
   "execution_count": 42,
   "id": "7bf3d6b0-3fe1-489f-adfd-be772023af3a",
   "metadata": {},
   "outputs": [
    {
     "data": {
      "text/plain": [
       "[('Welcome,', 'NNP'),\n",
       " ('readers..', 'NN'),\n",
       " ('I', 'PRP'),\n",
       " ('hope', 'VBP'),\n",
       " ('you', 'PRP'),\n",
       " ('find', 'VBP'),\n",
       " ('it', 'PRP'),\n",
       " ('interesting.', 'JJ'),\n",
       " ('Please', 'NNP'),\n",
       " ('call', 'VB'),\n",
       " ('me', 'PRP'),\n",
       " ('phone', 'NN')]"
      ]
     },
     "execution_count": 42,
     "metadata": {},
     "output_type": "execute_result"
    }
   ],
   "source": [
    "nltk.pos_tag(cumle)"
   ]
  },
  {
   "cell_type": "code",
   "execution_count": 43,
   "id": "d36e8fc9-3180-4698-955f-804d8eb7eb9d",
   "metadata": {},
   "outputs": [],
   "source": [
    "#pip install autocorrect "
   ]
  },
  {
   "cell_type": "code",
   "execution_count": 44,
   "id": "ae65a151-67ca-4132-aee7-2163379aced7",
   "metadata": {},
   "outputs": [],
   "source": [
    "from autocorrect import spell"
   ]
  },
  {
   "cell_type": "code",
   "execution_count": 45,
   "id": "bbb952d3-75da-4c02-8eae-3df8388ba9b9",
   "metadata": {},
   "outputs": [
    {
     "name": "stdout",
     "output_type": "stream",
     "text": [
      "autocorrect.spell is deprecated,             use autocorrect.Speller instead\n"
     ]
    },
    {
     "data": {
      "text/plain": [
       "'the'"
      ]
     },
     "execution_count": 45,
     "metadata": {},
     "output_type": "execute_result"
    }
   ],
   "source": [
    "spell('thie')"
   ]
  },
  {
   "cell_type": "code",
   "execution_count": 46,
   "id": "93877d20-31d7-4ef2-b6d5-3248ef23224a",
   "metadata": {},
   "outputs": [],
   "source": [
    "#pip install textblob"
   ]
  },
  {
   "cell_type": "code",
   "execution_count": 47,
   "id": "e7226fe8-604e-4fb2-a5ca-a480454e5d80",
   "metadata": {},
   "outputs": [],
   "source": [
    "#pip install textblob==0.17.1"
   ]
  },
  {
   "cell_type": "code",
   "execution_count": 48,
   "id": "0d46d042-ffc1-44de-88ee-597a46084301",
   "metadata": {},
   "outputs": [],
   "source": [
    "from textblob import TextBlob"
   ]
  },
  {
   "cell_type": "code",
   "execution_count": 49,
   "id": "2a3dae03-0f26-40df-9e83-0250656d4945",
   "metadata": {},
   "outputs": [],
   "source": [
    "b=TextBlob('I havee goad speling')"
   ]
  },
  {
   "cell_type": "code",
   "execution_count": 50,
   "id": "fca83276-1f30-4845-9582-65e0252c8be5",
   "metadata": {},
   "outputs": [
    {
     "data": {
      "text/plain": [
       "TextBlob(\"I have good spelling\")"
      ]
     },
     "execution_count": 50,
     "metadata": {},
     "output_type": "execute_result"
    }
   ],
   "source": [
    "b.correct()"
   ]
  },
  {
   "cell_type": "code",
   "execution_count": 51,
   "id": "3c3aadd1-a44f-46f2-b8fe-3dc06dd4b03e",
   "metadata": {},
   "outputs": [],
   "source": [
    "#pip install langdetect"
   ]
  },
  {
   "cell_type": "code",
   "execution_count": 52,
   "id": "be58079a-825a-414a-bc68-0eb5c5fbef16",
   "metadata": {},
   "outputs": [],
   "source": [
    "from langdetect import detect"
   ]
  },
  {
   "cell_type": "code",
   "execution_count": 53,
   "id": "9e445b67-4890-4335-903f-cd7b746b4405",
   "metadata": {},
   "outputs": [],
   "source": [
    "# Neurallink-Elon Musk, transfer you knowledge in your brain to another. Even your family knowledge- There are some ethical discussions on that."
   ]
  },
  {
   "cell_type": "code",
   "execution_count": 54,
   "id": "80642585-0522-4116-8709-e7ca5b22badb",
   "metadata": {},
   "outputs": [],
   "source": [
    "d=detect"
   ]
  },
  {
   "cell_type": "code",
   "execution_count": 55,
   "id": "7dac3f5a-d1c0-4439-8302-f346bfdce28a",
   "metadata": {},
   "outputs": [
    {
     "data": {
      "text/plain": [
       "'tr'"
      ]
     },
     "execution_count": 55,
     "metadata": {},
     "output_type": "execute_result"
    }
   ],
   "source": [
    "d('Döndü dönmedi')"
   ]
  },
  {
   "cell_type": "code",
   "execution_count": 56,
   "id": "e3d98bbc-1627-4971-87f6-4020f481f54e",
   "metadata": {},
   "outputs": [
    {
     "data": {
      "text/plain": [
       "'ru'"
      ]
     },
     "execution_count": 56,
     "metadata": {},
     "output_type": "execute_result"
    }
   ],
   "source": [
    "d('роскошная лодка')"
   ]
  },
  {
   "cell_type": "code",
   "execution_count": 57,
   "id": "bac4463c-b523-48bd-bd9e-5c656fb02a02",
   "metadata": {},
   "outputs": [
    {
     "data": {
      "text/plain": [
       "'ar'"
      ]
     },
     "execution_count": 57,
     "metadata": {},
     "output_type": "execute_result"
    }
   ],
   "source": [
    "d('فيلا حديقة')"
   ]
  },
  {
   "cell_type": "code",
   "execution_count": 58,
   "id": "80982396-65c4-40fb-a092-1c3f64adf3b9",
   "metadata": {},
   "outputs": [],
   "source": [
    "# Also there is googletrans package , pip install Googletrans. Then use your translator :)"
   ]
  },
  {
   "cell_type": "code",
   "execution_count": 59,
   "id": "150f8243-861f-4093-9393-f2ab54b224b7",
   "metadata": {},
   "outputs": [],
   "source": [
    "#b.translate(from_lang='en',to='tr')"
   ]
  },
  {
   "cell_type": "markdown",
   "id": "d6d5f1b7-5a88-49c0-b9ad-fe34c2b7e916",
   "metadata": {},
   "source": [
    "### NLP-Projects"
   ]
  },
  {
   "cell_type": "raw",
   "id": "e43afb13-72f2-4c73-8fb9-5d24d7d233ff",
   "metadata": {},
   "source": [
    "1- Datayı Oku\n",
    "2- herseyi kucuk harfe cevır. BEN GELDIM ben gelddim A--0.65, a- 097 in pc\n",
    "3- Noktalama işaretlerini kaldır. - Puctuation\n",
    "4- Rakamları kaldır\n",
    "5- Satır sonlarını kaldır\n",
    "6- Stop wordsleri kaldır - gereksiz kelimeleri kaldır\n",
    "7- Tokenize et - kelimeleri tek tek liste haline getirir\n",
    "8- Ekleri kaldırıp kökleri bul\n",
    "9- Vektörüze et\n",
    "10- TF/IDF Turn frequency- Inverse Frequency percentage of word frequency"
   ]
  },
  {
   "cell_type": "code",
   "execution_count": 61,
   "id": "f54332fa-13f1-489a-a780-a23af9db68d9",
   "metadata": {},
   "outputs": [],
   "source": [
    "text=['call you tonight', 'call me a cab','please call me... PLEASE']"
   ]
  },
  {
   "cell_type": "code",
   "execution_count": 62,
   "id": "6d80b91f-bcc4-4c27-83ad-fa5f92bce114",
   "metadata": {},
   "outputs": [],
   "source": [
    "#pip install scikit-learn"
   ]
  },
  {
   "cell_type": "code",
   "execution_count": 63,
   "id": "ca36180d-c575-4dbc-a2fa-0e78812b0509",
   "metadata": {},
   "outputs": [],
   "source": [
    "from sklearn.feature_extraction.text import CountVectorizer, TfidfVectorizer"
   ]
  },
  {
   "cell_type": "code",
   "execution_count": 64,
   "id": "37a396ce-0fe5-42de-ac79-3e1952f925a4",
   "metadata": {},
   "outputs": [],
   "source": [
    "vect=CountVectorizer()  #count how many words and put sentences for that word like get_dummies similar"
   ]
  },
  {
   "cell_type": "code",
   "execution_count": 65,
   "id": "ac5722d8-a012-41c7-9719-e7f1bd6d7a5f",
   "metadata": {},
   "outputs": [],
   "source": [
    "import pandas as pd"
   ]
  },
  {
   "cell_type": "code",
   "execution_count": 66,
   "id": "5492e394-fe2e-414b-a7c6-8a627fdd4925",
   "metadata": {},
   "outputs": [],
   "source": [
    "tf=pd.DataFrame(vect.fit_transform(text).toarray(), columns=vect.get_feature_names_out())"
   ]
  },
  {
   "cell_type": "code",
   "execution_count": 67,
   "id": "73bd3cae-93b1-4665-b4bc-681c273e8b35",
   "metadata": {},
   "outputs": [
    {
     "data": {
      "text/html": [
       "<div>\n",
       "<style scoped>\n",
       "    .dataframe tbody tr th:only-of-type {\n",
       "        vertical-align: middle;\n",
       "    }\n",
       "\n",
       "    .dataframe tbody tr th {\n",
       "        vertical-align: top;\n",
       "    }\n",
       "\n",
       "    .dataframe thead th {\n",
       "        text-align: right;\n",
       "    }\n",
       "</style>\n",
       "<table border=\"1\" class=\"dataframe\">\n",
       "  <thead>\n",
       "    <tr style=\"text-align: right;\">\n",
       "      <th></th>\n",
       "      <th>cab</th>\n",
       "      <th>call</th>\n",
       "      <th>me</th>\n",
       "      <th>please</th>\n",
       "      <th>tonight</th>\n",
       "      <th>you</th>\n",
       "    </tr>\n",
       "  </thead>\n",
       "  <tbody>\n",
       "    <tr>\n",
       "      <th>0</th>\n",
       "      <td>0</td>\n",
       "      <td>1</td>\n",
       "      <td>0</td>\n",
       "      <td>0</td>\n",
       "      <td>1</td>\n",
       "      <td>1</td>\n",
       "    </tr>\n",
       "    <tr>\n",
       "      <th>1</th>\n",
       "      <td>1</td>\n",
       "      <td>1</td>\n",
       "      <td>1</td>\n",
       "      <td>0</td>\n",
       "      <td>0</td>\n",
       "      <td>0</td>\n",
       "    </tr>\n",
       "    <tr>\n",
       "      <th>2</th>\n",
       "      <td>0</td>\n",
       "      <td>1</td>\n",
       "      <td>1</td>\n",
       "      <td>2</td>\n",
       "      <td>0</td>\n",
       "      <td>0</td>\n",
       "    </tr>\n",
       "  </tbody>\n",
       "</table>\n",
       "</div>"
      ],
      "text/plain": [
       "   cab  call  me  please  tonight  you\n",
       "0    0     1   0       0        1    1\n",
       "1    1     1   1       0        0    0\n",
       "2    0     1   1       2        0    0"
      ]
     },
     "execution_count": 67,
     "metadata": {},
     "output_type": "execute_result"
    }
   ],
   "source": [
    "tf"
   ]
  },
  {
   "cell_type": "code",
   "execution_count": 68,
   "id": "5435ea62-e5b0-4b98-981e-158331f89dc6",
   "metadata": {},
   "outputs": [],
   "source": [
    "df=vect.fit_transform(text).toarray().sum(axis=0)"
   ]
  },
  {
   "cell_type": "code",
   "execution_count": 69,
   "id": "f9d49f3e-f72a-416c-8fe9-046593b7890c",
   "metadata": {},
   "outputs": [
    {
     "data": {
      "text/html": [
       "<div>\n",
       "<style scoped>\n",
       "    .dataframe tbody tr th:only-of-type {\n",
       "        vertical-align: middle;\n",
       "    }\n",
       "\n",
       "    .dataframe tbody tr th {\n",
       "        vertical-align: top;\n",
       "    }\n",
       "\n",
       "    .dataframe thead th {\n",
       "        text-align: right;\n",
       "    }\n",
       "</style>\n",
       "<table border=\"1\" class=\"dataframe\">\n",
       "  <thead>\n",
       "    <tr style=\"text-align: right;\">\n",
       "      <th></th>\n",
       "      <th>cab</th>\n",
       "      <th>call</th>\n",
       "      <th>me</th>\n",
       "      <th>please</th>\n",
       "      <th>tonight</th>\n",
       "      <th>you</th>\n",
       "    </tr>\n",
       "  </thead>\n",
       "  <tbody>\n",
       "    <tr>\n",
       "      <th>0</th>\n",
       "      <td>0.0</td>\n",
       "      <td>0.333333</td>\n",
       "      <td>0.0</td>\n",
       "      <td>0.0</td>\n",
       "      <td>1.0</td>\n",
       "      <td>1.0</td>\n",
       "    </tr>\n",
       "    <tr>\n",
       "      <th>1</th>\n",
       "      <td>1.0</td>\n",
       "      <td>0.333333</td>\n",
       "      <td>0.5</td>\n",
       "      <td>0.0</td>\n",
       "      <td>0.0</td>\n",
       "      <td>0.0</td>\n",
       "    </tr>\n",
       "    <tr>\n",
       "      <th>2</th>\n",
       "      <td>0.0</td>\n",
       "      <td>0.333333</td>\n",
       "      <td>0.5</td>\n",
       "      <td>1.0</td>\n",
       "      <td>0.0</td>\n",
       "      <td>0.0</td>\n",
       "    </tr>\n",
       "  </tbody>\n",
       "</table>\n",
       "</div>"
      ],
      "text/plain": [
       "   cab      call   me  please  tonight  you\n",
       "0  0.0  0.333333  0.0     0.0      1.0  1.0\n",
       "1  1.0  0.333333  0.5     0.0      0.0  0.0\n",
       "2  0.0  0.333333  0.5     1.0      0.0  0.0"
      ]
     },
     "execution_count": 69,
     "metadata": {},
     "output_type": "execute_result"
    }
   ],
   "source": [
    "tf/df  # call kelimesinin %33'ü örneğin 1. cümlede geçiyor. You kelimesinin %100'ü 1. cümlede geçiyor"
   ]
  },
  {
   "cell_type": "code",
   "execution_count": 70,
   "id": "acdab0b4-f395-4d4a-9a54-d2e14a08cd3e",
   "metadata": {},
   "outputs": [],
   "source": [
    "df=pd.read_csv('yelp.csv')  #comments on restaurant-company"
   ]
  },
  {
   "cell_type": "code",
   "execution_count": 71,
   "id": "f24da7c0-0434-4385-a796-901c3dafa65b",
   "metadata": {},
   "outputs": [
    {
     "data": {
      "text/html": [
       "<div>\n",
       "<style scoped>\n",
       "    .dataframe tbody tr th:only-of-type {\n",
       "        vertical-align: middle;\n",
       "    }\n",
       "\n",
       "    .dataframe tbody tr th {\n",
       "        vertical-align: top;\n",
       "    }\n",
       "\n",
       "    .dataframe thead th {\n",
       "        text-align: right;\n",
       "    }\n",
       "</style>\n",
       "<table border=\"1\" class=\"dataframe\">\n",
       "  <thead>\n",
       "    <tr style=\"text-align: right;\">\n",
       "      <th></th>\n",
       "      <th>business_id</th>\n",
       "      <th>date</th>\n",
       "      <th>review_id</th>\n",
       "      <th>stars</th>\n",
       "      <th>text</th>\n",
       "      <th>type</th>\n",
       "      <th>user_id</th>\n",
       "      <th>cool</th>\n",
       "      <th>useful</th>\n",
       "      <th>funny</th>\n",
       "    </tr>\n",
       "  </thead>\n",
       "  <tbody>\n",
       "    <tr>\n",
       "      <th>0</th>\n",
       "      <td>9yKzy9PApeiPPOUJEtnvkg</td>\n",
       "      <td>2011-01-26</td>\n",
       "      <td>fWKvX83p0-ka4JS3dc6E5A</td>\n",
       "      <td>5</td>\n",
       "      <td>My wife took me here on my birthday for breakf...</td>\n",
       "      <td>review</td>\n",
       "      <td>rLtl8ZkDX5vH5nAx9C3q5Q</td>\n",
       "      <td>2</td>\n",
       "      <td>5</td>\n",
       "      <td>0</td>\n",
       "    </tr>\n",
       "    <tr>\n",
       "      <th>1</th>\n",
       "      <td>ZRJwVLyzEJq1VAihDhYiow</td>\n",
       "      <td>2011-07-27</td>\n",
       "      <td>IjZ33sJrzXqU-0X6U8NwyA</td>\n",
       "      <td>5</td>\n",
       "      <td>I have no idea why some people give bad review...</td>\n",
       "      <td>review</td>\n",
       "      <td>0a2KyEL0d3Yb1V6aivbIuQ</td>\n",
       "      <td>0</td>\n",
       "      <td>0</td>\n",
       "      <td>0</td>\n",
       "    </tr>\n",
       "    <tr>\n",
       "      <th>2</th>\n",
       "      <td>6oRAC4uyJCsJl1X0WZpVSA</td>\n",
       "      <td>2012-06-14</td>\n",
       "      <td>IESLBzqUCLdSzSqm0eCSxQ</td>\n",
       "      <td>4</td>\n",
       "      <td>love the gyro plate. Rice is so good and I als...</td>\n",
       "      <td>review</td>\n",
       "      <td>0hT2KtfLiobPvh6cDC8JQg</td>\n",
       "      <td>0</td>\n",
       "      <td>1</td>\n",
       "      <td>0</td>\n",
       "    </tr>\n",
       "    <tr>\n",
       "      <th>3</th>\n",
       "      <td>_1QQZuf4zZOyFCvXc0o6Vg</td>\n",
       "      <td>2010-05-27</td>\n",
       "      <td>G-WvGaISbqqaMHlNnByodA</td>\n",
       "      <td>5</td>\n",
       "      <td>Rosie, Dakota, and I LOVE Chaparral Dog Park!!...</td>\n",
       "      <td>review</td>\n",
       "      <td>uZetl9T0NcROGOyFfughhg</td>\n",
       "      <td>1</td>\n",
       "      <td>2</td>\n",
       "      <td>0</td>\n",
       "    </tr>\n",
       "    <tr>\n",
       "      <th>4</th>\n",
       "      <td>6ozycU1RpktNG2-1BroVtw</td>\n",
       "      <td>2012-01-05</td>\n",
       "      <td>1uJFq2r5QfJG_6ExMRCaGw</td>\n",
       "      <td>5</td>\n",
       "      <td>General Manager Scott Petello is a good egg!!!...</td>\n",
       "      <td>review</td>\n",
       "      <td>vYmM4KTsC8ZfQBg-j5MWkw</td>\n",
       "      <td>0</td>\n",
       "      <td>0</td>\n",
       "      <td>0</td>\n",
       "    </tr>\n",
       "  </tbody>\n",
       "</table>\n",
       "</div>"
      ],
      "text/plain": [
       "              business_id        date               review_id  stars  \\\n",
       "0  9yKzy9PApeiPPOUJEtnvkg  2011-01-26  fWKvX83p0-ka4JS3dc6E5A      5   \n",
       "1  ZRJwVLyzEJq1VAihDhYiow  2011-07-27  IjZ33sJrzXqU-0X6U8NwyA      5   \n",
       "2  6oRAC4uyJCsJl1X0WZpVSA  2012-06-14  IESLBzqUCLdSzSqm0eCSxQ      4   \n",
       "3  _1QQZuf4zZOyFCvXc0o6Vg  2010-05-27  G-WvGaISbqqaMHlNnByodA      5   \n",
       "4  6ozycU1RpktNG2-1BroVtw  2012-01-05  1uJFq2r5QfJG_6ExMRCaGw      5   \n",
       "\n",
       "                                                text    type  \\\n",
       "0  My wife took me here on my birthday for breakf...  review   \n",
       "1  I have no idea why some people give bad review...  review   \n",
       "2  love the gyro plate. Rice is so good and I als...  review   \n",
       "3  Rosie, Dakota, and I LOVE Chaparral Dog Park!!...  review   \n",
       "4  General Manager Scott Petello is a good egg!!!...  review   \n",
       "\n",
       "                  user_id  cool  useful  funny  \n",
       "0  rLtl8ZkDX5vH5nAx9C3q5Q     2       5      0  \n",
       "1  0a2KyEL0d3Yb1V6aivbIuQ     0       0      0  \n",
       "2  0hT2KtfLiobPvh6cDC8JQg     0       1      0  \n",
       "3  uZetl9T0NcROGOyFfughhg     1       2      0  \n",
       "4  vYmM4KTsC8ZfQBg-j5MWkw     0       0      0  "
      ]
     },
     "execution_count": 71,
     "metadata": {},
     "output_type": "execute_result"
    }
   ],
   "source": [
    "df.head()"
   ]
  },
  {
   "cell_type": "code",
   "execution_count": 72,
   "id": "ad2e1cec-0682-4d96-91e1-e7952b0c8ed1",
   "metadata": {},
   "outputs": [
    {
     "name": "stdout",
     "output_type": "stream",
     "text": [
      "call you tonight\n",
      "call me a cab\n",
      "please call me... please\n"
     ]
    }
   ],
   "source": [
    "for i in text:\n",
    "    print(i.lower())"
   ]
  },
  {
   "cell_type": "code",
   "execution_count": 73,
   "id": "b4d33e68-a082-43cb-bcb4-fb797e31b010",
   "metadata": {},
   "outputs": [],
   "source": [
    "df['text']=df['text'].str.lower()"
   ]
  },
  {
   "cell_type": "code",
   "execution_count": 74,
   "id": "19eb1e6d-0076-4bd4-943c-a25c6e3b9a56",
   "metadata": {},
   "outputs": [
    {
     "data": {
      "text/plain": [
       "(10000, 10)"
      ]
     },
     "execution_count": 74,
     "metadata": {},
     "output_type": "execute_result"
    }
   ],
   "source": [
    "df.shape"
   ]
  },
  {
   "cell_type": "code",
   "execution_count": 75,
   "id": "f4458ae1-ed8d-4d4b-b84b-61077017a442",
   "metadata": {},
   "outputs": [],
   "source": [
    "df['text'] = df['text'].str.replace(r'[^\\w\\s]', '')  # Removes punctuation and special characters\n",
    "df['text'] = df['text'].str.replace(r'\\d+', '')     # Removes digits\n",
    "df['text'] = df['text'].str.replace(r'\\n', '')      # Removes newline characters\n",
    "df['text'] = df['text'].str.replace(r'\\r+', '')     # Removes carriage return characters"
   ]
  },
  {
   "cell_type": "code",
   "execution_count": null,
   "id": "9fbb5278-a656-4598-9026-396a62f47154",
   "metadata": {},
   "outputs": [],
   "source": [
    "#df['text']=df['text'].apply(lambda x: nfx.normalize(x))  #birçok önişlemi yapıyor üstteki sa"
   ]
  },
  {
   "cell_type": "code",
   "execution_count": 76,
   "id": "327c92e6-225c-4a47-bd50-77a46a58160f",
   "metadata": {},
   "outputs": [
    {
     "data": {
      "text/html": [
       "<div>\n",
       "<style scoped>\n",
       "    .dataframe tbody tr th:only-of-type {\n",
       "        vertical-align: middle;\n",
       "    }\n",
       "\n",
       "    .dataframe tbody tr th {\n",
       "        vertical-align: top;\n",
       "    }\n",
       "\n",
       "    .dataframe thead th {\n",
       "        text-align: right;\n",
       "    }\n",
       "</style>\n",
       "<table border=\"1\" class=\"dataframe\">\n",
       "  <thead>\n",
       "    <tr style=\"text-align: right;\">\n",
       "      <th></th>\n",
       "      <th>business_id</th>\n",
       "      <th>date</th>\n",
       "      <th>review_id</th>\n",
       "      <th>stars</th>\n",
       "      <th>text</th>\n",
       "      <th>type</th>\n",
       "      <th>user_id</th>\n",
       "      <th>cool</th>\n",
       "      <th>useful</th>\n",
       "      <th>funny</th>\n",
       "    </tr>\n",
       "  </thead>\n",
       "  <tbody>\n",
       "    <tr>\n",
       "      <th>0</th>\n",
       "      <td>9yKzy9PApeiPPOUJEtnvkg</td>\n",
       "      <td>2011-01-26</td>\n",
       "      <td>fWKvX83p0-ka4JS3dc6E5A</td>\n",
       "      <td>5</td>\n",
       "      <td>my wife took me here on my birthday for breakf...</td>\n",
       "      <td>review</td>\n",
       "      <td>rLtl8ZkDX5vH5nAx9C3q5Q</td>\n",
       "      <td>2</td>\n",
       "      <td>5</td>\n",
       "      <td>0</td>\n",
       "    </tr>\n",
       "    <tr>\n",
       "      <th>1</th>\n",
       "      <td>ZRJwVLyzEJq1VAihDhYiow</td>\n",
       "      <td>2011-07-27</td>\n",
       "      <td>IjZ33sJrzXqU-0X6U8NwyA</td>\n",
       "      <td>5</td>\n",
       "      <td>i have no idea why some people give bad review...</td>\n",
       "      <td>review</td>\n",
       "      <td>0a2KyEL0d3Yb1V6aivbIuQ</td>\n",
       "      <td>0</td>\n",
       "      <td>0</td>\n",
       "      <td>0</td>\n",
       "    </tr>\n",
       "    <tr>\n",
       "      <th>2</th>\n",
       "      <td>6oRAC4uyJCsJl1X0WZpVSA</td>\n",
       "      <td>2012-06-14</td>\n",
       "      <td>IESLBzqUCLdSzSqm0eCSxQ</td>\n",
       "      <td>4</td>\n",
       "      <td>love the gyro plate. rice is so good and i als...</td>\n",
       "      <td>review</td>\n",
       "      <td>0hT2KtfLiobPvh6cDC8JQg</td>\n",
       "      <td>0</td>\n",
       "      <td>1</td>\n",
       "      <td>0</td>\n",
       "    </tr>\n",
       "    <tr>\n",
       "      <th>3</th>\n",
       "      <td>_1QQZuf4zZOyFCvXc0o6Vg</td>\n",
       "      <td>2010-05-27</td>\n",
       "      <td>G-WvGaISbqqaMHlNnByodA</td>\n",
       "      <td>5</td>\n",
       "      <td>rosie, dakota, and i love chaparral dog park!!...</td>\n",
       "      <td>review</td>\n",
       "      <td>uZetl9T0NcROGOyFfughhg</td>\n",
       "      <td>1</td>\n",
       "      <td>2</td>\n",
       "      <td>0</td>\n",
       "    </tr>\n",
       "    <tr>\n",
       "      <th>4</th>\n",
       "      <td>6ozycU1RpktNG2-1BroVtw</td>\n",
       "      <td>2012-01-05</td>\n",
       "      <td>1uJFq2r5QfJG_6ExMRCaGw</td>\n",
       "      <td>5</td>\n",
       "      <td>general manager scott petello is a good egg!!!...</td>\n",
       "      <td>review</td>\n",
       "      <td>vYmM4KTsC8ZfQBg-j5MWkw</td>\n",
       "      <td>0</td>\n",
       "      <td>0</td>\n",
       "      <td>0</td>\n",
       "    </tr>\n",
       "  </tbody>\n",
       "</table>\n",
       "</div>"
      ],
      "text/plain": [
       "              business_id        date               review_id  stars  \\\n",
       "0  9yKzy9PApeiPPOUJEtnvkg  2011-01-26  fWKvX83p0-ka4JS3dc6E5A      5   \n",
       "1  ZRJwVLyzEJq1VAihDhYiow  2011-07-27  IjZ33sJrzXqU-0X6U8NwyA      5   \n",
       "2  6oRAC4uyJCsJl1X0WZpVSA  2012-06-14  IESLBzqUCLdSzSqm0eCSxQ      4   \n",
       "3  _1QQZuf4zZOyFCvXc0o6Vg  2010-05-27  G-WvGaISbqqaMHlNnByodA      5   \n",
       "4  6ozycU1RpktNG2-1BroVtw  2012-01-05  1uJFq2r5QfJG_6ExMRCaGw      5   \n",
       "\n",
       "                                                text    type  \\\n",
       "0  my wife took me here on my birthday for breakf...  review   \n",
       "1  i have no idea why some people give bad review...  review   \n",
       "2  love the gyro plate. rice is so good and i als...  review   \n",
       "3  rosie, dakota, and i love chaparral dog park!!...  review   \n",
       "4  general manager scott petello is a good egg!!!...  review   \n",
       "\n",
       "                  user_id  cool  useful  funny  \n",
       "0  rLtl8ZkDX5vH5nAx9C3q5Q     2       5      0  \n",
       "1  0a2KyEL0d3Yb1V6aivbIuQ     0       0      0  \n",
       "2  0hT2KtfLiobPvh6cDC8JQg     0       1      0  \n",
       "3  uZetl9T0NcROGOyFfughhg     1       2      0  \n",
       "4  vYmM4KTsC8ZfQBg-j5MWkw     0       0      0  "
      ]
     },
     "execution_count": 76,
     "metadata": {},
     "output_type": "execute_result"
    }
   ],
   "source": [
    "df.head()"
   ]
  },
  {
   "cell_type": "code",
   "execution_count": 77,
   "id": "b6d5cec9-5adc-48e7-84b6-829bdb8af952",
   "metadata": {},
   "outputs": [
    {
     "data": {
      "text/plain": [
       "'my wife took me here on my birthday for breakfast and it was excellent.  the weather was perfect which made sitting outside overlooking their grounds an absolute pleasure.  our waitress was excellent and our food arrived quickly on the semi-busy saturday morning.  it looked like the place fills up pretty quickly so the earlier you get here the better.\\n\\ndo yourself a favor and get their bloody mary.  it was phenomenal and simply the best i\\'ve ever had.  i\\'m pretty sure they only use ingredients from their garden and blend them fresh when you order it.  it was amazing.\\n\\nwhile everything on the menu looks excellent, i had the white truffle scrambled eggs vegetable skillet and it was tasty and delicious.  it came with 2 pieces of their griddled bread with was amazing and it absolutely made the meal complete.  it was the best \"toast\" i\\'ve ever had.\\n\\nanyway, i can\\'t wait to go back!'"
      ]
     },
     "execution_count": 77,
     "metadata": {},
     "output_type": "execute_result"
    }
   ],
   "source": [
    "df['text'][0]"
   ]
  },
  {
   "cell_type": "markdown",
   "id": "fc71b16e-3e5f-4c3b-b31e-eedbf1edaeb4",
   "metadata": {},
   "source": [
    "### Sentiment Analysis"
   ]
  },
  {
   "cell_type": "code",
   "execution_count": 79,
   "id": "3fe19cbf-999d-4888-9d8c-81c8e544d80d",
   "metadata": {},
   "outputs": [],
   "source": [
    "ybw=df[(df.stars==1)|(df.stars==5)]  #only 5 and 1 stars comments"
   ]
  },
  {
   "cell_type": "code",
   "execution_count": 80,
   "id": "18fa91b2-4bf0-4921-bc7f-f4d11f14bdd0",
   "metadata": {
    "scrolled": true
   },
   "outputs": [
    {
     "data": {
      "text/html": [
       "<div>\n",
       "<style scoped>\n",
       "    .dataframe tbody tr th:only-of-type {\n",
       "        vertical-align: middle;\n",
       "    }\n",
       "\n",
       "    .dataframe tbody tr th {\n",
       "        vertical-align: top;\n",
       "    }\n",
       "\n",
       "    .dataframe thead th {\n",
       "        text-align: right;\n",
       "    }\n",
       "</style>\n",
       "<table border=\"1\" class=\"dataframe\">\n",
       "  <thead>\n",
       "    <tr style=\"text-align: right;\">\n",
       "      <th></th>\n",
       "      <th>business_id</th>\n",
       "      <th>date</th>\n",
       "      <th>review_id</th>\n",
       "      <th>stars</th>\n",
       "      <th>text</th>\n",
       "      <th>type</th>\n",
       "      <th>user_id</th>\n",
       "      <th>cool</th>\n",
       "      <th>useful</th>\n",
       "      <th>funny</th>\n",
       "    </tr>\n",
       "  </thead>\n",
       "  <tbody>\n",
       "    <tr>\n",
       "      <th>0</th>\n",
       "      <td>9yKzy9PApeiPPOUJEtnvkg</td>\n",
       "      <td>2011-01-26</td>\n",
       "      <td>fWKvX83p0-ka4JS3dc6E5A</td>\n",
       "      <td>5</td>\n",
       "      <td>my wife took me here on my birthday for breakf...</td>\n",
       "      <td>review</td>\n",
       "      <td>rLtl8ZkDX5vH5nAx9C3q5Q</td>\n",
       "      <td>2</td>\n",
       "      <td>5</td>\n",
       "      <td>0</td>\n",
       "    </tr>\n",
       "    <tr>\n",
       "      <th>1</th>\n",
       "      <td>ZRJwVLyzEJq1VAihDhYiow</td>\n",
       "      <td>2011-07-27</td>\n",
       "      <td>IjZ33sJrzXqU-0X6U8NwyA</td>\n",
       "      <td>5</td>\n",
       "      <td>i have no idea why some people give bad review...</td>\n",
       "      <td>review</td>\n",
       "      <td>0a2KyEL0d3Yb1V6aivbIuQ</td>\n",
       "      <td>0</td>\n",
       "      <td>0</td>\n",
       "      <td>0</td>\n",
       "    </tr>\n",
       "    <tr>\n",
       "      <th>3</th>\n",
       "      <td>_1QQZuf4zZOyFCvXc0o6Vg</td>\n",
       "      <td>2010-05-27</td>\n",
       "      <td>G-WvGaISbqqaMHlNnByodA</td>\n",
       "      <td>5</td>\n",
       "      <td>rosie, dakota, and i love chaparral dog park!!...</td>\n",
       "      <td>review</td>\n",
       "      <td>uZetl9T0NcROGOyFfughhg</td>\n",
       "      <td>1</td>\n",
       "      <td>2</td>\n",
       "      <td>0</td>\n",
       "    </tr>\n",
       "    <tr>\n",
       "      <th>4</th>\n",
       "      <td>6ozycU1RpktNG2-1BroVtw</td>\n",
       "      <td>2012-01-05</td>\n",
       "      <td>1uJFq2r5QfJG_6ExMRCaGw</td>\n",
       "      <td>5</td>\n",
       "      <td>general manager scott petello is a good egg!!!...</td>\n",
       "      <td>review</td>\n",
       "      <td>vYmM4KTsC8ZfQBg-j5MWkw</td>\n",
       "      <td>0</td>\n",
       "      <td>0</td>\n",
       "      <td>0</td>\n",
       "    </tr>\n",
       "    <tr>\n",
       "      <th>6</th>\n",
       "      <td>zp713qNhx8d9KCJJnrw1xA</td>\n",
       "      <td>2010-02-12</td>\n",
       "      <td>riFQ3vxNpP4rWLk_CSri2A</td>\n",
       "      <td>5</td>\n",
       "      <td>drop what you're doing and drive here. after i...</td>\n",
       "      <td>review</td>\n",
       "      <td>wFweIWhv2fREZV_dYkz_1g</td>\n",
       "      <td>7</td>\n",
       "      <td>7</td>\n",
       "      <td>4</td>\n",
       "    </tr>\n",
       "  </tbody>\n",
       "</table>\n",
       "</div>"
      ],
      "text/plain": [
       "              business_id        date               review_id  stars  \\\n",
       "0  9yKzy9PApeiPPOUJEtnvkg  2011-01-26  fWKvX83p0-ka4JS3dc6E5A      5   \n",
       "1  ZRJwVLyzEJq1VAihDhYiow  2011-07-27  IjZ33sJrzXqU-0X6U8NwyA      5   \n",
       "3  _1QQZuf4zZOyFCvXc0o6Vg  2010-05-27  G-WvGaISbqqaMHlNnByodA      5   \n",
       "4  6ozycU1RpktNG2-1BroVtw  2012-01-05  1uJFq2r5QfJG_6ExMRCaGw      5   \n",
       "6  zp713qNhx8d9KCJJnrw1xA  2010-02-12  riFQ3vxNpP4rWLk_CSri2A      5   \n",
       "\n",
       "                                                text    type  \\\n",
       "0  my wife took me here on my birthday for breakf...  review   \n",
       "1  i have no idea why some people give bad review...  review   \n",
       "3  rosie, dakota, and i love chaparral dog park!!...  review   \n",
       "4  general manager scott petello is a good egg!!!...  review   \n",
       "6  drop what you're doing and drive here. after i...  review   \n",
       "\n",
       "                  user_id  cool  useful  funny  \n",
       "0  rLtl8ZkDX5vH5nAx9C3q5Q     2       5      0  \n",
       "1  0a2KyEL0d3Yb1V6aivbIuQ     0       0      0  \n",
       "3  uZetl9T0NcROGOyFfughhg     1       2      0  \n",
       "4  vYmM4KTsC8ZfQBg-j5MWkw     0       0      0  \n",
       "6  wFweIWhv2fREZV_dYkz_1g     7       7      4  "
      ]
     },
     "execution_count": 80,
     "metadata": {},
     "output_type": "execute_result"
    }
   ],
   "source": [
    "ybw.head()"
   ]
  },
  {
   "cell_type": "code",
   "execution_count": 81,
   "id": "dbf21ce1-ec8b-4301-96c0-c378b7c00811",
   "metadata": {},
   "outputs": [],
   "source": [
    "ybw.reset_index(drop=True,inplace=True) #correct index for new df-ybw\n",
    "#ybw=ybw.reset_index(drop=True)  # if we write this no need to write inplace=True"
   ]
  },
  {
   "cell_type": "code",
   "execution_count": 82,
   "id": "e34b8b97-937f-4f13-918a-4238c88868c8",
   "metadata": {
    "scrolled": true
   },
   "outputs": [
    {
     "data": {
      "text/html": [
       "<div>\n",
       "<style scoped>\n",
       "    .dataframe tbody tr th:only-of-type {\n",
       "        vertical-align: middle;\n",
       "    }\n",
       "\n",
       "    .dataframe tbody tr th {\n",
       "        vertical-align: top;\n",
       "    }\n",
       "\n",
       "    .dataframe thead th {\n",
       "        text-align: right;\n",
       "    }\n",
       "</style>\n",
       "<table border=\"1\" class=\"dataframe\">\n",
       "  <thead>\n",
       "    <tr style=\"text-align: right;\">\n",
       "      <th></th>\n",
       "      <th>business_id</th>\n",
       "      <th>date</th>\n",
       "      <th>review_id</th>\n",
       "      <th>stars</th>\n",
       "      <th>text</th>\n",
       "      <th>type</th>\n",
       "      <th>user_id</th>\n",
       "      <th>cool</th>\n",
       "      <th>useful</th>\n",
       "      <th>funny</th>\n",
       "    </tr>\n",
       "  </thead>\n",
       "  <tbody>\n",
       "    <tr>\n",
       "      <th>0</th>\n",
       "      <td>9yKzy9PApeiPPOUJEtnvkg</td>\n",
       "      <td>2011-01-26</td>\n",
       "      <td>fWKvX83p0-ka4JS3dc6E5A</td>\n",
       "      <td>5</td>\n",
       "      <td>my wife took me here on my birthday for breakf...</td>\n",
       "      <td>review</td>\n",
       "      <td>rLtl8ZkDX5vH5nAx9C3q5Q</td>\n",
       "      <td>2</td>\n",
       "      <td>5</td>\n",
       "      <td>0</td>\n",
       "    </tr>\n",
       "    <tr>\n",
       "      <th>1</th>\n",
       "      <td>ZRJwVLyzEJq1VAihDhYiow</td>\n",
       "      <td>2011-07-27</td>\n",
       "      <td>IjZ33sJrzXqU-0X6U8NwyA</td>\n",
       "      <td>5</td>\n",
       "      <td>i have no idea why some people give bad review...</td>\n",
       "      <td>review</td>\n",
       "      <td>0a2KyEL0d3Yb1V6aivbIuQ</td>\n",
       "      <td>0</td>\n",
       "      <td>0</td>\n",
       "      <td>0</td>\n",
       "    </tr>\n",
       "    <tr>\n",
       "      <th>2</th>\n",
       "      <td>_1QQZuf4zZOyFCvXc0o6Vg</td>\n",
       "      <td>2010-05-27</td>\n",
       "      <td>G-WvGaISbqqaMHlNnByodA</td>\n",
       "      <td>5</td>\n",
       "      <td>rosie, dakota, and i love chaparral dog park!!...</td>\n",
       "      <td>review</td>\n",
       "      <td>uZetl9T0NcROGOyFfughhg</td>\n",
       "      <td>1</td>\n",
       "      <td>2</td>\n",
       "      <td>0</td>\n",
       "    </tr>\n",
       "    <tr>\n",
       "      <th>3</th>\n",
       "      <td>6ozycU1RpktNG2-1BroVtw</td>\n",
       "      <td>2012-01-05</td>\n",
       "      <td>1uJFq2r5QfJG_6ExMRCaGw</td>\n",
       "      <td>5</td>\n",
       "      <td>general manager scott petello is a good egg!!!...</td>\n",
       "      <td>review</td>\n",
       "      <td>vYmM4KTsC8ZfQBg-j5MWkw</td>\n",
       "      <td>0</td>\n",
       "      <td>0</td>\n",
       "      <td>0</td>\n",
       "    </tr>\n",
       "    <tr>\n",
       "      <th>4</th>\n",
       "      <td>zp713qNhx8d9KCJJnrw1xA</td>\n",
       "      <td>2010-02-12</td>\n",
       "      <td>riFQ3vxNpP4rWLk_CSri2A</td>\n",
       "      <td>5</td>\n",
       "      <td>drop what you're doing and drive here. after i...</td>\n",
       "      <td>review</td>\n",
       "      <td>wFweIWhv2fREZV_dYkz_1g</td>\n",
       "      <td>7</td>\n",
       "      <td>7</td>\n",
       "      <td>4</td>\n",
       "    </tr>\n",
       "  </tbody>\n",
       "</table>\n",
       "</div>"
      ],
      "text/plain": [
       "              business_id        date               review_id  stars  \\\n",
       "0  9yKzy9PApeiPPOUJEtnvkg  2011-01-26  fWKvX83p0-ka4JS3dc6E5A      5   \n",
       "1  ZRJwVLyzEJq1VAihDhYiow  2011-07-27  IjZ33sJrzXqU-0X6U8NwyA      5   \n",
       "2  _1QQZuf4zZOyFCvXc0o6Vg  2010-05-27  G-WvGaISbqqaMHlNnByodA      5   \n",
       "3  6ozycU1RpktNG2-1BroVtw  2012-01-05  1uJFq2r5QfJG_6ExMRCaGw      5   \n",
       "4  zp713qNhx8d9KCJJnrw1xA  2010-02-12  riFQ3vxNpP4rWLk_CSri2A      5   \n",
       "\n",
       "                                                text    type  \\\n",
       "0  my wife took me here on my birthday for breakf...  review   \n",
       "1  i have no idea why some people give bad review...  review   \n",
       "2  rosie, dakota, and i love chaparral dog park!!...  review   \n",
       "3  general manager scott petello is a good egg!!!...  review   \n",
       "4  drop what you're doing and drive here. after i...  review   \n",
       "\n",
       "                  user_id  cool  useful  funny  \n",
       "0  rLtl8ZkDX5vH5nAx9C3q5Q     2       5      0  \n",
       "1  0a2KyEL0d3Yb1V6aivbIuQ     0       0      0  \n",
       "2  uZetl9T0NcROGOyFfughhg     1       2      0  \n",
       "3  vYmM4KTsC8ZfQBg-j5MWkw     0       0      0  \n",
       "4  wFweIWhv2fREZV_dYkz_1g     7       7      4  "
      ]
     },
     "execution_count": 82,
     "metadata": {},
     "output_type": "execute_result"
    }
   ],
   "source": [
    "ybw.head()"
   ]
  },
  {
   "cell_type": "code",
   "execution_count": 83,
   "id": "5a4c19d3-9163-4454-896f-c1cf63dff618",
   "metadata": {},
   "outputs": [],
   "source": [
    "# Sentiment için 1 yıldızlı direk kötü 5 yıldızlı direk iyi diyebiliriz. Ya da başka bir yol yaparız"
   ]
  },
  {
   "cell_type": "code",
   "execution_count": 84,
   "id": "e0f09889-b395-4344-b129-3c8584e2c28d",
   "metadata": {},
   "outputs": [],
   "source": [
    "x=ybw[['text']]  # [ tek olması array olarak alır, [[ 2 tane köşeli parantez koyunca df olarak alır\n",
    "y=ybw[['stars']]"
   ]
  },
  {
   "cell_type": "code",
   "execution_count": 85,
   "id": "6259abb9-d1ac-41da-bc6e-c0abbe136306",
   "metadata": {},
   "outputs": [],
   "source": [
    "from sklearn.model_selection import train_test_split\n",
    "from sklearn.naive_bayes import MultinomialNB"
   ]
  },
  {
   "cell_type": "code",
   "execution_count": 86,
   "id": "6bf8edb2-60f1-442f-b094-3dd4390a6272",
   "metadata": {},
   "outputs": [
    {
     "data": {
      "text/html": [
       "<div>\n",
       "<style scoped>\n",
       "    .dataframe tbody tr th:only-of-type {\n",
       "        vertical-align: middle;\n",
       "    }\n",
       "\n",
       "    .dataframe tbody tr th {\n",
       "        vertical-align: top;\n",
       "    }\n",
       "\n",
       "    .dataframe thead th {\n",
       "        text-align: right;\n",
       "    }\n",
       "</style>\n",
       "<table border=\"1\" class=\"dataframe\">\n",
       "  <thead>\n",
       "    <tr style=\"text-align: right;\">\n",
       "      <th></th>\n",
       "      <th>text</th>\n",
       "    </tr>\n",
       "  </thead>\n",
       "  <tbody>\n",
       "    <tr>\n",
       "      <th>0</th>\n",
       "      <td>my wife took me here on my birthday for breakf...</td>\n",
       "    </tr>\n",
       "    <tr>\n",
       "      <th>1</th>\n",
       "      <td>i have no idea why some people give bad review...</td>\n",
       "    </tr>\n",
       "    <tr>\n",
       "      <th>2</th>\n",
       "      <td>rosie, dakota, and i love chaparral dog park!!...</td>\n",
       "    </tr>\n",
       "    <tr>\n",
       "      <th>3</th>\n",
       "      <td>general manager scott petello is a good egg!!!...</td>\n",
       "    </tr>\n",
       "    <tr>\n",
       "      <th>4</th>\n",
       "      <td>drop what you're doing and drive here. after i...</td>\n",
       "    </tr>\n",
       "  </tbody>\n",
       "</table>\n",
       "</div>"
      ],
      "text/plain": [
       "                                                text\n",
       "0  my wife took me here on my birthday for breakf...\n",
       "1  i have no idea why some people give bad review...\n",
       "2  rosie, dakota, and i love chaparral dog park!!...\n",
       "3  general manager scott petello is a good egg!!!...\n",
       "4  drop what you're doing and drive here. after i..."
      ]
     },
     "execution_count": 86,
     "metadata": {},
     "output_type": "execute_result"
    }
   ],
   "source": [
    "x.head()"
   ]
  },
  {
   "cell_type": "code",
   "execution_count": 87,
   "id": "34d0c2fe-26a3-467c-9086-b52f6155fbee",
   "metadata": {},
   "outputs": [],
   "source": [
    "vect=CountVectorizer(stop_words='english',ngram_range=(1,2))   #ngram= tek başına anlamsız, yenındaki kelimeyle örneğin anlamlı"
   ]
  },
  {
   "cell_type": "code",
   "execution_count": 88,
   "id": "2a23d39f-aa9d-4213-b501-244db5a3f05d",
   "metadata": {},
   "outputs": [],
   "source": [
    "xyeni=vect.fit_transform(x['text'])"
   ]
  },
  {
   "cell_type": "code",
   "execution_count": 89,
   "id": "20bb3ece-c7a2-4578-9239-f651c171e11f",
   "metadata": {},
   "outputs": [],
   "source": [
    "x_train,x_test,y_train,y_test=train_test_split(xyeni,y,random_state=42,test_size=.2)"
   ]
  },
  {
   "cell_type": "code",
   "execution_count": 90,
   "id": "5a5b9d01-9eb8-4472-a856-e0ed336ae4b4",
   "metadata": {},
   "outputs": [],
   "source": [
    "nb=MultinomialNB()"
   ]
  },
  {
   "cell_type": "code",
   "execution_count": 91,
   "id": "128a1b78-ebdf-48b1-98e9-114319b4e2ed",
   "metadata": {},
   "outputs": [
    {
     "name": "stderr",
     "output_type": "stream",
     "text": [
      "C:\\Users\\SABRI\\anaconda3\\Lib\\site-packages\\sklearn\\utils\\validation.py:1300: DataConversionWarning: A column-vector y was passed when a 1d array was expected. Please change the shape of y to (n_samples, ), for example using ravel().\n",
      "  y = column_or_1d(y, warn=True)\n"
     ]
    }
   ],
   "source": [
    "model=nb.fit(x_train,y_train)"
   ]
  },
  {
   "cell_type": "code",
   "execution_count": 92,
   "id": "90963c46-1110-4729-b06f-d4d73cce19f4",
   "metadata": {},
   "outputs": [],
   "source": [
    "pred=model.predict(x_test)"
   ]
  },
  {
   "cell_type": "code",
   "execution_count": 93,
   "id": "311be446-2f3c-455b-8e2f-7804ff7f2c0a",
   "metadata": {},
   "outputs": [],
   "source": [
    "from sklearn.metrics import accuracy_score"
   ]
  },
  {
   "cell_type": "code",
   "execution_count": 94,
   "id": "2aa8a67e-956e-491c-91c0-905d2525f189",
   "metadata": {},
   "outputs": [
    {
     "data": {
      "text/plain": [
       "0.8997555012224939"
      ]
     },
     "execution_count": 94,
     "metadata": {},
     "output_type": "execute_result"
    }
   ],
   "source": [
    "accuracy_score(y_test,pred)"
   ]
  },
  {
   "cell_type": "markdown",
   "id": "cca364b7-56fe-4438-b0f0-056a92cbab18",
   "metadata": {},
   "source": [
    "### NLP with Neattext"
   ]
  },
  {
   "cell_type": "code",
   "execution_count": 96,
   "id": "db338271-8fe6-4d45-95e9-f5520f09ec47",
   "metadata": {},
   "outputs": [],
   "source": [
    "#pip install neattext"
   ]
  },
  {
   "cell_type": "code",
   "execution_count": 97,
   "id": "529f7a7e-7e00-4ef6-b823-51b2e372b19e",
   "metadata": {},
   "outputs": [],
   "source": [
    "import neattext.functions as nfx  # very enhanced library "
   ]
  },
  {
   "cell_type": "code",
   "execution_count": 98,
   "id": "e3a0f27f-231b-4dd6-99e3-43b2711d20dd",
   "metadata": {
    "scrolled": true
   },
   "outputs": [
    {
     "data": {
      "text/plain": [
       "['BTC_ADDRESS_REGEX',\n",
       " 'CURRENCY_REGEX',\n",
       " 'CURRENCY_SYMB_REGEX',\n",
       " 'Counter',\n",
       " 'DATE_REGEX',\n",
       " 'EMAIL_REGEX',\n",
       " 'EMOJI_REGEX',\n",
       " 'HASTAG_REGEX',\n",
       " 'MASTERCard_REGEX',\n",
       " 'MD5_SHA_REGEX',\n",
       " 'MOST_COMMON_PUNCT_REGEX',\n",
       " 'NUMBERS_REGEX',\n",
       " 'PHONE_REGEX',\n",
       " 'PoBOX_REGEX',\n",
       " 'SPECIAL_CHARACTERS_REGEX',\n",
       " 'STOPWORDS',\n",
       " 'STOPWORDS_de',\n",
       " 'STOPWORDS_en',\n",
       " 'STOPWORDS_es',\n",
       " 'STOPWORDS_fr',\n",
       " 'STOPWORDS_ru',\n",
       " 'STOPWORDS_yo',\n",
       " 'STREET_ADDRESS_REGEX',\n",
       " 'TextFrame',\n",
       " 'URL_PATTERN',\n",
       " 'USER_HANDLES_REGEX',\n",
       " 'VISACard_REGEX',\n",
       " '__builtins__',\n",
       " '__cached__',\n",
       " '__doc__',\n",
       " '__file__',\n",
       " '__generate_text',\n",
       " '__loader__',\n",
       " '__name__',\n",
       " '__numbers_dict',\n",
       " '__package__',\n",
       " '__spec__',\n",
       " '_lex_richness_herdan',\n",
       " '_lex_richness_maas_ttr',\n",
       " 'clean_text',\n",
       " 'defaultdict',\n",
       " 'digit2words',\n",
       " 'extract_btc_address',\n",
       " 'extract_currencies',\n",
       " 'extract_currency_symbols',\n",
       " 'extract_dates',\n",
       " 'extract_emails',\n",
       " 'extract_emojis',\n",
       " 'extract_hashtags',\n",
       " 'extract_html_tags',\n",
       " 'extract_mastercard_addr',\n",
       " 'extract_md5sha',\n",
       " 'extract_numbers',\n",
       " 'extract_pattern',\n",
       " 'extract_phone_numbers',\n",
       " 'extract_postoffice_box',\n",
       " 'extract_shortwords',\n",
       " 'extract_special_characters',\n",
       " 'extract_stopwords',\n",
       " 'extract_street_address',\n",
       " 'extract_terms_in_bracket',\n",
       " 'extract_urls',\n",
       " 'extract_userhandles',\n",
       " 'extract_visacard_addr',\n",
       " 'fix_contractions',\n",
       " 'generate_sentence',\n",
       " 'hamming_distance',\n",
       " 'inverse_df',\n",
       " 'lexical_richness',\n",
       " 'markov_chain',\n",
       " 'math',\n",
       " 'nlargest',\n",
       " 'normalize',\n",
       " 'num2words',\n",
       " 'random',\n",
       " 're',\n",
       " 'read_txt',\n",
       " 'remove_accents',\n",
       " 'remove_bad_quotes',\n",
       " 'remove_btc_address',\n",
       " 'remove_currencies',\n",
       " 'remove_currency_symbols',\n",
       " 'remove_custom_pattern',\n",
       " 'remove_custom_words',\n",
       " 'remove_dates',\n",
       " 'remove_emails',\n",
       " 'remove_emojis',\n",
       " 'remove_hashtags',\n",
       " 'remove_html_tags',\n",
       " 'remove_mastercard_addr',\n",
       " 'remove_md5sha',\n",
       " 'remove_multiple_spaces',\n",
       " 'remove_non_ascii',\n",
       " 'remove_numbers',\n",
       " 'remove_phone_numbers',\n",
       " 'remove_postoffice_box',\n",
       " 'remove_puncts',\n",
       " 'remove_punctuations',\n",
       " 'remove_shortwords',\n",
       " 'remove_special_characters',\n",
       " 'remove_stopwords',\n",
       " 'remove_street_address',\n",
       " 'remove_terms_in_bracket',\n",
       " 'remove_urls',\n",
       " 'remove_userhandles',\n",
       " 'remove_visacard_addr',\n",
       " 'replace_bad_quotes',\n",
       " 'replace_currencies',\n",
       " 'replace_currency_symbols',\n",
       " 'replace_dates',\n",
       " 'replace_emails',\n",
       " 'replace_emojis',\n",
       " 'replace_numbers',\n",
       " 'replace_phone_numbers',\n",
       " 'replace_special_characters',\n",
       " 'replace_term',\n",
       " 'replace_urls',\n",
       " 'string',\n",
       " 'term_freq',\n",
       " 'to_txt',\n",
       " 'unicodedata',\n",
       " 'word_freq',\n",
       " 'word_length_freq']"
      ]
     },
     "execution_count": 98,
     "metadata": {},
     "output_type": "execute_result"
    }
   ],
   "source": [
    "dir(nfx)"
   ]
  },
  {
   "cell_type": "code",
   "execution_count": 99,
   "id": "2d5788fa-80bd-4f4d-bb26-f6bbccea7cf2",
   "metadata": {},
   "outputs": [],
   "source": [
    "s=''.join(df['text'].tolist())#tüm yorumları liste haline getirdi sonra join ile birleştirdik"
   ]
  },
  {
   "cell_type": "code",
   "execution_count": 100,
   "id": "6fad8b5a-a7d1-4650-9d69-3eba9b17c171",
   "metadata": {},
   "outputs": [],
   "source": [
    "from collections import Counter"
   ]
  },
  {
   "cell_type": "code",
   "execution_count": 101,
   "id": "a010f328-a255-4cc3-9538-cbed3518fd7d",
   "metadata": {
    "scrolled": true
   },
   "outputs": [
    {
     "data": {
      "text/plain": [
       "Counter({'the': 65897,\n",
       "         'and': 43143,\n",
       "         'a': 35698,\n",
       "         'i': 33651,\n",
       "         'to': 29830,\n",
       "         'of': 20753,\n",
       "         'was': 19709,\n",
       "         'is': 16916,\n",
       "         'for': 14925,\n",
       "         'it': 14346,\n",
       "         'in': 14169,\n",
       "         'that': 11217,\n",
       "         'my': 10859,\n",
       "         'with': 10592,\n",
       "         'but': 10273,\n",
       "         'you': 9646,\n",
       "         'this': 9173,\n",
       "         'they': 9172,\n",
       "         'on': 8944,\n",
       "         'have': 8588,\n",
       "         'we': 8403,\n",
       "         'not': 7172,\n",
       "         'are': 6952,\n",
       "         'had': 6834,\n",
       "         'at': 6409,\n",
       "         'so': 6116,\n",
       "         'were': 5909,\n",
       "         'as': 5613,\n",
       "         'be': 5432,\n",
       "         'place': 5186,\n",
       "         'like': 4688,\n",
       "         'if': 4520,\n",
       "         'just': 4407,\n",
       "         'good': 4286,\n",
       "         'food': 4274,\n",
       "         'very': 4245,\n",
       "         'there': 4218,\n",
       "         'all': 4010,\n",
       "         'their': 3877,\n",
       "         'or': 3715,\n",
       "         'great': 3697,\n",
       "         'get': 3695,\n",
       "         'out': 3664,\n",
       "         'one': 3617,\n",
       "         \"it's\": 3540,\n",
       "         'me': 3530,\n",
       "         'from': 3472,\n",
       "         'when': 3439,\n",
       "         'our': 3314,\n",
       "         'some': 3205,\n",
       "         'really': 3146,\n",
       "         'about': 3124,\n",
       "         'go': 3032,\n",
       "         'would': 3030,\n",
       "         'up': 3002,\n",
       "         'here': 2998,\n",
       "         'an': 2967,\n",
       "         'your': 2869,\n",
       "         'been': 2864,\n",
       "         '-': 2858,\n",
       "         'can': 2843,\n",
       "         'what': 2723,\n",
       "         'which': 2655,\n",
       "         'will': 2507,\n",
       "         'only': 2460,\n",
       "         'time': 2447,\n",
       "         \"don't\": 2404,\n",
       "         'more': 2385,\n",
       "         'by': 2361,\n",
       "         'has': 2197,\n",
       "         'service': 2191,\n",
       "         'little': 2176,\n",
       "         'also': 2148,\n",
       "         'back': 2125,\n",
       "         'no': 2109,\n",
       "         'other': 2079,\n",
       "         'because': 2066,\n",
       "         \"i'm\": 1988,\n",
       "         'love': 1970,\n",
       "         'than': 1968,\n",
       "         'always': 1944,\n",
       "         'even': 1936,\n",
       "         \"i've\": 1844,\n",
       "         'he': 1811,\n",
       "         'do': 1810,\n",
       "         'got': 1787,\n",
       "         'she': 1760,\n",
       "         'pretty': 1752,\n",
       "         'nice': 1709,\n",
       "         'after': 1701,\n",
       "         'best': 1610,\n",
       "         'ordered': 1591,\n",
       "         'much': 1545,\n",
       "         \"didn't\": 1540,\n",
       "         'them': 1527,\n",
       "         'us': 1511,\n",
       "         'could': 1509,\n",
       "         'never': 1497,\n",
       "         'too': 1495,\n",
       "         'try': 1492,\n",
       "         'make': 1470,\n",
       "         'am': 1464,\n",
       "         'think': 1462,\n",
       "         'first': 1443,\n",
       "         'over': 1419,\n",
       "         'people': 1383,\n",
       "         'know': 1376,\n",
       "         'going': 1374,\n",
       "         'chicken': 1371,\n",
       "         'it.': 1359,\n",
       "         'how': 1339,\n",
       "         'then': 1339,\n",
       "         'who': 1337,\n",
       "         'went': 1325,\n",
       "         'few': 1318,\n",
       "         'did': 1301,\n",
       "         'any': 1260,\n",
       "         'order': 1251,\n",
       "         'came': 1231,\n",
       "         'made': 1226,\n",
       "         'restaurant': 1205,\n",
       "         'want': 1193,\n",
       "         'two': 1192,\n",
       "         'come': 1189,\n",
       "         'staff': 1175,\n",
       "         'good.': 1149,\n",
       "         'way': 1145,\n",
       "         'take': 1138,\n",
       "         'still': 1127,\n",
       "         'definitely': 1122,\n",
       "         'better': 1119,\n",
       "         'off': 1114,\n",
       "         'new': 1110,\n",
       "         'since': 1099,\n",
       "         'menu': 1084,\n",
       "         'see': 1069,\n",
       "         'while': 1063,\n",
       "         'say': 1050,\n",
       "         'well': 1050,\n",
       "         'give': 1043,\n",
       "         'bar': 1042,\n",
       "         'most': 1042,\n",
       "         'every': 1041,\n",
       "         'right': 1029,\n",
       "         'her': 1024,\n",
       "         '&': 1022,\n",
       "         'next': 1021,\n",
       "         \"can't\": 1016,\n",
       "         'happy': 999,\n",
       "         'find': 989,\n",
       "         'bit': 985,\n",
       "         'many': 984,\n",
       "         'into': 972,\n",
       "         'eat': 963,\n",
       "         'something': 961,\n",
       "         'sure': 955,\n",
       "         'before': 954,\n",
       "         'around': 954,\n",
       "         'pizza': 946,\n",
       "         'where': 946,\n",
       "         'its': 946,\n",
       "         'being': 932,\n",
       "         'friendly': 928,\n",
       "         'lunch': 924,\n",
       "         'ever': 914,\n",
       "         'everything': 908,\n",
       "         'last': 908,\n",
       "         'night': 905,\n",
       "         'cheese': 903,\n",
       "         'another': 896,\n",
       "         'down': 887,\n",
       "         'wait': 883,\n",
       "         'fresh': 880,\n",
       "         'both': 866,\n",
       "         'now': 865,\n",
       "         \"you're\": 850,\n",
       "         'salad': 846,\n",
       "         \"wasn't\": 838,\n",
       "         'his': 830,\n",
       "         'big': 823,\n",
       "         'lot': 816,\n",
       "         '2': 801,\n",
       "         'thing': 794,\n",
       "         'said': 786,\n",
       "         'times': 781,\n",
       "         'feel': 760,\n",
       "         'small': 757,\n",
       "         'worth': 755,\n",
       "         'food.': 755,\n",
       "         'sauce': 753,\n",
       "         'looking': 747,\n",
       "         'took': 746,\n",
       "         'favorite': 741,\n",
       "         'should': 733,\n",
       "         'need': 728,\n",
       "         'good,': 727,\n",
       "         'place.': 718,\n",
       "         'tried': 712,\n",
       "         \"that's\": 708,\n",
       "         'bad': 707,\n",
       "         'hour': 706,\n",
       "         'location': 701,\n",
       "         'enough': 694,\n",
       "         'day': 682,\n",
       "         'asked': 681,\n",
       "         'these': 678,\n",
       "         'different': 676,\n",
       "         'hot': 673,\n",
       "         'side': 671,\n",
       "         'table': 670,\n",
       "         'actually': 668,\n",
       "         'found': 667,\n",
       "         'experience': 666,\n",
       "         'things': 663,\n",
       "         'probably': 661,\n",
       "         'long': 659,\n",
       "         'recommend': 654,\n",
       "         '3': 652,\n",
       "         'nothing': 650,\n",
       "         'sweet': 645,\n",
       "         'here.': 644,\n",
       "         'quite': 643,\n",
       "         'dinner': 640,\n",
       "         'those': 640,\n",
       "         'prices': 633,\n",
       "         'kind': 631,\n",
       "         'wanted': 624,\n",
       "         'old': 624,\n",
       "         'thought': 619,\n",
       "         '5': 619,\n",
       "         'food,': 614,\n",
       "         'minutes': 610,\n",
       "         \"i'd\": 609,\n",
       "         'wine': 608,\n",
       "         'delicious': 608,\n",
       "         \"i'll\": 607,\n",
       "         'super': 604,\n",
       "         'told': 601,\n",
       "         'same': 599,\n",
       "         'places': 598,\n",
       "         'burger': 596,\n",
       "         'area': 595,\n",
       "         'check': 595,\n",
       "         'usually': 593,\n",
       "         'drink': 592,\n",
       "         'meal': 591,\n",
       "         'beer': 591,\n",
       "         'huge': 587,\n",
       "         'drinks': 586,\n",
       "         'sandwich': 581,\n",
       "         'though': 580,\n",
       "         'look': 579,\n",
       "         'large': 579,\n",
       "         'coffee': 574,\n",
       "         'work': 573,\n",
       "         'maybe': 570,\n",
       "         'each': 566,\n",
       "         'taste': 566,\n",
       "         'bread': 562,\n",
       "         'friend': 560,\n",
       "         'home': 557,\n",
       "         'once': 556,\n",
       "         'phoenix': 554,\n",
       "         'server': 553,\n",
       "         'decided': 549,\n",
       "         'used': 548,\n",
       "         'breakfast': 545,\n",
       "         'selection': 543,\n",
       "         'store': 541,\n",
       "         'having': 533,\n",
       "         'room': 532,\n",
       "         'friends': 531,\n",
       "         'anything': 531,\n",
       "         'without': 530,\n",
       "         '4': 525,\n",
       "         'getting': 521,\n",
       "         'me.': 519,\n",
       "         'full': 517,\n",
       "         'quality': 513,\n",
       "         'fries': 511,\n",
       "         'sushi': 509,\n",
       "         'meat': 508,\n",
       "         'couple': 507,\n",
       "         'free': 506,\n",
       "         'amazing': 505,\n",
       "         'makes': 504,\n",
       "         'served': 503,\n",
       "         'ask': 501,\n",
       "         'put': 501,\n",
       "         'why': 500,\n",
       "         'fried': 500,\n",
       "         'atmosphere': 499,\n",
       "         'great.': 499,\n",
       "         'almost': 498,\n",
       "         'may': 497,\n",
       "         'enjoy': 497,\n",
       "         'three': 494,\n",
       "         'far': 492,\n",
       "         'stars': 491,\n",
       "         'again': 488,\n",
       "         'price': 487,\n",
       "         'enjoyed': 484,\n",
       "         'years': 482,\n",
       "         'time.': 480,\n",
       "         'there.': 480,\n",
       "         'parking': 479,\n",
       "         'least': 478,\n",
       "         'during': 478,\n",
       "         'it,': 477,\n",
       "         'beef': 477,\n",
       "         'red': 477,\n",
       "         'top': 477,\n",
       "         'loved': 476,\n",
       "         'well.': 475,\n",
       "         'everyone': 471,\n",
       "         'mexican': 468,\n",
       "         'special': 467,\n",
       "         'through': 467,\n",
       "         'whole': 466,\n",
       "         'half': 466,\n",
       "         'such': 462,\n",
       "         'visit': 461,\n",
       "         'open': 459,\n",
       "         'ice': 458,\n",
       "         'looked': 456,\n",
       "         'several': 452,\n",
       "         'eating': 449,\n",
       "         'use': 448,\n",
       "         'cream': 448,\n",
       "         'hard': 447,\n",
       "         'perfect': 445,\n",
       "         'let': 445,\n",
       "         'left': 445,\n",
       "         \"doesn't\": 442,\n",
       "         'clean': 440,\n",
       "         'high': 438,\n",
       "         'does': 436,\n",
       "         'tasty': 435,\n",
       "         \"isn't\": 434,\n",
       "         'cool': 434,\n",
       "         'husband': 430,\n",
       "         'pork': 425,\n",
       "         'must': 423,\n",
       "         'house': 423,\n",
       "         'dining': 423,\n",
       "         'away': 422,\n",
       "         'rice': 421,\n",
       "         'tasted': 420,\n",
       "         'green': 418,\n",
       "         'local': 418,\n",
       "         'live': 416,\n",
       "         'family': 415,\n",
       "         'however,': 414,\n",
       "         'close': 412,\n",
       "         'dish': 411,\n",
       "         'outside': 410,\n",
       "         'especially': 409,\n",
       "         'fun': 408,\n",
       "         'items': 408,\n",
       "         'liked': 406,\n",
       "         'spicy': 405,\n",
       "         'bring': 404,\n",
       "         'gave': 404,\n",
       "         'comes': 403,\n",
       "         'service.': 402,\n",
       "         'might': 401,\n",
       "         'review': 399,\n",
       "         'tell': 398,\n",
       "         'trying': 397,\n",
       "         \"won't\": 394,\n",
       "         'excellent': 393,\n",
       "         'less': 393,\n",
       "         'someone': 392,\n",
       "         'part': 392,\n",
       "         'scottsdale': 392,\n",
       "         'inside': 391,\n",
       "         'coming': 391,\n",
       "         'care': 388,\n",
       "         'awesome': 387,\n",
       "         'keep': 384,\n",
       "         'real': 383,\n",
       "         'chocolate': 383,\n",
       "         'until': 382,\n",
       "         'music': 382,\n",
       "         'else': 381,\n",
       "         'him': 381,\n",
       "         'customer': 380,\n",
       "         'fish': 379,\n",
       "         'decent': 379,\n",
       "         'out.': 377,\n",
       "         'star': 377,\n",
       "         'sit': 376,\n",
       "         'stop': 375,\n",
       "         'fan': 374,\n",
       "         'walked': 374,\n",
       "         'own': 370,\n",
       "         'patio': 369,\n",
       "         'waitress': 368,\n",
       "         'walk': 367,\n",
       "         'seemed': 367,\n",
       "         \"couldn't\": 366,\n",
       "         \"there's\": 365,\n",
       "         'flavor': 365,\n",
       "         'water': 365,\n",
       "         'felt': 365,\n",
       "         'brought': 365,\n",
       "         'started': 364,\n",
       "         'too.': 364,\n",
       "         'seems': 363,\n",
       "         'spot': 362,\n",
       "         'able': 361,\n",
       "         'called': 358,\n",
       "         'lots': 358,\n",
       "         'sat': 355,\n",
       "         'town': 353,\n",
       "         'dishes': 351,\n",
       "         '10': 351,\n",
       "         'call': 348,\n",
       "         'pay': 348,\n",
       "         'extra': 347,\n",
       "         'kids': 343,\n",
       "         'fast': 343,\n",
       "         'although': 342,\n",
       "         \"they're\": 342,\n",
       "         'delicious.': 341,\n",
       "         'waiting': 341,\n",
       "         'soup': 340,\n",
       "         'here,': 340,\n",
       "         'finally': 338,\n",
       "         'thai': 338,\n",
       "         'shrimp': 336,\n",
       "         'front': 336,\n",
       "         'guy': 335,\n",
       "         'chips': 334,\n",
       "         'steak': 334,\n",
       "         'seem': 334,\n",
       "         'end': 333,\n",
       "         'cooked': 331,\n",
       "         'highly': 328,\n",
       "         'busy': 328,\n",
       "         'place,': 327,\n",
       "         'restaurants': 327,\n",
       "         'plate': 325,\n",
       "         'drive': 324,\n",
       "         'wish': 324,\n",
       "         'regular': 324,\n",
       "         'well,': 323,\n",
       "         'saw': 322,\n",
       "         'shop': 322,\n",
       "         'great,': 319,\n",
       "         'white': 317,\n",
       "         \"wouldn't\": 317,\n",
       "         'quick': 317,\n",
       "         'potato': 315,\n",
       "         'wonderful': 312,\n",
       "         'second': 310,\n",
       "         'course': 309,\n",
       "         'business': 309,\n",
       "         'wife': 308,\n",
       "         'reviews': 305,\n",
       "         'me,': 305,\n",
       "         '.': 304,\n",
       "         'ate': 302,\n",
       "         'hours': 302,\n",
       "         'guess': 301,\n",
       "         'tables': 301,\n",
       "         'absolutely': 294,\n",
       "         'bbq': 294,\n",
       "         'serve': 294,\n",
       "         'instead': 294,\n",
       "         'them.': 292,\n",
       "         'tacos': 292,\n",
       "         'time,': 292,\n",
       "         'extremely': 291,\n",
       "         'making': 291,\n",
       "         'four': 290,\n",
       "         'overall': 290,\n",
       "         'needed': 290,\n",
       "         'done': 290,\n",
       "         'service,': 289,\n",
       "         'offer': 288,\n",
       "         'name': 287,\n",
       "         \"you'll\": 286,\n",
       "         'yet': 285,\n",
       "         'help': 285,\n",
       "         'reason': 285,\n",
       "         'looks': 284,\n",
       "         'waiter': 283,\n",
       "         'glass': 283,\n",
       "         'also,': 283,\n",
       "         'gets': 283,\n",
       "         'pick': 283,\n",
       "         'group': 283,\n",
       "         'decor': 282,\n",
       "         'buy': 282,\n",
       "         'style': 281,\n",
       "         'back.': 281,\n",
       "         'between': 279,\n",
       "         'stuff': 278,\n",
       "         '(i': 278,\n",
       "         'type': 277,\n",
       "         'plenty': 277,\n",
       "         'light': 277,\n",
       "         'oh': 277,\n",
       "         'year': 275,\n",
       "         'ended': 274,\n",
       "         'either': 274,\n",
       "         'salsa': 273,\n",
       "         'experience.': 273,\n",
       "         'myself': 272,\n",
       "         'car': 271,\n",
       "         'chinese': 271,\n",
       "         'menu.': 270,\n",
       "         'there,': 270,\n",
       "         'grilled': 270,\n",
       "         'expect': 270,\n",
       "         'line': 270,\n",
       "         'fact': 268,\n",
       "         'week': 268,\n",
       "         '--': 268,\n",
       "         'sitting': 266,\n",
       "         'amount': 266,\n",
       "         'add': 266,\n",
       "         'meal.': 266,\n",
       "         '(and': 266,\n",
       "         'restaurant.': 265,\n",
       "         'remember': 264,\n",
       "         \"haven't\": 264,\n",
       "         'near': 263,\n",
       "         'yelp': 262,\n",
       "         'easy': 261,\n",
       "         'rather': 261,\n",
       "         'tea': 261,\n",
       "         'owner': 260,\n",
       "         'start': 259,\n",
       "         'past': 257,\n",
       "         'cheap': 257,\n",
       "         'night.': 257,\n",
       "         'hit': 257,\n",
       "         'amazing.': 255,\n",
       "         'street': 255,\n",
       "         'stay': 254,\n",
       "         'across': 253,\n",
       "         'friendly.': 252,\n",
       "         'person': 252,\n",
       "         'saturday': 251,\n",
       "         'again.': 250,\n",
       "         'seen': 250,\n",
       "         'heard': 250,\n",
       "         'anyone': 249,\n",
       "         'run': 248,\n",
       "         'size': 248,\n",
       "         'under': 247,\n",
       "         'choose': 246,\n",
       "         'warm': 244,\n",
       "         'hotel': 244,\n",
       "         'french': 242,\n",
       "         'money': 242,\n",
       "         'main': 242,\n",
       "         'along': 241,\n",
       "         'eaten': 241,\n",
       "         'all,': 241,\n",
       "         'party': 241,\n",
       "         'late': 241,\n",
       "         'that.': 240,\n",
       "         'door': 240,\n",
       "         'working': 240,\n",
       "         'bar.': 240,\n",
       "         'behind': 239,\n",
       "         'dessert': 239,\n",
       "         'return': 239,\n",
       "         'often': 239,\n",
       "         'all.': 237,\n",
       "         '1': 237,\n",
       "         'believe': 237,\n",
       "         'dog': 236,\n",
       "         'day.': 236,\n",
       "         'variety': 235,\n",
       "         'given': 234,\n",
       "         'portions': 234,\n",
       "         'flavors': 233,\n",
       "         'five': 232,\n",
       "         'early': 232,\n",
       "         'friendly,': 231,\n",
       "         'friday': 231,\n",
       "         'bacon': 230,\n",
       "         'perfectly': 230,\n",
       "         'totally': 229,\n",
       "         'plus': 229,\n",
       "         'glad': 228,\n",
       "         'yes,': 228,\n",
       "         'already': 226,\n",
       "         'set': 226,\n",
       "         'tasty.': 225,\n",
       "         'bowl': 225,\n",
       "         'again,': 225,\n",
       "         'today': 225,\n",
       "         'seating': 224,\n",
       "         'deal': 223,\n",
       "         'kitchen': 222,\n",
       "         'knew': 222,\n",
       "         'wrong': 221,\n",
       "         'job': 220,\n",
       "         'morning': 220,\n",
       "         'sauce.': 220,\n",
       "         'leave': 219,\n",
       "         'entire': 219,\n",
       "         'pool': 219,\n",
       "         'egg': 218,\n",
       "         'walking': 218,\n",
       "         'italian': 217,\n",
       "         'guys': 216,\n",
       "         'beans': 216,\n",
       "         'overall,': 216,\n",
       "         '20': 216,\n",
       "         'so,': 215,\n",
       "         'hope': 215,\n",
       "         'read': 215,\n",
       "         'manager': 214,\n",
       "         'point': 214,\n",
       "         'beautiful': 214,\n",
       "         'stopped': 213,\n",
       "         'fantastic': 213,\n",
       "         'shopping': 212,\n",
       "         'in.': 212,\n",
       "         'cut': 211,\n",
       "         'ok': 211,\n",
       "         'sometimes': 211,\n",
       "         'cheese,': 211,\n",
       "         'taking': 211,\n",
       "         'short': 211,\n",
       "         'watch': 210,\n",
       "         'rest': 210,\n",
       "         'you.': 210,\n",
       "         'mind': 210,\n",
       "         'arrived': 209,\n",
       "         'rolls': 209,\n",
       "         'seated': 208,\n",
       "         'better.': 207,\n",
       "         'impressed': 207,\n",
       "         'surprised': 206,\n",
       "         'waited': 206,\n",
       "         'kept': 206,\n",
       "         'spend': 206,\n",
       "         'show': 205,\n",
       "         'offered': 205,\n",
       "         'nice.': 205,\n",
       "         'downtown': 205,\n",
       "         'us.': 205,\n",
       "         'list': 205,\n",
       "         'options': 205,\n",
       "         'valley': 205,\n",
       "         'completely': 205,\n",
       "         'sunday': 202,\n",
       "         'sandwiches': 199,\n",
       "         'up.': 199,\n",
       "         'choice': 199,\n",
       "         'trip': 199,\n",
       "         'doing': 198,\n",
       "         'roll': 198,\n",
       "         'helpful': 197,\n",
       "         \"aren't\": 197,\n",
       "         'average': 197,\n",
       "         'ready': 197,\n",
       "         'feeling': 196,\n",
       "         '(which': 196,\n",
       "         'had.': 195,\n",
       "         'pasta': 195,\n",
       "         'ok,': 195,\n",
       "         'park': 194,\n",
       "         'cute': 194,\n",
       "         'typical': 194,\n",
       "         'area.': 194,\n",
       "         'taco': 194,\n",
       "         'yummy': 193,\n",
       "         'cold': 193,\n",
       "         'menu,': 193,\n",
       "         'counter': 193,\n",
       "         'burgers': 193,\n",
       "         'black': 193,\n",
       "         'ingredients': 192,\n",
       "         'located': 192,\n",
       "         \"weren't\": 192,\n",
       "         'awesome.': 192,\n",
       "         'however': 192,\n",
       "         'head': 192,\n",
       "         'ordering': 192,\n",
       "         'unique': 191,\n",
       "         'chef': 190,\n",
       "         'garlic': 190,\n",
       "         'cake': 190,\n",
       "         'moved': 190,\n",
       "         'sort': 190,\n",
       "         'problem': 190,\n",
       "         'mean': 189,\n",
       "         'that,': 188,\n",
       "         'table.': 188,\n",
       "         'butter': 187,\n",
       "         'appetizer': 187,\n",
       "         'giving': 187,\n",
       "         'corn': 187,\n",
       "         'but,': 187,\n",
       "         'girl': 186,\n",
       "         'mixed': 186,\n",
       "         'disappointed': 185,\n",
       "         'in,': 184,\n",
       "         'salad.': 184,\n",
       "         'said,': 184,\n",
       "         'arizona': 184,\n",
       "         'days': 183,\n",
       "         'gone': 183,\n",
       "         'nice,': 183,\n",
       "         'kinda': 183,\n",
       "         'beers': 183,\n",
       "         'noticed': 183,\n",
       "         'twice': 182,\n",
       "         'date': 182,\n",
       "         'filled': 181,\n",
       "         'fine': 181,\n",
       "         'others': 181,\n",
       "         'mom': 181,\n",
       "         'pizza.': 180,\n",
       "         'employees': 180,\n",
       "         'authentic': 180,\n",
       "         '6': 180,\n",
       "         'grab': 180,\n",
       "         'ones': 179,\n",
       "         'potatoes': 179,\n",
       "         'burrito': 179,\n",
       "         'including': 178,\n",
       "         'tomato': 178,\n",
       "         'onion': 178,\n",
       "         'hate': 178,\n",
       "         'pho': 178,\n",
       "         'reasonable': 178,\n",
       "         'out,': 178,\n",
       "         'bill': 177,\n",
       "         'go.': 177,\n",
       "         'wings': 177,\n",
       "         'tastes': 177,\n",
       "         'exactly': 176,\n",
       "         'tempe': 176,\n",
       "         'spring': 176,\n",
       "         'understand': 175,\n",
       "         'it!': 175,\n",
       "         'portion': 174,\n",
       "         'though.': 174,\n",
       "         'veggie': 174,\n",
       "         'unless': 173,\n",
       "         'etc.': 173,\n",
       "         'priced': 173,\n",
       "         'now,': 173,\n",
       "         'mall': 173,\n",
       "         'idea': 172,\n",
       "         'itself': 172,\n",
       "         'within': 172,\n",
       "         'bite': 172,\n",
       "         'later': 172,\n",
       "         'outdoor': 172,\n",
       "         'servers': 172,\n",
       "         'quickly': 171,\n",
       "         'crispy': 171,\n",
       "         'dry': 171,\n",
       "         'asian': 170,\n",
       "         'cannot': 170,\n",
       "         'weekend': 170,\n",
       "         'flavor.': 169,\n",
       "         'mac': 169,\n",
       "         'night,': 169,\n",
       "         'bottle': 168,\n",
       "         'truly': 168,\n",
       "         'cost': 168,\n",
       "         'cup': 168,\n",
       "         'thank': 166,\n",
       "         'forward': 166,\n",
       "         'saying': 166,\n",
       "         'salad,': 166,\n",
       "         'good!': 166,\n",
       "         'chain': 166,\n",
       "         'on.': 166,\n",
       "         'recently': 166,\n",
       "         'excited': 165,\n",
       "         'neighborhood': 165,\n",
       "         'charge': 165,\n",
       "         'school': 165,\n",
       "         'frozen': 165,\n",
       "         'crust': 164,\n",
       "         'based': 164,\n",
       "         'game': 163,\n",
       "         'ago': 163,\n",
       "         'clean,': 163,\n",
       "         'needs': 163,\n",
       "         '30': 163,\n",
       "         'packed': 163,\n",
       "         'simple': 162,\n",
       "         'play': 162,\n",
       "         'order.': 162,\n",
       "         'simply': 161,\n",
       "         'eggs': 161,\n",
       "         'specials': 161,\n",
       "         'single': 161,\n",
       "         'dinner.': 161,\n",
       "         '15': 161,\n",
       "         'change': 161,\n",
       "         'excellent.': 160,\n",
       "         'bar,': 160,\n",
       "         'card': 160,\n",
       "         'takes': 160,\n",
       "         'comfortable': 160,\n",
       "         'number': 160,\n",
       "         'upon': 160,\n",
       "         ',': 160,\n",
       "         'strip': 160,\n",
       "         'please': 159,\n",
       "         'staff.': 159,\n",
       "         'man': 159,\n",
       "         'fairly': 158,\n",
       "         'phoenix.': 158,\n",
       "         'bartender': 158,\n",
       "         'months': 158,\n",
       "         'spent': 158,\n",
       "         'az': 158,\n",
       "         'disappointed.': 157,\n",
       "         'slightly': 157,\n",
       "         'market': 157,\n",
       "         'stand': 157,\n",
       "         'one.': 156,\n",
       "         'chicken,': 156,\n",
       "         'area,': 156,\n",
       "         'home.': 156,\n",
       "         'hand': 156,\n",
       "         'dark': 155,\n",
       "         'lived': 154,\n",
       "         'price.': 154,\n",
       "         'added': 154,\n",
       "         'plates': 153,\n",
       "         'say,': 153,\n",
       "         'talk': 153,\n",
       "         'space': 153,\n",
       "         'crowd': 153,\n",
       "         'pieces': 152,\n",
       "         \"you've\": 152,\n",
       "         'though,': 152,\n",
       "         'above': 152,\n",
       "         'roasted': 152,\n",
       "         'attentive': 152,\n",
       "         'ambiance': 152,\n",
       "         'taken': 152,\n",
       "         'ok.': 152,\n",
       "         'customers': 151,\n",
       "         'sauce,': 151,\n",
       "         'curry': 151,\n",
       "         'tuna': 151,\n",
       "         'bought': 151,\n",
       "         'blue': 151,\n",
       "         '*': 151,\n",
       "         'desert': 150,\n",
       "         'received': 150,\n",
       "         'soon': 150,\n",
       "         'hair': 150,\n",
       "         'yourself': 149,\n",
       "         'thanks': 149,\n",
       "         'lunch.': 149,\n",
       "         'great!': 149,\n",
       "         'soft': 149,\n",
       "         'sports': 149,\n",
       "         'goes': 148,\n",
       "         'shared': 148,\n",
       "         'orange': 148,\n",
       "         'for.': 148,\n",
       "         'phone': 148,\n",
       "         'hear': 148,\n",
       "         'iced': 148,\n",
       "         'crab': 148,\n",
       "         'expensive': 148,\n",
       "         'lady': 147,\n",
       "         'opened': 147,\n",
       "         'prefer': 147,\n",
       "         'piece': 147,\n",
       "         'certainly': 147,\n",
       "         'talking': 147,\n",
       "         'slow': 147,\n",
       "         'craving': 147,\n",
       "         'prepared': 146,\n",
       "         'miss': 146,\n",
       "         'birthday': 145,\n",
       "         'stars.': 145,\n",
       "         'sausage': 145,\n",
       "         'interesting': 145,\n",
       "         'watching': 145,\n",
       "         'due': 145,\n",
       "         'anywhere': 145,\n",
       "         'is.': 145,\n",
       "         'available': 144,\n",
       "         'tons': 144,\n",
       "         'longer': 144,\n",
       "         'literally': 144,\n",
       "         'carne': 144,\n",
       "         'boyfriend': 144,\n",
       "         'serving': 143,\n",
       "         'cheese.': 143,\n",
       "         'low': 143,\n",
       "         'fresh,': 143,\n",
       "         \"we've\": 143,\n",
       "         'pleasant': 142,\n",
       "         'hang': 142,\n",
       "         'center': 142,\n",
       "         'restaurant,': 142,\n",
       "         'paid': 142,\n",
       "         'stuffed': 142,\n",
       "         'playing': 141,\n",
       "         'homemade': 141,\n",
       "         'owners': 141,\n",
       "         'hands': 141,\n",
       "         'paying': 141,\n",
       "         'middle': 140,\n",
       "         'except': 140,\n",
       "         'up,': 140,\n",
       "         'thinking': 140,\n",
       "         'split': 140,\n",
       "         'greeted': 140,\n",
       "         'total': 140,\n",
       "         'times.': 140,\n",
       "         'finish': 140,\n",
       "         'vegetarian': 139,\n",
       "         'sign': 139,\n",
       "         'movie': 139,\n",
       "         'salmon': 139,\n",
       "         'pulled': 139,\n",
       "         'salads': 138,\n",
       "         'back,': 138,\n",
       "         'empty': 138,\n",
       "         'worst': 138,\n",
       "         'to.': 138,\n",
       "         'office': 138,\n",
       "         'item': 138,\n",
       "         'mix': 137,\n",
       "         'fries.': 137,\n",
       "         'oh,': 137,\n",
       "         'somewhere': 137,\n",
       "         'cook': 137,\n",
       "         'perhaps': 136,\n",
       "         '...': 136,\n",
       "         'sandwich.': 136,\n",
       "         'stayed': 136,\n",
       "         'delicious,': 135,\n",
       "         'more.': 135,\n",
       "         'bucks': 135,\n",
       "         'and,': 135,\n",
       "         'write': 135,\n",
       "         'mention': 134,\n",
       "         'easily': 134,\n",
       "         'finished': 133,\n",
       "         'picked': 133,\n",
       "         'club': 133,\n",
       "         'bad.': 133,\n",
       "         'tip': 133,\n",
       "         'company': 132,\n",
       "         'expected': 132,\n",
       "         'normally': 132,\n",
       "         'says': 132,\n",
       "         'chance': 132,\n",
       "         'off.': 132,\n",
       "         'personal': 132,\n",
       "         'anyway,': 131,\n",
       "         'you,': 131,\n",
       "         'forget': 131,\n",
       "         'tiny': 131,\n",
       "         'lack': 131,\n",
       "         'using': 131,\n",
       "         'valley.': 131,\n",
       "         'seeing': 130,\n",
       "         'turned': 130,\n",
       "         ':)': 130,\n",
       "         'nearly': 130,\n",
       "         '(the': 130,\n",
       "         'plan': 129,\n",
       "         '(not': 129,\n",
       "         'worked': 129,\n",
       "         'weeks': 129,\n",
       "         'healthy': 129,\n",
       "         'casual': 129,\n",
       "         'town.': 129,\n",
       "         'per': 129,\n",
       "         'evening': 128,\n",
       "         'baked': 128,\n",
       "         'delicious!': 128,\n",
       "         'young': 128,\n",
       "         'day,': 128,\n",
       "         'entrees': 127,\n",
       "         'la': 127,\n",
       "         'meals': 127,\n",
       "         'damn': 127,\n",
       "         'true': 127,\n",
       "         'store.': 127,\n",
       "         'north': 127,\n",
       "         'bean': 127,\n",
       "         'poor': 127,\n",
       "         'pita': 127,\n",
       "         'oil': 126,\n",
       "         ...})"
      ]
     },
     "execution_count": 101,
     "metadata": {},
     "output_type": "execute_result"
    }
   ],
   "source": [
    "Counter(s.split()) # hangi kelime kaç defa kullanılmış"
   ]
  },
  {
   "cell_type": "code",
   "execution_count": 102,
   "id": "7d7995f0-5383-4922-a9d4-04d71df7d05a",
   "metadata": {},
   "outputs": [],
   "source": [
    "s2=nfx.remove_stopwords(s)  #yardımcı kelimeleri kaldırdı the, a, as gibi "
   ]
  },
  {
   "cell_type": "code",
   "execution_count": 103,
   "id": "3fbeb1dc-505d-42d4-8f21-88bdd280ac7b",
   "metadata": {
    "scrolled": true
   },
   "outputs": [
    {
     "data": {
      "text/plain": [
       "Counter({'place': 5186,\n",
       "         'like': 4688,\n",
       "         'good': 4286,\n",
       "         'food': 4274,\n",
       "         'great': 3697,\n",
       "         '-': 2858,\n",
       "         'time': 2447,\n",
       "         'service': 2191,\n",
       "         'little': 2176,\n",
       "         \"i'm\": 1988,\n",
       "         'love': 1970,\n",
       "         \"i've\": 1844,\n",
       "         'got': 1787,\n",
       "         'pretty': 1752,\n",
       "         'nice': 1709,\n",
       "         'best': 1610,\n",
       "         'ordered': 1591,\n",
       "         'try': 1492,\n",
       "         'think': 1462,\n",
       "         'people': 1383,\n",
       "         'know': 1376,\n",
       "         'going': 1374,\n",
       "         'chicken': 1371,\n",
       "         'it.': 1359,\n",
       "         'went': 1325,\n",
       "         'order': 1251,\n",
       "         'came': 1231,\n",
       "         'restaurant': 1205,\n",
       "         'want': 1193,\n",
       "         'come': 1189,\n",
       "         'staff': 1175,\n",
       "         'good.': 1149,\n",
       "         'way': 1145,\n",
       "         'definitely': 1122,\n",
       "         'better': 1119,\n",
       "         'new': 1110,\n",
       "         'menu': 1084,\n",
       "         'bar': 1042,\n",
       "         'right': 1029,\n",
       "         '&': 1022,\n",
       "         \"can't\": 1016,\n",
       "         'happy': 999,\n",
       "         'find': 989,\n",
       "         'bit': 985,\n",
       "         'eat': 963,\n",
       "         'sure': 955,\n",
       "         'pizza': 946,\n",
       "         'friendly': 928,\n",
       "         'lunch': 924,\n",
       "         'night': 905,\n",
       "         'cheese': 903,\n",
       "         'wait': 883,\n",
       "         'fresh': 880,\n",
       "         'salad': 846,\n",
       "         'big': 823,\n",
       "         'lot': 816,\n",
       "         '2': 801,\n",
       "         'thing': 794,\n",
       "         'said': 786,\n",
       "         'times': 781,\n",
       "         'feel': 760,\n",
       "         'small': 757,\n",
       "         'worth': 755,\n",
       "         'food.': 755,\n",
       "         'sauce': 753,\n",
       "         'looking': 747,\n",
       "         'took': 746,\n",
       "         'favorite': 741,\n",
       "         'need': 728,\n",
       "         'good,': 727,\n",
       "         'place.': 718,\n",
       "         'tried': 712,\n",
       "         \"that's\": 708,\n",
       "         'bad': 707,\n",
       "         'hour': 706,\n",
       "         'location': 701,\n",
       "         'day': 682,\n",
       "         'asked': 681,\n",
       "         'different': 676,\n",
       "         'hot': 673,\n",
       "         'table': 670,\n",
       "         'actually': 668,\n",
       "         'found': 667,\n",
       "         'experience': 666,\n",
       "         'things': 663,\n",
       "         'probably': 661,\n",
       "         'long': 659,\n",
       "         'recommend': 654,\n",
       "         '3': 652,\n",
       "         'sweet': 645,\n",
       "         'here.': 644,\n",
       "         'dinner': 640,\n",
       "         'prices': 633,\n",
       "         'kind': 631,\n",
       "         'wanted': 624,\n",
       "         'old': 624,\n",
       "         'thought': 619,\n",
       "         '5': 619,\n",
       "         'food,': 614,\n",
       "         'minutes': 610,\n",
       "         \"i'd\": 609,\n",
       "         'wine': 608,\n",
       "         'delicious': 608,\n",
       "         \"i'll\": 607,\n",
       "         'super': 604,\n",
       "         'told': 601,\n",
       "         'places': 598,\n",
       "         'burger': 596,\n",
       "         'area': 595,\n",
       "         'check': 595,\n",
       "         'usually': 593,\n",
       "         'drink': 592,\n",
       "         'meal': 591,\n",
       "         'beer': 591,\n",
       "         'huge': 587,\n",
       "         'drinks': 586,\n",
       "         'sandwich': 581,\n",
       "         'look': 579,\n",
       "         'large': 579,\n",
       "         'coffee': 574,\n",
       "         'work': 573,\n",
       "         'maybe': 570,\n",
       "         'taste': 566,\n",
       "         'bread': 562,\n",
       "         'friend': 560,\n",
       "         'home': 557,\n",
       "         'phoenix': 554,\n",
       "         'server': 553,\n",
       "         'decided': 549,\n",
       "         'breakfast': 545,\n",
       "         'selection': 543,\n",
       "         'store': 541,\n",
       "         'room': 532,\n",
       "         'friends': 531,\n",
       "         '4': 525,\n",
       "         'getting': 521,\n",
       "         'me.': 519,\n",
       "         'quality': 513,\n",
       "         'fries': 511,\n",
       "         'sushi': 509,\n",
       "         'meat': 508,\n",
       "         'couple': 507,\n",
       "         'free': 506,\n",
       "         'amazing': 505,\n",
       "         'makes': 504,\n",
       "         'served': 503,\n",
       "         'ask': 501,\n",
       "         'fried': 500,\n",
       "         'atmosphere': 499,\n",
       "         'great.': 499,\n",
       "         'enjoy': 497,\n",
       "         'far': 492,\n",
       "         'stars': 491,\n",
       "         'price': 487,\n",
       "         'enjoyed': 484,\n",
       "         'years': 482,\n",
       "         'time.': 480,\n",
       "         'there.': 480,\n",
       "         'parking': 479,\n",
       "         'it,': 477,\n",
       "         'beef': 477,\n",
       "         'red': 477,\n",
       "         'loved': 476,\n",
       "         'well.': 475,\n",
       "         'mexican': 468,\n",
       "         'special': 467,\n",
       "         'half': 466,\n",
       "         'visit': 461,\n",
       "         'open': 459,\n",
       "         'ice': 458,\n",
       "         'looked': 456,\n",
       "         'eating': 449,\n",
       "         'use': 448,\n",
       "         'cream': 448,\n",
       "         'hard': 447,\n",
       "         'perfect': 445,\n",
       "         'let': 445,\n",
       "         'left': 445,\n",
       "         'clean': 440,\n",
       "         'high': 438,\n",
       "         'tasty': 435,\n",
       "         'cool': 434,\n",
       "         'husband': 430,\n",
       "         'pork': 425,\n",
       "         'house': 423,\n",
       "         'dining': 423,\n",
       "         'away': 422,\n",
       "         'rice': 421,\n",
       "         'tasted': 420,\n",
       "         'green': 418,\n",
       "         'local': 418,\n",
       "         'live': 416,\n",
       "         'family': 415,\n",
       "         'however,': 414,\n",
       "         'close': 412,\n",
       "         'dish': 411,\n",
       "         'outside': 410,\n",
       "         'especially': 409,\n",
       "         'fun': 408,\n",
       "         'items': 408,\n",
       "         'liked': 406,\n",
       "         'spicy': 405,\n",
       "         'bring': 404,\n",
       "         'gave': 404,\n",
       "         'comes': 403,\n",
       "         'service.': 402,\n",
       "         'review': 399,\n",
       "         'tell': 398,\n",
       "         'trying': 397,\n",
       "         'excellent': 393,\n",
       "         'scottsdale': 392,\n",
       "         'inside': 391,\n",
       "         'coming': 391,\n",
       "         'care': 388,\n",
       "         'awesome': 387,\n",
       "         'real': 383,\n",
       "         'chocolate': 383,\n",
       "         'music': 382,\n",
       "         'customer': 380,\n",
       "         'fish': 379,\n",
       "         'decent': 379,\n",
       "         'out.': 377,\n",
       "         'star': 377,\n",
       "         'sit': 376,\n",
       "         'stop': 375,\n",
       "         'fan': 374,\n",
       "         'walked': 374,\n",
       "         'patio': 369,\n",
       "         'waitress': 368,\n",
       "         'walk': 367,\n",
       "         \"there's\": 365,\n",
       "         'flavor': 365,\n",
       "         'water': 365,\n",
       "         'felt': 365,\n",
       "         'brought': 365,\n",
       "         'started': 364,\n",
       "         'too.': 364,\n",
       "         'spot': 362,\n",
       "         'able': 361,\n",
       "         'called': 358,\n",
       "         'lots': 358,\n",
       "         'sat': 355,\n",
       "         'town': 353,\n",
       "         'dishes': 351,\n",
       "         '10': 351,\n",
       "         'pay': 348,\n",
       "         'extra': 347,\n",
       "         'kids': 343,\n",
       "         'fast': 343,\n",
       "         \"they're\": 342,\n",
       "         'delicious.': 341,\n",
       "         'waiting': 341,\n",
       "         'soup': 340,\n",
       "         'here,': 340,\n",
       "         'finally': 338,\n",
       "         'thai': 338,\n",
       "         'shrimp': 336,\n",
       "         'guy': 335,\n",
       "         'chips': 334,\n",
       "         'steak': 334,\n",
       "         'end': 333,\n",
       "         'cooked': 331,\n",
       "         'highly': 328,\n",
       "         'busy': 328,\n",
       "         'place,': 327,\n",
       "         'restaurants': 327,\n",
       "         'plate': 325,\n",
       "         'drive': 324,\n",
       "         'wish': 324,\n",
       "         'regular': 324,\n",
       "         'well,': 323,\n",
       "         'saw': 322,\n",
       "         'shop': 322,\n",
       "         'great,': 319,\n",
       "         'white': 317,\n",
       "         'quick': 317,\n",
       "         'potato': 315,\n",
       "         'wonderful': 312,\n",
       "         'second': 310,\n",
       "         'course': 309,\n",
       "         'business': 309,\n",
       "         'wife': 308,\n",
       "         'reviews': 305,\n",
       "         'me,': 305,\n",
       "         '.': 304,\n",
       "         'ate': 302,\n",
       "         'hours': 302,\n",
       "         'guess': 301,\n",
       "         'tables': 301,\n",
       "         'absolutely': 294,\n",
       "         'bbq': 294,\n",
       "         'serve': 294,\n",
       "         'instead': 294,\n",
       "         'them.': 292,\n",
       "         'tacos': 292,\n",
       "         'time,': 292,\n",
       "         'extremely': 291,\n",
       "         'making': 291,\n",
       "         'overall': 290,\n",
       "         'needed': 290,\n",
       "         'service,': 289,\n",
       "         'offer': 288,\n",
       "         'help': 285,\n",
       "         'reason': 285,\n",
       "         'looks': 284,\n",
       "         'waiter': 283,\n",
       "         'glass': 283,\n",
       "         'also,': 283,\n",
       "         'gets': 283,\n",
       "         'pick': 283,\n",
       "         'group': 283,\n",
       "         'decor': 282,\n",
       "         'buy': 282,\n",
       "         'style': 281,\n",
       "         'back.': 281,\n",
       "         'stuff': 278,\n",
       "         '(i': 278,\n",
       "         'type': 277,\n",
       "         'plenty': 277,\n",
       "         'light': 277,\n",
       "         'oh': 277,\n",
       "         'year': 275,\n",
       "         'ended': 274,\n",
       "         'salsa': 273,\n",
       "         'experience.': 273,\n",
       "         'car': 271,\n",
       "         'chinese': 271,\n",
       "         'menu.': 270,\n",
       "         'there,': 270,\n",
       "         'grilled': 270,\n",
       "         'expect': 270,\n",
       "         'line': 270,\n",
       "         'fact': 268,\n",
       "         'week': 268,\n",
       "         '--': 268,\n",
       "         'sitting': 266,\n",
       "         'add': 266,\n",
       "         'meal.': 266,\n",
       "         '(and': 266,\n",
       "         'restaurant.': 265,\n",
       "         'remember': 264,\n",
       "         'near': 263,\n",
       "         'yelp': 262,\n",
       "         'easy': 261,\n",
       "         'tea': 261,\n",
       "         'owner': 260,\n",
       "         'start': 259,\n",
       "         'past': 257,\n",
       "         'cheap': 257,\n",
       "         'night.': 257,\n",
       "         'hit': 257,\n",
       "         'amazing.': 255,\n",
       "         'street': 255,\n",
       "         'stay': 254,\n",
       "         'friendly.': 252,\n",
       "         'person': 252,\n",
       "         'saturday': 251,\n",
       "         'again.': 250,\n",
       "         'seen': 250,\n",
       "         'heard': 250,\n",
       "         'run': 248,\n",
       "         'size': 248,\n",
       "         'choose': 246,\n",
       "         'warm': 244,\n",
       "         'hotel': 244,\n",
       "         'french': 242,\n",
       "         'money': 242,\n",
       "         'main': 242,\n",
       "         'eaten': 241,\n",
       "         'all,': 241,\n",
       "         'party': 241,\n",
       "         'late': 241,\n",
       "         'that.': 240,\n",
       "         'door': 240,\n",
       "         'working': 240,\n",
       "         'bar.': 240,\n",
       "         'dessert': 239,\n",
       "         'return': 239,\n",
       "         'all.': 237,\n",
       "         '1': 237,\n",
       "         'believe': 237,\n",
       "         'dog': 236,\n",
       "         'day.': 236,\n",
       "         'variety': 235,\n",
       "         'given': 234,\n",
       "         'portions': 234,\n",
       "         'flavors': 233,\n",
       "         'early': 232,\n",
       "         'friendly,': 231,\n",
       "         'friday': 231,\n",
       "         'bacon': 230,\n",
       "         'perfectly': 230,\n",
       "         'totally': 229,\n",
       "         'plus': 229,\n",
       "         'glad': 228,\n",
       "         'yes,': 228,\n",
       "         'set': 226,\n",
       "         'tasty.': 225,\n",
       "         'bowl': 225,\n",
       "         'again,': 225,\n",
       "         'today': 225,\n",
       "         'seating': 224,\n",
       "         'deal': 223,\n",
       "         'kitchen': 222,\n",
       "         'knew': 222,\n",
       "         'wrong': 221,\n",
       "         'job': 220,\n",
       "         'morning': 220,\n",
       "         'sauce.': 220,\n",
       "         'leave': 219,\n",
       "         'entire': 219,\n",
       "         'pool': 219,\n",
       "         'egg': 218,\n",
       "         'walking': 218,\n",
       "         'italian': 217,\n",
       "         'guys': 216,\n",
       "         'beans': 216,\n",
       "         'overall,': 216,\n",
       "         '20': 216,\n",
       "         'so,': 215,\n",
       "         'hope': 215,\n",
       "         'read': 215,\n",
       "         'manager': 214,\n",
       "         'point': 214,\n",
       "         'beautiful': 214,\n",
       "         'stopped': 213,\n",
       "         'fantastic': 213,\n",
       "         'shopping': 212,\n",
       "         'in.': 212,\n",
       "         'cut': 211,\n",
       "         'ok': 211,\n",
       "         'cheese,': 211,\n",
       "         'taking': 211,\n",
       "         'short': 211,\n",
       "         'watch': 210,\n",
       "         'rest': 210,\n",
       "         'you.': 210,\n",
       "         'mind': 210,\n",
       "         'arrived': 209,\n",
       "         'rolls': 209,\n",
       "         'seated': 208,\n",
       "         'better.': 207,\n",
       "         'impressed': 207,\n",
       "         'surprised': 206,\n",
       "         'waited': 206,\n",
       "         'kept': 206,\n",
       "         'spend': 206,\n",
       "         'offered': 205,\n",
       "         'nice.': 205,\n",
       "         'downtown': 205,\n",
       "         'us.': 205,\n",
       "         'list': 205,\n",
       "         'options': 205,\n",
       "         'valley': 205,\n",
       "         'completely': 205,\n",
       "         'sunday': 202,\n",
       "         'sandwiches': 199,\n",
       "         'up.': 199,\n",
       "         'choice': 199,\n",
       "         'trip': 199,\n",
       "         'roll': 198,\n",
       "         'helpful': 197,\n",
       "         'average': 197,\n",
       "         'ready': 197,\n",
       "         'feeling': 196,\n",
       "         '(which': 196,\n",
       "         'had.': 195,\n",
       "         'pasta': 195,\n",
       "         'ok,': 195,\n",
       "         'park': 194,\n",
       "         'cute': 194,\n",
       "         'typical': 194,\n",
       "         'area.': 194,\n",
       "         'taco': 194,\n",
       "         'yummy': 193,\n",
       "         'cold': 193,\n",
       "         'menu,': 193,\n",
       "         'counter': 193,\n",
       "         'burgers': 193,\n",
       "         'black': 193,\n",
       "         'ingredients': 192,\n",
       "         'located': 192,\n",
       "         'awesome.': 192,\n",
       "         'head': 192,\n",
       "         'ordering': 192,\n",
       "         'unique': 191,\n",
       "         'chef': 190,\n",
       "         'garlic': 190,\n",
       "         'cake': 190,\n",
       "         'moved': 190,\n",
       "         'sort': 190,\n",
       "         'problem': 190,\n",
       "         'mean': 189,\n",
       "         'that,': 188,\n",
       "         'table.': 188,\n",
       "         'butter': 187,\n",
       "         'appetizer': 187,\n",
       "         'giving': 187,\n",
       "         'corn': 187,\n",
       "         'but,': 187,\n",
       "         'girl': 186,\n",
       "         'mixed': 186,\n",
       "         'disappointed': 185,\n",
       "         'in,': 184,\n",
       "         'salad.': 184,\n",
       "         'said,': 184,\n",
       "         'arizona': 184,\n",
       "         'days': 183,\n",
       "         'gone': 183,\n",
       "         'nice,': 183,\n",
       "         'kinda': 183,\n",
       "         'beers': 183,\n",
       "         'noticed': 183,\n",
       "         'twice': 182,\n",
       "         'date': 182,\n",
       "         'filled': 181,\n",
       "         'fine': 181,\n",
       "         'mom': 181,\n",
       "         'pizza.': 180,\n",
       "         'employees': 180,\n",
       "         'authentic': 180,\n",
       "         '6': 180,\n",
       "         'grab': 180,\n",
       "         'ones': 179,\n",
       "         'potatoes': 179,\n",
       "         'burrito': 179,\n",
       "         'including': 178,\n",
       "         'tomato': 178,\n",
       "         'onion': 178,\n",
       "         'hate': 178,\n",
       "         'pho': 178,\n",
       "         'reasonable': 178,\n",
       "         'out,': 178,\n",
       "         'bill': 177,\n",
       "         'go.': 177,\n",
       "         'wings': 177,\n",
       "         'tastes': 177,\n",
       "         'exactly': 176,\n",
       "         'tempe': 176,\n",
       "         'spring': 176,\n",
       "         'understand': 175,\n",
       "         'it!': 175,\n",
       "         'portion': 174,\n",
       "         'though.': 174,\n",
       "         'veggie': 174,\n",
       "         'etc.': 173,\n",
       "         'priced': 173,\n",
       "         'now,': 173,\n",
       "         'mall': 173,\n",
       "         'idea': 172,\n",
       "         'bite': 172,\n",
       "         'later': 172,\n",
       "         'outdoor': 172,\n",
       "         'servers': 172,\n",
       "         'quickly': 171,\n",
       "         'crispy': 171,\n",
       "         'dry': 171,\n",
       "         'asian': 170,\n",
       "         'weekend': 170,\n",
       "         'flavor.': 169,\n",
       "         'mac': 169,\n",
       "         'night,': 169,\n",
       "         'bottle': 168,\n",
       "         'truly': 168,\n",
       "         'cost': 168,\n",
       "         'cup': 168,\n",
       "         'thank': 166,\n",
       "         'forward': 166,\n",
       "         'saying': 166,\n",
       "         'salad,': 166,\n",
       "         'good!': 166,\n",
       "         'chain': 166,\n",
       "         'on.': 166,\n",
       "         'recently': 166,\n",
       "         'excited': 165,\n",
       "         'neighborhood': 165,\n",
       "         'charge': 165,\n",
       "         'school': 165,\n",
       "         'frozen': 165,\n",
       "         'crust': 164,\n",
       "         'based': 164,\n",
       "         'game': 163,\n",
       "         'ago': 163,\n",
       "         'clean,': 163,\n",
       "         'needs': 163,\n",
       "         '30': 163,\n",
       "         'packed': 163,\n",
       "         'simple': 162,\n",
       "         'play': 162,\n",
       "         'order.': 162,\n",
       "         'simply': 161,\n",
       "         'eggs': 161,\n",
       "         'specials': 161,\n",
       "         'single': 161,\n",
       "         'dinner.': 161,\n",
       "         '15': 161,\n",
       "         'change': 161,\n",
       "         'excellent.': 160,\n",
       "         'bar,': 160,\n",
       "         'card': 160,\n",
       "         'takes': 160,\n",
       "         'comfortable': 160,\n",
       "         'number': 160,\n",
       "         ',': 160,\n",
       "         'strip': 160,\n",
       "         'staff.': 159,\n",
       "         'man': 159,\n",
       "         'fairly': 158,\n",
       "         'phoenix.': 158,\n",
       "         'bartender': 158,\n",
       "         'months': 158,\n",
       "         'spent': 158,\n",
       "         'az': 158,\n",
       "         'disappointed.': 157,\n",
       "         'slightly': 157,\n",
       "         'market': 157,\n",
       "         'stand': 157,\n",
       "         'one.': 156,\n",
       "         'chicken,': 156,\n",
       "         'area,': 156,\n",
       "         'home.': 156,\n",
       "         'hand': 156,\n",
       "         'dark': 155,\n",
       "         'lived': 154,\n",
       "         'price.': 154,\n",
       "         'added': 154,\n",
       "         'plates': 153,\n",
       "         'say,': 153,\n",
       "         'talk': 153,\n",
       "         'space': 153,\n",
       "         'crowd': 153,\n",
       "         'pieces': 152,\n",
       "         'though,': 152,\n",
       "         'roasted': 152,\n",
       "         'attentive': 152,\n",
       "         'ambiance': 152,\n",
       "         'taken': 152,\n",
       "         'ok.': 152,\n",
       "         'customers': 151,\n",
       "         'sauce,': 151,\n",
       "         'curry': 151,\n",
       "         'tuna': 151,\n",
       "         'bought': 151,\n",
       "         'blue': 151,\n",
       "         '*': 151,\n",
       "         'desert': 150,\n",
       "         'received': 150,\n",
       "         'soon': 150,\n",
       "         'hair': 150,\n",
       "         'thanks': 149,\n",
       "         'lunch.': 149,\n",
       "         'great!': 149,\n",
       "         'soft': 149,\n",
       "         'sports': 149,\n",
       "         'goes': 148,\n",
       "         'shared': 148,\n",
       "         'orange': 148,\n",
       "         'for.': 148,\n",
       "         'phone': 148,\n",
       "         'hear': 148,\n",
       "         'iced': 148,\n",
       "         'crab': 148,\n",
       "         'expensive': 148,\n",
       "         'lady': 147,\n",
       "         'opened': 147,\n",
       "         'prefer': 147,\n",
       "         'piece': 147,\n",
       "         'certainly': 147,\n",
       "         'talking': 147,\n",
       "         'slow': 147,\n",
       "         'craving': 147,\n",
       "         'prepared': 146,\n",
       "         'miss': 146,\n",
       "         'birthday': 145,\n",
       "         'stars.': 145,\n",
       "         'sausage': 145,\n",
       "         'interesting': 145,\n",
       "         'watching': 145,\n",
       "         'is.': 145,\n",
       "         'available': 144,\n",
       "         'tons': 144,\n",
       "         'longer': 144,\n",
       "         'literally': 144,\n",
       "         'carne': 144,\n",
       "         'boyfriend': 144,\n",
       "         'serving': 143,\n",
       "         'cheese.': 143,\n",
       "         'low': 143,\n",
       "         'fresh,': 143,\n",
       "         \"we've\": 143,\n",
       "         'pleasant': 142,\n",
       "         'hang': 142,\n",
       "         'center': 142,\n",
       "         'restaurant,': 142,\n",
       "         'paid': 142,\n",
       "         'stuffed': 142,\n",
       "         'playing': 141,\n",
       "         'homemade': 141,\n",
       "         'owners': 141,\n",
       "         'hands': 141,\n",
       "         'paying': 141,\n",
       "         'middle': 140,\n",
       "         'up,': 140,\n",
       "         'thinking': 140,\n",
       "         'split': 140,\n",
       "         'greeted': 140,\n",
       "         'total': 140,\n",
       "         'times.': 140,\n",
       "         'finish': 140,\n",
       "         'vegetarian': 139,\n",
       "         'sign': 139,\n",
       "         'movie': 139,\n",
       "         'salmon': 139,\n",
       "         'pulled': 139,\n",
       "         'salads': 138,\n",
       "         'back,': 138,\n",
       "         'worst': 138,\n",
       "         'to.': 138,\n",
       "         'office': 138,\n",
       "         'item': 138,\n",
       "         'mix': 137,\n",
       "         'fries.': 137,\n",
       "         'oh,': 137,\n",
       "         'cook': 137,\n",
       "         '...': 136,\n",
       "         'sandwich.': 136,\n",
       "         'stayed': 136,\n",
       "         'delicious,': 135,\n",
       "         'more.': 135,\n",
       "         'bucks': 135,\n",
       "         'and,': 135,\n",
       "         'write': 135,\n",
       "         'mention': 134,\n",
       "         'easily': 134,\n",
       "         'finished': 133,\n",
       "         'picked': 133,\n",
       "         'club': 133,\n",
       "         'bad.': 133,\n",
       "         'tip': 133,\n",
       "         'company': 132,\n",
       "         'expected': 132,\n",
       "         'normally': 132,\n",
       "         'says': 132,\n",
       "         'chance': 132,\n",
       "         'off.': 132,\n",
       "         'personal': 132,\n",
       "         'anyway,': 131,\n",
       "         'you,': 131,\n",
       "         'forget': 131,\n",
       "         'tiny': 131,\n",
       "         'lack': 131,\n",
       "         'valley.': 131,\n",
       "         'seeing': 130,\n",
       "         'turned': 130,\n",
       "         ':)': 130,\n",
       "         'nearly': 130,\n",
       "         '(the': 130,\n",
       "         'plan': 129,\n",
       "         '(not': 129,\n",
       "         'worked': 129,\n",
       "         'weeks': 129,\n",
       "         'healthy': 129,\n",
       "         'casual': 129,\n",
       "         'town.': 129,\n",
       "         'evening': 128,\n",
       "         'baked': 128,\n",
       "         'delicious!': 128,\n",
       "         'young': 128,\n",
       "         'day,': 128,\n",
       "         'entrees': 127,\n",
       "         'la': 127,\n",
       "         'meals': 127,\n",
       "         'damn': 127,\n",
       "         'true': 127,\n",
       "         'store.': 127,\n",
       "         'north': 127,\n",
       "         'bean': 127,\n",
       "         'poor': 127,\n",
       "         'pita': 127,\n",
       "         'oil': 126,\n",
       "         'daughter': 126,\n",
       "         'thin': 126,\n",
       "         'reasonably': 126,\n",
       "         'tender': 126,\n",
       "         \"we're\": 126,\n",
       "         'toppings': 125,\n",
       "         'crazy': 125,\n",
       "         'works': 125,\n",
       "         'standard': 125,\n",
       "         'appreciate': 125,\n",
       "         'spinach': 125,\n",
       "         'traditional': 125,\n",
       "         'pizza,': 124,\n",
       "         'bunch': 124,\n",
       "         'reading': 124,\n",
       "         'share': 124,\n",
       "         '$5': 124,\n",
       "         'chili': 124,\n",
       "         'die': 124,\n",
       "         'them,': 124,\n",
       "         'veggies': 123,\n",
       "         'slices': 123,\n",
       "         'mood': 123,\n",
       "         'noodles': 123,\n",
       "         'american': 123,\n",
       "         'hungry': 123,\n",
       "         'considering': 123,\n",
       "         'location.': 123,\n",
       "         'sour': 122,\n",
       "         'fantastic.': 122,\n",
       "         'fresh.': 122,\n",
       "         'atmosphere.': 122,\n",
       "         'years.': 122,\n",
       "         'east': 122,\n",
       "         'ton': 122,\n",
       "         'supposed': 122,\n",
       "         'box': 121,\n",
       "         'table,': 121,\n",
       "         'flavorful': 121,\n",
       "         'attention': 121,\n",
       "         'grill': 121,\n",
       "         'prices.': 121,\n",
       "         'olive': 121,\n",
       "         'wall': 121,\n",
       "         'seat': 120,\n",
       "         'art': 120,\n",
       "         'place!': 120,\n",
       "         'somewhat': 120,\n",
       "         'loud': 120,\n",
       "         'choices': 120,\n",
       "         'life': 120,\n",
       "         'lovely': 120,\n",
       "         'suggest': 120,\n",
       "         'fair': 120,\n",
       "         'side.': 120,\n",
       "         'joint': 120,\n",
       "         'now.': 119,\n",
       "         'original': 119,\n",
       "         'tasty,': 119,\n",
       "         'immediately': 119,\n",
       "         'bland': 119,\n",
       "         'course,': 119,\n",
       "         'visiting': 119,\n",
       "         \"we'll\": 118,\n",
       "         'too,': 118,\n",
       "         'met': 118,\n",
       "         'summer': 118,\n",
       "         'right.': 118,\n",
       "         '8': 118,\n",
       "         'either.': 118,\n",
       "         'way.': 118,\n",
       "         'peanut': 118,\n",
       "         'view': 118,\n",
       "         'is,': 117,\n",
       "         'seriously': 117,\n",
       "         'minute': 117,\n",
       "         'cafe': 117,\n",
       "         'grocery': 117,\n",
       "         'foods': 117,\n",
       "         'event': 117,\n",
       "         'honey': 116,\n",
       "         'tasting': 116,\n",
       "         'means': 116,\n",
       "         'girls': 116,\n",
       "         'off,': 116,\n",
       "         'sound': 115,\n",
       "         'beat': 115,\n",
       "         'wait.': 115,\n",
       "         'hour.': 115,\n",
       "         'city': 115,\n",
       "         'orders': 114,\n",
       "         'chose': 114,\n",
       "         'checked': 114,\n",
       "         'unfortunately': 114,\n",
       "         'dirty': 114,\n",
       "         'lost': 114,\n",
       "         'sell': 114,\n",
       "         'bag': 114,\n",
       "         'slice': 114,\n",
       "         'greasy': 114,\n",
       "         'us,': 114,\n",
       "         'crowded': 113,\n",
       "         'sides': 113,\n",
       "         '7': 113,\n",
       "         'w/': 113,\n",
       "         'know,': 113,\n",
       "         'buffet': 113,\n",
       "         'dr.': 113,\n",
       "         'dogs': 112,\n",
       "         'case': 112,\n",
       "         'basically': 112,\n",
       "         'chicken.': 112,\n",
       "         'try.': 112,\n",
       "         'floor': 112,\n",
       "         'turkey': 112,\n",
       "         'stick': 112,\n",
       "         'pass': 112,\n",
       "         'rooms': 112,\n",
       "         'fact,': 112,\n",
       "         'dont': 112,\n",
       "         'eye': 111,\n",
       "         'fruit': 111,\n",
       "         '(or': 111,\n",
       "         'gotten': 111,\n",
       "         'recommended': 111,\n",
       "         'pricey': 111,\n",
       "         '(': 111,\n",
       "         'baby': 111,\n",
       "         'seats': 111,\n",
       "         'phoenix,': 111,\n",
       "         'best.': 111,\n",
       "         'seafood': 111,\n",
       "         'stores': 111,\n",
       "         'tortilla': 111,\n",
       "         'drinking': 111,\n",
       "         'world': 110,\n",
       "         'okay': 110,\n",
       "         'appetizers': 110,\n",
       "         'knows': 110,\n",
       "         'dressing': 110,\n",
       "         'running': 110,\n",
       "         'scottsdale.': 110,\n",
       "         'helped': 109,\n",
       "         'down.': 109,\n",
       "         'afternoon': 109,\n",
       "         'matter': 109,\n",
       "         'times,': 109,\n",
       "         'loves': 109,\n",
       "         'atmosphere,': 109,\n",
       "         'smell': 108,\n",
       "         'lunch,': 108,\n",
       "         'small,': 108,\n",
       "         'visited': 108,\n",
       "         'living': 108,\n",
       "         'be.': 107,\n",
       "         'folks': 107,\n",
       "         'topped': 107,\n",
       "         'generally': 107,\n",
       "         'asking': 107,\n",
       "         'combination': 107,\n",
       "         'hostess': 107,\n",
       "         'sauces': 107,\n",
       "         'indian': 107,\n",
       "         'visit.': 107,\n",
       "         'mouth': 107,\n",
       "         'particular': 107,\n",
       "         \"they've\": 107,\n",
       "         'avoid': 106,\n",
       "         'drink.': 106,\n",
       "         'rice,': 106,\n",
       "         'showed': 106,\n",
       "         'dinner,': 106,\n",
       "         'drinks,': 106,\n",
       "         'dip': 106,\n",
       "         'order,': 106,\n",
       "         'face': 106,\n",
       "         'turn': 105,\n",
       "         'value': 105,\n",
       "         'solid': 105,\n",
       "         'yes': 105,\n",
       "         'sad': 105,\n",
       "         'usual': 105,\n",
       "         '=': 105,\n",
       "         'lamb': 104,\n",
       "         'incredibly': 104,\n",
       "         'vietnamese': 104,\n",
       "         'people.': 104,\n",
       "         'fabulous': 104,\n",
       "         'thick': 104,\n",
       "         'meet': 104,\n",
       "         'corner': 104,\n",
       "         'way,': 104,\n",
       "         'central': 104,\n",
       "         'combo': 104,\n",
       "         'minutes.': 104,\n",
       "         'lemon': 104,\n",
       "         'like.': 104,\n",
       "         'entree': 103,\n",
       "         'lettuce': 103,\n",
       "         'carry': 103,\n",
       "         'offers': 103,\n",
       "         'known': 103,\n",
       "         'checking': 103,\n",
       "         'covered': 103,\n",
       "         'ribs': 103,\n",
       "         'word': 103,\n",
       "         'much.': 103,\n",
       "         'cash': 102,\n",
       "         'hubby': 102,\n",
       "         'ahead': 102,\n",
       "         'donuts': 102,\n",
       "         'included': 102,\n",
       "         'onions': 102,\n",
       "         'asada': 102,\n",
       "         'section': 102,\n",
       "         'plate.': 101,\n",
       "         'inside.': 101,\n",
       "         'brunch': 101,\n",
       "         'normal': 101,\n",
       "         'fat': 101,\n",
       "         ...})"
      ]
     },
     "execution_count": 103,
     "metadata": {},
     "output_type": "execute_result"
    }
   ],
   "source": [
    "Counter(s2.split())"
   ]
  },
  {
   "cell_type": "code",
   "execution_count": 104,
   "id": "0b83a877-7fce-4dce-b8d5-1b48d5da429d",
   "metadata": {},
   "outputs": [],
   "source": [
    "data=Counter(s2.split()).most_common(30)"
   ]
  },
  {
   "cell_type": "code",
   "execution_count": 105,
   "id": "9a2cfdca-7613-49b3-9bf8-1993aa871b3d",
   "metadata": {},
   "outputs": [],
   "source": [
    "data=dict(data)"
   ]
  },
  {
   "cell_type": "code",
   "execution_count": 106,
   "id": "8eb77f6e-e846-434b-9657-99b60962c811",
   "metadata": {
    "scrolled": true
   },
   "outputs": [
    {
     "data": {
      "text/plain": [
       "{'place': 5186,\n",
       " 'like': 4688,\n",
       " 'good': 4286,\n",
       " 'food': 4274,\n",
       " 'great': 3697,\n",
       " '-': 2858,\n",
       " 'time': 2447,\n",
       " 'service': 2191,\n",
       " 'little': 2176,\n",
       " \"i'm\": 1988,\n",
       " 'love': 1970,\n",
       " \"i've\": 1844,\n",
       " 'got': 1787,\n",
       " 'pretty': 1752,\n",
       " 'nice': 1709,\n",
       " 'best': 1610,\n",
       " 'ordered': 1591,\n",
       " 'try': 1492,\n",
       " 'think': 1462,\n",
       " 'people': 1383,\n",
       " 'know': 1376,\n",
       " 'going': 1374,\n",
       " 'chicken': 1371,\n",
       " 'it.': 1359,\n",
       " 'went': 1325,\n",
       " 'order': 1251,\n",
       " 'came': 1231,\n",
       " 'restaurant': 1205,\n",
       " 'want': 1193,\n",
       " 'come': 1189}"
      ]
     },
     "execution_count": 106,
     "metadata": {},
     "output_type": "execute_result"
    }
   ],
   "source": [
    "data"
   ]
  },
  {
   "cell_type": "code",
   "execution_count": 107,
   "id": "14c8a196-4cd0-4a4f-84e2-b387648a6133",
   "metadata": {},
   "outputs": [],
   "source": [
    "import matplotlib.pyplot as plt"
   ]
  },
  {
   "cell_type": "code",
   "execution_count": 108,
   "id": "56ac67ca-55fb-4437-adcd-34fd8ac10edb",
   "metadata": {},
   "outputs": [
    {
     "data": {
      "image/png": "[encoded data removed]",
      "text/plain": [
       "<Figure size 1200x800 with 1 Axes>"
      ]
     },
     "metadata": {},
     "output_type": "display_data"
    }
   ],
   "source": [
    "plt.figure(figsize=(12,8))\n",
    "plt.bar(data.keys(),data.values())\n",
    "plt.xticks(rotation=90);"
   ]
  },
  {
   "cell_type": "code",
   "execution_count": 109,
   "id": "a8916cdd-03bd-460b-a3bd-0466ccb6926a",
   "metadata": {},
   "outputs": [],
   "source": [
    "import seaborn as sns"
   ]
  },
  {
   "cell_type": "code",
   "execution_count": 110,
   "id": "86b59e1f-f9a6-4301-b58b-18d9d1bbd998",
   "metadata": {},
   "outputs": [
    {
     "data": {
      "image/png": "[encoded data removed]",
      "text/plain": [
       "<Figure size 1200x800 with 1 Axes>"
      ]
     },
     "metadata": {},
     "output_type": "display_data"
    }
   ],
   "source": [
    "plt.figure(figsize=(12,8))\n",
    "sns.barplot(x=data.keys(),y=data.values(),hue=data.keys())\n",
    "plt.xticks(rotation=90);"
   ]
  },
  {
   "cell_type": "code",
   "execution_count": 111,
   "id": "b5d8c734-386a-4def-92cd-82d7472f72d2",
   "metadata": {},
   "outputs": [],
   "source": [
    "df['text']=df['text'].apply(lambda x: nfx.clean_text(x))"
   ]
  },
  {
   "cell_type": "code",
   "execution_count": 112,
   "id": "14fb7589-8c6a-4a0c-967d-77dd675c26d1",
   "metadata": {},
   "outputs": [],
   "source": [
    "df['text']=df['text'].apply(lambda x: nfx.normalize(x))  #birçok önişlemi yapıyor"
   ]
  },
  {
   "cell_type": "code",
   "execution_count": 113,
   "id": "039415ee-e559-4f5c-8bee-a59aef385c28",
   "metadata": {},
   "outputs": [
    {
     "data": {
      "text/plain": [
       "'wife took birthday breakfast excellent. weather perfect sitting outside overlooking grounds absolute pleasure. waitress excellent food arrived quickly semi-busy saturday morning. looked like place fills pretty quickly earlier better. favor bloody mary. phenomenal simply best i\\'ve had. i\\'m pretty sure use ingredients garden blend fresh order it. amazing. menu looks excellent, white truffle scrambled eggs vegetable skillet tasty delicious. came  pieces griddled bread amazing absolutely meal complete. best \"toast\" i\\'ve had. anyway, can\\'t wait back!'"
      ]
     },
     "execution_count": 113,
     "metadata": {},
     "output_type": "execute_result"
    }
   ],
   "source": [
    "df['text'][0]"
   ]
  },
  {
   "cell_type": "code",
   "execution_count": 114,
   "id": "f24dc0e4-e04b-4ec1-b02f-545b69ff0d1a",
   "metadata": {},
   "outputs": [],
   "source": [
    "def kokbul(text):\n",
    "    words=TextBlob(text).words\n",
    "    return [word.lemmatize() for word in words]"
   ]
  },
  {
   "cell_type": "code",
   "execution_count": 115,
   "id": "121ecb6f-cbab-4311-887f-9fb83325bb76",
   "metadata": {},
   "outputs": [],
   "source": [
    "cumle=\"Ebarman loves to use NLP hard working,making dedication, and comminment\""
   ]
  },
  {
   "cell_type": "code",
   "execution_count": 116,
   "id": "518eaaaa-ae83-4450-a4bd-92fa89b3b128",
   "metadata": {},
   "outputs": [
    {
     "data": {
      "text/plain": [
       "WordList(['Ebarman', 'loves', 'to', 'use', 'NLP', 'hard', 'working', 'making', 'dedication', 'and', 'comminment'])"
      ]
     },
     "execution_count": 116,
     "metadata": {},
     "output_type": "execute_result"
    }
   ],
   "source": [
    "TextBlob(cumle).words"
   ]
  },
  {
   "cell_type": "code",
   "execution_count": 117,
   "id": "978aa6b5-ab95-44d7-b4b7-f64c9ed24f1c",
   "metadata": {},
   "outputs": [
    {
     "data": {
      "text/plain": [
       "[Sentence(\"Ebarman loves to use NLP hard working,making dedication, and comminment\")]"
      ]
     },
     "execution_count": 117,
     "metadata": {},
     "output_type": "execute_result"
    }
   ],
   "source": [
    "TextBlob(cumle).sentences"
   ]
  },
  {
   "cell_type": "code",
   "execution_count": 118,
   "id": "896c6b88-5adf-4ce8-a0f1-74aa853fb711",
   "metadata": {},
   "outputs": [],
   "source": [
    "#nltk.download('wordnet')"
   ]
  },
  {
   "cell_type": "code",
   "execution_count": 119,
   "id": "752c51fe-6ac7-4e78-b8b9-b7748bd4698c",
   "metadata": {},
   "outputs": [
    {
     "data": {
      "text/plain": [
       "['Ebarman',\n",
       " 'love',\n",
       " 'to',\n",
       " 'use',\n",
       " 'NLP',\n",
       " 'hard',\n",
       " 'working',\n",
       " 'making',\n",
       " 'dedication',\n",
       " 'and',\n",
       " 'comminment']"
      ]
     },
     "execution_count": 119,
     "metadata": {},
     "output_type": "execute_result"
    }
   ],
   "source": [
    "[word.lemmatize() for word in TextBlob(cumle).words]"
   ]
  },
  {
   "cell_type": "code",
   "execution_count": 120,
   "id": "7c9bb537-f0bb-48aa-a8ec-becc87a9cd26",
   "metadata": {},
   "outputs": [
    {
     "data": {
      "text/plain": [
       "['ebarman',\n",
       " 'love',\n",
       " 'to',\n",
       " 'use',\n",
       " 'nlp',\n",
       " 'hard',\n",
       " 'work',\n",
       " 'make',\n",
       " 'dedic',\n",
       " 'and',\n",
       " 'commin']"
      ]
     },
     "execution_count": 120,
     "metadata": {},
     "output_type": "execute_result"
    }
   ],
   "source": [
    "[word.stem() for word in TextBlob(cumle).words]"
   ]
  },
  {
   "cell_type": "code",
   "execution_count": 121,
   "id": "77c4c139-45dc-46aa-a6a1-69975f5710ac",
   "metadata": {},
   "outputs": [],
   "source": [
    "#df['text']=df['text'].apply(lambda x: kokbul(x)) "
   ]
  },
  {
   "cell_type": "code",
   "execution_count": 122,
   "id": "0ce4de22-dcd2-4795-9680-e0967944c6c9",
   "metadata": {},
   "outputs": [],
   "source": [
    "#df.text[0]"
   ]
  },
  {
   "cell_type": "code",
   "execution_count": 123,
   "id": "5a00fd6f-afa2-4692-ba58-639a5e5e8c13",
   "metadata": {},
   "outputs": [],
   "source": [
    "df['text']=df['text'].apply(lambda x: nfx.remove_stopwords(x)) "
   ]
  },
  {
   "cell_type": "code",
   "execution_count": 124,
   "id": "7410d4ce-ea77-43ca-aa09-584960e5e4c5",
   "metadata": {},
   "outputs": [],
   "source": [
    "ybw=df[(df.stars==1)|(df.stars==5)]"
   ]
  },
  {
   "cell_type": "code",
   "execution_count": 125,
   "id": "adadbb19-64c8-4fa0-8960-ac266f4768fe",
   "metadata": {},
   "outputs": [],
   "source": [
    "ybw.reset_index(drop=True,inplace=True)"
   ]
  },
  {
   "cell_type": "code",
   "execution_count": 126,
   "id": "ddd629d9-f7f6-4cc3-865d-561a68d1cdfe",
   "metadata": {},
   "outputs": [],
   "source": [
    "x=ybw[['text']]\n",
    "y=ybw[['stars']]"
   ]
  },
  {
   "cell_type": "code",
   "execution_count": null,
   "id": "3d4318a5-b9e5-43fc-ae4b-6e7ff00fdc5f",
   "metadata": {},
   "outputs": [],
   "source": []
  },
  {
   "cell_type": "code",
   "execution_count": null,
   "id": "7395d5e0-17b8-403d-8a7e-56dfc16191be",
   "metadata": {},
   "outputs": [],
   "source": []
  },
  {
   "cell_type": "code",
   "execution_count": 127,
   "id": "31f0cb58-f59b-4ff8-beb3-d2664435e6d1",
   "metadata": {},
   "outputs": [],
   "source": [
    "vect=CountVectorizer(analyzer=kokbul, ngram_range=(1,2))"
   ]
  },
  {
   "cell_type": "code",
   "execution_count": 128,
   "id": "4df24b07-25a8-43a9-9f2c-cda47fbc5214",
   "metadata": {},
   "outputs": [
    {
     "name": "stderr",
     "output_type": "stream",
     "text": [
      "C:\\Users\\SABRI\\anaconda3\\Lib\\site-packages\\sklearn\\feature_extraction\\text.py:541: UserWarning: The parameter 'ngram_range' will not be used since 'analyzer' is callable'\n",
      "  warnings.warn(\n"
     ]
    }
   ],
   "source": [
    "xyeni=vect.fit_transform(x['text'])"
   ]
  },
  {
   "cell_type": "code",
   "execution_count": 129,
   "id": "43447814-fc65-486e-abeb-690f88755e4e",
   "metadata": {},
   "outputs": [
    {
     "data": {
      "text/plain": [
       "array(['zen', 'zen-like', 'zero', 'zero-star', 'zest', 'zesty',\n",
       "       'zexperience', 'zha', 'zhou', 'zia', 'zichini', 'zilch', 'zillion',\n",
       "       'zin', 'zinburger', 'zinburgergeist', 'zinc', 'zinfandel', 'zing',\n",
       "       'zip', 'zip-loc', 'zipcar', 'ziploc', 'zipper', 'zipps', 'ziti',\n",
       "       'zoe', 'zombi', 'zombie', 'zone', 'zoners', 'zoning', 'zoo',\n",
       "       'zoom', 'zoyo', 'zucca', 'zucchini', 'zuccini', 'zuchinni',\n",
       "       'zumba', 'zupa', 'zupas', 'zuzu', 'zuzus', 'zwiebel-kräuter',\n",
       "       'zzed', '°', 'éclairs', 'école', 'ém'], dtype=object)"
      ]
     },
     "execution_count": 129,
     "metadata": {},
     "output_type": "execute_result"
    }
   ],
   "source": [
    "vect.get_feature_names_out()[-50:]"
   ]
  },
  {
   "cell_type": "code",
   "execution_count": 130,
   "id": "ac4a315f-1cca-4d35-a5fa-c75c1c86f213",
   "metadata": {},
   "outputs": [],
   "source": [
    "x_train,x_test,y_train,y_test=train_test_split(xyeni,y,random_state=42,test_size=.2)"
   ]
  },
  {
   "cell_type": "code",
   "execution_count": 131,
   "id": "ccad90fc-1220-49df-a7e1-b3ae90d55bf8",
   "metadata": {},
   "outputs": [],
   "source": [
    "nb=MultinomialNB()"
   ]
  },
  {
   "cell_type": "code",
   "execution_count": 132,
   "id": "62bc69d2-0b4a-4b76-80da-5993ed407124",
   "metadata": {},
   "outputs": [
    {
     "name": "stderr",
     "output_type": "stream",
     "text": [
      "C:\\Users\\SABRI\\anaconda3\\Lib\\site-packages\\sklearn\\utils\\validation.py:1300: DataConversionWarning: A column-vector y was passed when a 1d array was expected. Please change the shape of y to (n_samples, ), for example using ravel().\n",
      "  y = column_or_1d(y, warn=True)\n"
     ]
    }
   ],
   "source": [
    "model=nb.fit(x_train,y_train)"
   ]
  },
  {
   "cell_type": "code",
   "execution_count": 133,
   "id": "752220ca-3f3c-4138-820f-f728d1ff149d",
   "metadata": {},
   "outputs": [],
   "source": [
    "pred=model.predict(x_test)"
   ]
  },
  {
   "cell_type": "code",
   "execution_count": 134,
   "id": "6d1ca5f1-91e7-432d-9d94-5c9ed13bd2a4",
   "metadata": {},
   "outputs": [
    {
     "data": {
      "text/plain": [
       "0.8997555012224939"
      ]
     },
     "execution_count": 134,
     "metadata": {},
     "output_type": "execute_result"
    }
   ],
   "source": [
    "accuracy_score(y_test,pred)"
   ]
  },
  {
   "cell_type": "markdown",
   "id": "eaa76cfb-c66a-4811-bb0a-9ad7d23b68f3",
   "metadata": {},
   "source": [
    "## Fetch Data from Twitter and Clean"
   ]
  },
  {
   "cell_type": "code",
   "execution_count": 136,
   "id": "b883ce7f-71c8-4d10-87bc-f9c11b71ae25",
   "metadata": {},
   "outputs": [],
   "source": [
    "#pip install ntscraper"
   ]
  },
  {
   "cell_type": "code",
   "execution_count": 137,
   "id": "df31ce89-5ca9-4777-b72b-bed63a772e16",
   "metadata": {},
   "outputs": [],
   "source": [
    "from ntscraper import Nitter"
   ]
  },
  {
   "cell_type": "code",
   "execution_count": 138,
   "id": "bd819d83-80b2-476e-bd87-db7619f85451",
   "metadata": {},
   "outputs": [
    {
     "name": "stderr",
     "output_type": "stream",
     "text": [
      "Testing instances: 100%|███████████████████████████████████████████████████████████████| 14/14 [00:07<00:00,  1.77it/s]\n"
     ]
    }
   ],
   "source": [
    "ts=Nitter()"
   ]
  },
  {
   "cell_type": "code",
   "execution_count": 139,
   "id": "cc4be147-603f-4c42-9495-e9cdff2af56d",
   "metadata": {},
   "outputs": [],
   "source": [
    "#onemilliontweetmap sitesinde hangi tweet hangi lokasyondan atılmış gösteriyor örnek uygulama"
   ]
  },
  {
   "cell_type": "code",
   "execution_count": 140,
   "id": "0021b208-0cd9-4a56-8c7c-a4288d9ac955",
   "metadata": {},
   "outputs": [],
   "source": [
    "import pandas as pd"
   ]
  },
  {
   "cell_type": "code",
   "execution_count": 141,
   "id": "aafcad55-eb54-4384-a06f-48f9335df5e9",
   "metadata": {},
   "outputs": [
    {
     "name": "stderr",
     "output_type": "stream",
     "text": [
      "Testing instances: 100%|███████████████████████████████████████████████████████████████| 14/14 [00:07<00:00,  1.97it/s]"
     ]
    },
    {
     "name": "stdout",
     "output_type": "stream",
     "text": [
      "05-Jan-25 14:14:34 - No instance specified, using random instance https://nitter.snopyta.org\n"
     ]
    },
    {
     "name": "stderr",
     "output_type": "stream",
     "text": [
      "\n"
     ]
    },
    {
     "name": "stdout",
     "output_type": "stream",
     "text": [
      "05-Jan-25 14:14:45 - https://nitter.snopyta.org unreachable. Trying https://nitter.snopyta.org\n",
      "05-Jan-25 14:14:56 - https://nitter.snopyta.org unreachable. Trying https://nitter.snopyta.org\n",
      "High number of retries detected. Testing all instances...\n"
     ]
    },
    {
     "name": "stderr",
     "output_type": "stream",
     "text": [
      "Testing instances: 100%|███████████████████████████████████████████████████████████████| 14/14 [00:06<00:00,  2.03it/s]"
     ]
    },
    {
     "name": "stdout",
     "output_type": "stream",
     "text": [
      "New working instances: \n",
      "05-Jan-25 14:15:14 - All instances are unreachable. Check your request and try again.\n"
     ]
    },
    {
     "name": "stderr",
     "output_type": "stream",
     "text": [
      "\n"
     ]
    }
   ],
   "source": [
    "nitter = Nitter()\n",
    "nitter.working_instances = [\"https://nitter.snopyta.org\"]  # Add a known working instance\n",
    "tweets = nitter.get_tweets('fatihaltayli', mode='user', number=50)"
   ]
  },
  {
   "cell_type": "code",
   "execution_count": 142,
   "id": "2d1c047d-afc5-4e4c-a662-6395b5b766ee",
   "metadata": {},
   "outputs": [],
   "source": [
    "#dir(Nitter)"
   ]
  },
  {
   "cell_type": "code",
   "execution_count": 143,
   "id": "33aa8dee-42a0-4cac-b034-9d84e785a601",
   "metadata": {},
   "outputs": [],
   "source": [
    "df=pd.DataFrame(tweets['tweets'])"
   ]
  },
  {
   "cell_type": "code",
   "execution_count": 144,
   "id": "a5a23d80-10d5-4e8d-bf4c-ad50c28ed1c4",
   "metadata": {
    "scrolled": true
   },
   "outputs": [
    {
     "data": {
      "text/html": [
       "<div>\n",
       "<style scoped>\n",
       "    .dataframe tbody tr th:only-of-type {\n",
       "        vertical-align: middle;\n",
       "    }\n",
       "\n",
       "    .dataframe tbody tr th {\n",
       "        vertical-align: top;\n",
       "    }\n",
       "\n",
       "    .dataframe thead th {\n",
       "        text-align: right;\n",
       "    }\n",
       "</style>\n",
       "<table border=\"1\" class=\"dataframe\">\n",
       "  <thead>\n",
       "    <tr style=\"text-align: right;\">\n",
       "      <th></th>\n",
       "    </tr>\n",
       "  </thead>\n",
       "  <tbody>\n",
       "  </tbody>\n",
       "</table>\n",
       "</div>"
      ],
      "text/plain": [
       "Empty DataFrame\n",
       "Columns: []\n",
       "Index: []"
      ]
     },
     "execution_count": 144,
     "metadata": {},
     "output_type": "execute_result"
    }
   ],
   "source": [
    "df.head()"
   ]
  },
  {
   "cell_type": "code",
   "execution_count": 146,
   "id": "93200d0e-eba3-4260-ac1e-e5dd3058f297",
   "metadata": {},
   "outputs": [],
   "source": [
    "#df['name']=df['user'].apply(lambda x: x['name'])\n",
    "#df['username']=df['user'].apply(lambda x: x['username'])\n",
    "#df['avatar']=df['user'].apply(lambda x: x['avatar'])"
   ]
  },
  {
   "cell_type": "code",
   "execution_count": null,
   "id": "3a9491c7-6ec4-49ae-a242-18109399657a",
   "metadata": {},
   "outputs": [],
   "source": [
    "df['comments']=df['stats'].apply(lambda x: x['comments'])\n",
    "df['likes']=df['stats'].apply(lambda x: x['likes'])"
   ]
  },
  {
   "cell_type": "code",
   "execution_count": null,
   "id": "3ec96f58-a061-4e34-91d0-247afc4b9897",
   "metadata": {},
   "outputs": [],
   "source": [
    "#snscraper ile heryerden veri çekebiliyoruz instagram, facebook, telegram"
   ]
  },
  {
   "cell_type": "code",
   "execution_count": null,
   "id": "e0afb436-10d9-41c8-8351-4ec6308761cc",
   "metadata": {},
   "outputs": [],
   "source": [
    "df['text'][0]"
   ]
  },
  {
   "cell_type": "code",
   "execution_count": null,
   "id": "906bcda0-25fb-4f20-9550-aff083af36c4",
   "metadata": {},
   "outputs": [],
   "source": [
    "df['text']=df['text'].apply(nfx.remove_hashtags)"
   ]
  },
  {
   "cell_type": "code",
   "execution_count": null,
   "id": "e2e40782-48cd-4a8b-aaab-cf5ad4d83892",
   "metadata": {},
   "outputs": [],
   "source": [
    "df['text']=df['text'].apply(nfx.remove_hashtags)"
   ]
  }
 ],
 "metadata": {
  "kernelspec": {
   "display_name": "Python 3 (ipykernel)",
   "language": "python",
   "name": "python3"
  },
  "language_info": {
   "codemirror_mode": {
    "name": "ipython",
    "version": 3
   },
   "file_extension": ".py",
   "mimetype": "text/x-python",
   "name": "python",
   "nbconvert_exporter": "python",
   "pygments_lexer": "ipython3",
   "version": "3.12.4"
  }
 },
 "nbformat": 4,
 "nbformat_minor": 5
}
