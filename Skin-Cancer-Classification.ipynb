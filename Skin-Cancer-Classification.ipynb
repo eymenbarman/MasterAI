{
 "cells": [
  {
   "cell_type": "markdown",
   "id": "46703a96-702d-44e1-8ac5-2329148e51a6",
   "metadata": {},
   "source": [
    "# Skin Cancer Classification"
   ]
  },
  {
   "cell_type": "code",
   "execution_count": 2,
   "id": "5b314baf-1a9f-4287-ac4f-29555a847585",
   "metadata": {},
   "outputs": [],
   "source": [
    "import cv2\n",
    "import pandas as pd\n",
    "import os"
   ]
  },
  {
   "cell_type": "code",
   "execution_count": 3,
   "id": "7d322b26-d667-409c-8577-d006aab87a5e",
   "metadata": {},
   "outputs": [],
   "source": [
    "#pip install opencv-python"
   ]
  },
  {
   "cell_type": "code",
   "execution_count": 4,
   "id": "220311ff-1040-44a6-90bc-97ff187b4beb",
   "metadata": {},
   "outputs": [],
   "source": [
    "#pip uninstall opencv-python opencv-python-headless -y --no-cache-dir"
   ]
  },
  {
   "cell_type": "code",
   "execution_count": 5,
   "id": "6bdaa73f-83e4-4f4c-9f16-1c4574ce81a9",
   "metadata": {},
   "outputs": [],
   "source": [
    "labels=['Cancer','Non_Cancer']\n",
    "img_path='Skin_Data/'"
   ]
  },
  {
   "cell_type": "code",
   "execution_count": 6,
   "id": "b5e3db7d-e89a-4d67-a4fb-e47b8f79404c",
   "metadata": {},
   "outputs": [],
   "source": [
    "img_list=[]\n",
    "label_list=[]\n",
    "for label in labels:\n",
    "    for img_file in os.listdir(img_path+label):\n",
    "        img_list.append(img_path+label+'/'+img_file)\n",
    "        label_list.append(label)"
   ]
  },
  {
   "cell_type": "code",
   "execution_count": 7,
   "id": "e9fae35e-8b17-4769-8029-164b5b6e130f",
   "metadata": {},
   "outputs": [],
   "source": [
    "#os.listdir('Skin_Data')"
   ]
  },
  {
   "cell_type": "code",
   "execution_count": 8,
   "id": "f102a734-65f4-47e4-8019-af66a50b193d",
   "metadata": {},
   "outputs": [],
   "source": [
    "df=pd.DataFrame({'img':img_list,'label':label_list})"
   ]
  },
  {
   "cell_type": "code",
   "execution_count": 9,
   "id": "736e4d8a-9397-4218-a58b-5ef05a79e2cb",
   "metadata": {},
   "outputs": [
    {
     "data": {
      "text/html": [
       "<div>\n",
       "<style scoped>\n",
       "    .dataframe tbody tr th:only-of-type {\n",
       "        vertical-align: middle;\n",
       "    }\n",
       "\n",
       "    .dataframe tbody tr th {\n",
       "        vertical-align: top;\n",
       "    }\n",
       "\n",
       "    .dataframe thead th {\n",
       "        text-align: right;\n",
       "    }\n",
       "</style>\n",
       "<table border=\"1\" class=\"dataframe\">\n",
       "  <thead>\n",
       "    <tr style=\"text-align: right;\">\n",
       "      <th></th>\n",
       "      <th>img</th>\n",
       "      <th>label</th>\n",
       "    </tr>\n",
       "  </thead>\n",
       "  <tbody>\n",
       "    <tr>\n",
       "      <th>283</th>\n",
       "      <td>Skin_Data/Non_Cancer/953-1.JPG</td>\n",
       "      <td>Non_Cancer</td>\n",
       "    </tr>\n",
       "    <tr>\n",
       "      <th>284</th>\n",
       "      <td>Skin_Data/Non_Cancer/954-3.JPG</td>\n",
       "      <td>Non_Cancer</td>\n",
       "    </tr>\n",
       "    <tr>\n",
       "      <th>285</th>\n",
       "      <td>Skin_Data/Non_Cancer/955.JPG</td>\n",
       "      <td>Non_Cancer</td>\n",
       "    </tr>\n",
       "    <tr>\n",
       "      <th>286</th>\n",
       "      <td>Skin_Data/Non_Cancer/984.JPG</td>\n",
       "      <td>Non_Cancer</td>\n",
       "    </tr>\n",
       "    <tr>\n",
       "      <th>287</th>\n",
       "      <td>Skin_Data/Non_Cancer/986-1.JPG</td>\n",
       "      <td>Non_Cancer</td>\n",
       "    </tr>\n",
       "  </tbody>\n",
       "</table>\n",
       "</div>"
      ],
      "text/plain": [
       "                                img       label\n",
       "283  Skin_Data/Non_Cancer/953-1.JPG  Non_Cancer\n",
       "284  Skin_Data/Non_Cancer/954-3.JPG  Non_Cancer\n",
       "285    Skin_Data/Non_Cancer/955.JPG  Non_Cancer\n",
       "286    Skin_Data/Non_Cancer/984.JPG  Non_Cancer\n",
       "287  Skin_Data/Non_Cancer/986-1.JPG  Non_Cancer"
      ]
     },
     "execution_count": 9,
     "metadata": {},
     "output_type": "execute_result"
    }
   ],
   "source": [
    "df.tail()"
   ]
  },
  {
   "cell_type": "code",
   "execution_count": 10,
   "id": "05be41a5-c141-45bc-b4aa-94f1024549cd",
   "metadata": {},
   "outputs": [],
   "source": [
    "import matplotlib.pyplot as plt"
   ]
  },
  {
   "cell_type": "code",
   "execution_count": 11,
   "id": "2ca2640e-e9d6-4e49-ab5e-c915ee19fd58",
   "metadata": {},
   "outputs": [],
   "source": [
    "d={'Cancer':1,'Non_Cancer':0}  #20-30 tane olsaydı label_encoder fit transform gibi bir dönüşüm yaparız"
   ]
  },
  {
   "cell_type": "code",
   "execution_count": 12,
   "id": "aaac1ee5-9427-4ea1-bb0a-b64f8083e87d",
   "metadata": {},
   "outputs": [],
   "source": [
    "df['encode_label']=df['label'].map(d)"
   ]
  },
  {
   "cell_type": "code",
   "execution_count": 13,
   "id": "070b6a59-9413-4692-89e1-3e309729ef21",
   "metadata": {},
   "outputs": [
    {
     "data": {
      "text/html": [
       "<div>\n",
       "<style scoped>\n",
       "    .dataframe tbody tr th:only-of-type {\n",
       "        vertical-align: middle;\n",
       "    }\n",
       "\n",
       "    .dataframe tbody tr th {\n",
       "        vertical-align: top;\n",
       "    }\n",
       "\n",
       "    .dataframe thead th {\n",
       "        text-align: right;\n",
       "    }\n",
       "</style>\n",
       "<table border=\"1\" class=\"dataframe\">\n",
       "  <thead>\n",
       "    <tr style=\"text-align: right;\">\n",
       "      <th></th>\n",
       "      <th>img</th>\n",
       "      <th>label</th>\n",
       "      <th>encode_label</th>\n",
       "    </tr>\n",
       "  </thead>\n",
       "  <tbody>\n",
       "    <tr>\n",
       "      <th>283</th>\n",
       "      <td>Skin_Data/Non_Cancer/953-1.JPG</td>\n",
       "      <td>Non_Cancer</td>\n",
       "      <td>0</td>\n",
       "    </tr>\n",
       "    <tr>\n",
       "      <th>284</th>\n",
       "      <td>Skin_Data/Non_Cancer/954-3.JPG</td>\n",
       "      <td>Non_Cancer</td>\n",
       "      <td>0</td>\n",
       "    </tr>\n",
       "    <tr>\n",
       "      <th>285</th>\n",
       "      <td>Skin_Data/Non_Cancer/955.JPG</td>\n",
       "      <td>Non_Cancer</td>\n",
       "      <td>0</td>\n",
       "    </tr>\n",
       "    <tr>\n",
       "      <th>286</th>\n",
       "      <td>Skin_Data/Non_Cancer/984.JPG</td>\n",
       "      <td>Non_Cancer</td>\n",
       "      <td>0</td>\n",
       "    </tr>\n",
       "    <tr>\n",
       "      <th>287</th>\n",
       "      <td>Skin_Data/Non_Cancer/986-1.JPG</td>\n",
       "      <td>Non_Cancer</td>\n",
       "      <td>0</td>\n",
       "    </tr>\n",
       "  </tbody>\n",
       "</table>\n",
       "</div>"
      ],
      "text/plain": [
       "                                img       label  encode_label\n",
       "283  Skin_Data/Non_Cancer/953-1.JPG  Non_Cancer             0\n",
       "284  Skin_Data/Non_Cancer/954-3.JPG  Non_Cancer             0\n",
       "285    Skin_Data/Non_Cancer/955.JPG  Non_Cancer             0\n",
       "286    Skin_Data/Non_Cancer/984.JPG  Non_Cancer             0\n",
       "287  Skin_Data/Non_Cancer/986-1.JPG  Non_Cancer             0"
      ]
     },
     "execution_count": 13,
     "metadata": {},
     "output_type": "execute_result"
    }
   ],
   "source": [
    "df.tail()"
   ]
  },
  {
   "cell_type": "code",
   "execution_count": 14,
   "id": "10393d60-a596-4cda-b52f-0a7297c83d18",
   "metadata": {},
   "outputs": [],
   "source": [
    "import numpy as np"
   ]
  },
  {
   "cell_type": "code",
   "execution_count": 15,
   "id": "1f7230f0-4e23-471a-beb7-0258fabbc35a",
   "metadata": {},
   "outputs": [],
   "source": [
    "x=[]\n",
    "for img in df['img']:\n",
    "    img=cv2.imread(img)\n",
    "    img=cv2.resize(img,(170,170)) #boyutunu 170x170 pixel yaptık\n",
    "    img=img/255.0  #normalzie ettik: 0-1 arasına çevirdik yani \n",
    "    x.append(img)"
   ]
  },
  {
   "cell_type": "code",
   "execution_count": 16,
   "id": "24907285-d46f-4d50-a405-9e314e327d6a",
   "metadata": {},
   "outputs": [],
   "source": [
    "x=np.array(x)"
   ]
  },
  {
   "cell_type": "code",
   "execution_count": 17,
   "id": "b22759ed-c78b-4c58-ab07-f15b48234f72",
   "metadata": {},
   "outputs": [
    {
     "data": {
      "text/plain": [
       "array([[[[0.69411765, 0.74901961, 0.95686275],\n",
       "         [0.6745098 , 0.72941176, 0.9372549 ],\n",
       "         [0.59607843, 0.64313725, 0.8627451 ],\n",
       "         ...,\n",
       "         [0.49411765, 0.62745098, 0.84705882],\n",
       "         [0.49411765, 0.63137255, 0.85098039],\n",
       "         [0.51372549, 0.64313725, 0.8627451 ]],\n",
       "\n",
       "        [[0.63921569, 0.69411765, 0.88627451],\n",
       "         [0.64313725, 0.69803922, 0.90196078],\n",
       "         [0.63529412, 0.69803922, 0.90588235],\n",
       "         ...,\n",
       "         [0.52156863, 0.63137255, 0.84705882],\n",
       "         [0.5254902 , 0.63921569, 0.85490196],\n",
       "         [0.5372549 , 0.64313725, 0.8627451 ]],\n",
       "\n",
       "        [[0.64313725, 0.70588235, 0.89803922],\n",
       "         [0.65882353, 0.71372549, 0.91764706],\n",
       "         [0.64313725, 0.70980392, 0.91372549],\n",
       "         ...,\n",
       "         [0.54117647, 0.64705882, 0.86666667],\n",
       "         [0.56078431, 0.66666667, 0.88627451],\n",
       "         [0.5372549 , 0.64705882, 0.8627451 ]],\n",
       "\n",
       "        ...,\n",
       "\n",
       "        [[0.64313725, 0.74117647, 0.9372549 ],\n",
       "         [0.62745098, 0.72156863, 0.91764706],\n",
       "         [0.62745098, 0.71764706, 0.90588235],\n",
       "         ...,\n",
       "         [0.72156863, 0.81960784, 0.95294118],\n",
       "         [0.69019608, 0.78823529, 0.92156863],\n",
       "         [0.66666667, 0.76078431, 0.90196078]],\n",
       "\n",
       "        [[0.69411765, 0.78823529, 0.96470588],\n",
       "         [0.71764706, 0.81176471, 0.99215686],\n",
       "         [0.69019608, 0.78039216, 0.95686275],\n",
       "         ...,\n",
       "         [0.68235294, 0.78039216, 0.92156863],\n",
       "         [0.64313725, 0.74509804, 0.88627451],\n",
       "         [0.70980392, 0.81960784, 0.95686275]],\n",
       "\n",
       "        [[0.6627451 , 0.77254902, 0.93333333],\n",
       "         [0.69803922, 0.79607843, 0.96078431],\n",
       "         [0.69803922, 0.78431373, 0.94509804],\n",
       "         ...,\n",
       "         [0.61568627, 0.72941176, 0.88235294],\n",
       "         [0.60784314, 0.72941176, 0.88235294],\n",
       "         [0.64313725, 0.77254902, 0.9254902 ]]],\n",
       "\n",
       "\n",
       "       [[[0.11372549, 0.1372549 , 0.21176471],\n",
       "         [0.11372549, 0.1372549 , 0.21176471],\n",
       "         [0.23137255, 0.25490196, 0.32941176],\n",
       "         ...,\n",
       "         [0.14901961, 0.20392157, 0.36862745],\n",
       "         [0.10588235, 0.16470588, 0.34509804],\n",
       "         [0.06666667, 0.11372549, 0.30196078]],\n",
       "\n",
       "        [[0.11764706, 0.14509804, 0.21176471],\n",
       "         [0.12941176, 0.15294118, 0.22352941],\n",
       "         [0.29411765, 0.31764706, 0.38823529],\n",
       "         ...,\n",
       "         [0.09803922, 0.16078431, 0.30980392],\n",
       "         [0.01568627, 0.08235294, 0.24313725],\n",
       "         [0.07843137, 0.12941176, 0.29803922]],\n",
       "\n",
       "        [[0.12941176, 0.14509804, 0.21568627],\n",
       "         [0.17647059, 0.20392157, 0.27058824],\n",
       "         [0.14509804, 0.17647059, 0.24313725],\n",
       "         ...,\n",
       "         [0.06666667, 0.12941176, 0.2745098 ],\n",
       "         [0.08627451, 0.14901961, 0.31372549],\n",
       "         [0.14509804, 0.19607843, 0.36862745]],\n",
       "\n",
       "        ...,\n",
       "\n",
       "        [[0.10980392, 0.1254902 , 0.23529412],\n",
       "         [0.0627451 , 0.08627451, 0.1372549 ],\n",
       "         [0.05098039, 0.0745098 , 0.11764706],\n",
       "         ...,\n",
       "         [0.16078431, 0.25490196, 0.45882353],\n",
       "         [0.17254902, 0.26666667, 0.47058824],\n",
       "         [0.15294118, 0.24705882, 0.45882353]],\n",
       "\n",
       "        [[0.09411765, 0.10980392, 0.21960784],\n",
       "         [0.07058824, 0.10196078, 0.15294118],\n",
       "         [0.07843137, 0.10196078, 0.14509804],\n",
       "         ...,\n",
       "         [0.14509804, 0.25098039, 0.45490196],\n",
       "         [0.15686275, 0.25882353, 0.47058824],\n",
       "         [0.14509804, 0.24313725, 0.45882353]],\n",
       "\n",
       "        [[0.09411765, 0.11764706, 0.21568627],\n",
       "         [0.08627451, 0.10980392, 0.16078431],\n",
       "         [0.07843137, 0.09803922, 0.15686275],\n",
       "         ...,\n",
       "         [0.15686275, 0.2627451 , 0.4627451 ],\n",
       "         [0.14901961, 0.2627451 , 0.4627451 ],\n",
       "         [0.14117647, 0.24705882, 0.46666667]]],\n",
       "\n",
       "\n",
       "       [[[0.29411765, 0.44313725, 0.65490196],\n",
       "         [0.28627451, 0.43921569, 0.64313725],\n",
       "         [0.30588235, 0.45882353, 0.6627451 ],\n",
       "         ...,\n",
       "         [0.30196078, 0.41568627, 0.6       ],\n",
       "         [0.30980392, 0.42352941, 0.6       ],\n",
       "         [0.29019608, 0.40784314, 0.59215686]],\n",
       "\n",
       "        [[0.29411765, 0.44313725, 0.65490196],\n",
       "         [0.30196078, 0.45098039, 0.6627451 ],\n",
       "         [0.30196078, 0.45098039, 0.6627451 ],\n",
       "         ...,\n",
       "         [0.30588235, 0.41960784, 0.60784314],\n",
       "         [0.31372549, 0.42352941, 0.60784314],\n",
       "         [0.30196078, 0.41176471, 0.58823529]],\n",
       "\n",
       "        [[0.29803922, 0.44705882, 0.66666667],\n",
       "         [0.30588235, 0.45490196, 0.66666667],\n",
       "         [0.28627451, 0.43529412, 0.64705882],\n",
       "         ...,\n",
       "         [0.30980392, 0.41960784, 0.60392157],\n",
       "         [0.30196078, 0.41176471, 0.59607843],\n",
       "         [0.30980392, 0.41176471, 0.59215686]],\n",
       "\n",
       "        ...,\n",
       "\n",
       "        [[0.38431373, 0.52941176, 0.7254902 ],\n",
       "         [0.36470588, 0.50980392, 0.70588235],\n",
       "         [0.37254902, 0.51764706, 0.71372549],\n",
       "         ...,\n",
       "         [0.36470588, 0.50588235, 0.69411765],\n",
       "         [0.36862745, 0.50980392, 0.69803922],\n",
       "         [0.36470588, 0.50588235, 0.69411765]],\n",
       "\n",
       "        [[0.37254902, 0.5254902 , 0.72941176],\n",
       "         [0.36862745, 0.51372549, 0.70980392],\n",
       "         [0.38823529, 0.53333333, 0.72941176],\n",
       "         ...,\n",
       "         [0.37254902, 0.51372549, 0.70196078],\n",
       "         [0.36862745, 0.50980392, 0.69803922],\n",
       "         [0.35686275, 0.50588235, 0.69411765]],\n",
       "\n",
       "        [[0.38823529, 0.53333333, 0.72941176],\n",
       "         [0.40392157, 0.54117647, 0.7372549 ],\n",
       "         [0.41960784, 0.56078431, 0.74901961],\n",
       "         ...,\n",
       "         [0.36862745, 0.50980392, 0.69803922],\n",
       "         [0.36862745, 0.50980392, 0.69803922],\n",
       "         [0.36078431, 0.50980392, 0.69803922]]],\n",
       "\n",
       "\n",
       "       ...,\n",
       "\n",
       "\n",
       "       [[[0.13333333, 0.18431373, 0.36470588],\n",
       "         [0.1254902 , 0.17647059, 0.35686275],\n",
       "         [0.11764706, 0.16862745, 0.34901961],\n",
       "         ...,\n",
       "         [0.14117647, 0.19215686, 0.38039216],\n",
       "         [0.1372549 , 0.18431373, 0.37254902],\n",
       "         [0.14901961, 0.19607843, 0.38431373]],\n",
       "\n",
       "        [[0.12156863, 0.17254902, 0.35294118],\n",
       "         [0.12156863, 0.17254902, 0.35294118],\n",
       "         [0.12156863, 0.17254902, 0.35294118],\n",
       "         ...,\n",
       "         [0.14509804, 0.19607843, 0.38431373],\n",
       "         [0.14509804, 0.19215686, 0.38039216],\n",
       "         [0.14901961, 0.19607843, 0.38431373]],\n",
       "\n",
       "        [[0.11764706, 0.16862745, 0.34901961],\n",
       "         [0.12156863, 0.17254902, 0.35294118],\n",
       "         [0.12156863, 0.17647059, 0.35686275],\n",
       "         ...,\n",
       "         [0.14117647, 0.19607843, 0.38823529],\n",
       "         [0.14509804, 0.19607843, 0.38823529],\n",
       "         [0.14117647, 0.19215686, 0.38431373]],\n",
       "\n",
       "        ...,\n",
       "\n",
       "        [[0.15686275, 0.21568627, 0.36862745],\n",
       "         [0.14509804, 0.20392157, 0.35686275],\n",
       "         [0.12941176, 0.18431373, 0.34901961],\n",
       "         ...,\n",
       "         [0.1372549 , 0.2       , 0.36862745],\n",
       "         [0.1372549 , 0.19607843, 0.37647059],\n",
       "         [0.14117647, 0.2       , 0.38039216]],\n",
       "\n",
       "        [[0.14509804, 0.20392157, 0.35686275],\n",
       "         [0.14117647, 0.19607843, 0.35294118],\n",
       "         [0.1254902 , 0.18039216, 0.34509804],\n",
       "         ...,\n",
       "         [0.14117647, 0.20392157, 0.37254902],\n",
       "         [0.1372549 , 0.19607843, 0.37647059],\n",
       "         [0.14117647, 0.2       , 0.38039216]],\n",
       "\n",
       "        [[0.13333333, 0.19215686, 0.34509804],\n",
       "         [0.12941176, 0.18823529, 0.34117647],\n",
       "         [0.11764706, 0.17254902, 0.3372549 ],\n",
       "         ...,\n",
       "         [0.14509804, 0.20784314, 0.37647059],\n",
       "         [0.14117647, 0.2       , 0.38039216],\n",
       "         [0.14509804, 0.20392157, 0.38431373]]],\n",
       "\n",
       "\n",
       "       [[[0.42745098, 0.54509804, 0.72941176],\n",
       "         [0.38431373, 0.49803922, 0.67843137],\n",
       "         [0.37254902, 0.48627451, 0.6627451 ],\n",
       "         ...,\n",
       "         [0.43137255, 0.52941176, 0.69803922],\n",
       "         [0.43529412, 0.53333333, 0.69803922],\n",
       "         [0.43137255, 0.52941176, 0.69411765]],\n",
       "\n",
       "        [[0.41176471, 0.52941176, 0.70980392],\n",
       "         [0.38431373, 0.49803922, 0.67843137],\n",
       "         [0.35294118, 0.46666667, 0.63921569],\n",
       "         ...,\n",
       "         [0.41176471, 0.50980392, 0.6745098 ],\n",
       "         [0.42352941, 0.52156863, 0.68627451],\n",
       "         [0.42745098, 0.5254902 , 0.69019608]],\n",
       "\n",
       "        [[0.38823529, 0.49803922, 0.6745098 ],\n",
       "         [0.37254902, 0.47843137, 0.65490196],\n",
       "         [0.3372549 , 0.44313725, 0.61568627],\n",
       "         ...,\n",
       "         [0.39215686, 0.49019608, 0.65490196],\n",
       "         [0.40392157, 0.50196078, 0.66666667],\n",
       "         [0.40784314, 0.50588235, 0.6745098 ]],\n",
       "\n",
       "        ...,\n",
       "\n",
       "        [[0.40392157, 0.49411765, 0.67058824],\n",
       "         [0.41568627, 0.50980392, 0.68627451],\n",
       "         [0.43529412, 0.53333333, 0.71372549],\n",
       "         ...,\n",
       "         [0.39215686, 0.49803922, 0.67058824],\n",
       "         [0.39607843, 0.50196078, 0.6745098 ],\n",
       "         [0.41176471, 0.51764706, 0.69019608]],\n",
       "\n",
       "        [[0.43921569, 0.5254902 , 0.70196078],\n",
       "         [0.47058824, 0.56078431, 0.7372549 ],\n",
       "         [0.4627451 , 0.55686275, 0.7372549 ],\n",
       "         ...,\n",
       "         [0.4       , 0.50980392, 0.68235294],\n",
       "         [0.39607843, 0.50588235, 0.68235294],\n",
       "         [0.41176471, 0.52156863, 0.69411765]],\n",
       "\n",
       "        [[0.44313725, 0.5254902 , 0.70196078],\n",
       "         [0.49411765, 0.58039216, 0.75686275],\n",
       "         [0.4745098 , 0.56470588, 0.74509804],\n",
       "         ...,\n",
       "         [0.41176471, 0.5254902 , 0.69803922],\n",
       "         [0.4       , 0.51372549, 0.68627451],\n",
       "         [0.40392157, 0.52156863, 0.69411765]]],\n",
       "\n",
       "\n",
       "       [[[0.67843137, 0.74509804, 0.8745098 ],\n",
       "         [0.68235294, 0.74901961, 0.87843137],\n",
       "         [0.68235294, 0.74901961, 0.88235294],\n",
       "         ...,\n",
       "         [0.6627451 , 0.73333333, 0.8627451 ],\n",
       "         [0.66666667, 0.73333333, 0.8627451 ],\n",
       "         [0.66666667, 0.73333333, 0.8627451 ]],\n",
       "\n",
       "        [[0.67058824, 0.7372549 , 0.86666667],\n",
       "         [0.6745098 , 0.74117647, 0.87058824],\n",
       "         [0.6745098 , 0.74509804, 0.8745098 ],\n",
       "         ...,\n",
       "         [0.6627451 , 0.72941176, 0.8627451 ],\n",
       "         [0.66666667, 0.73333333, 0.8627451 ],\n",
       "         [0.66666667, 0.73333333, 0.8627451 ]],\n",
       "\n",
       "        [[0.65882353, 0.7254902 , 0.85490196],\n",
       "         [0.65882353, 0.7254902 , 0.85490196],\n",
       "         [0.65882353, 0.72941176, 0.8627451 ],\n",
       "         ...,\n",
       "         [0.65098039, 0.72156863, 0.85490196],\n",
       "         [0.65490196, 0.7254902 , 0.8627451 ],\n",
       "         [0.65490196, 0.7254902 , 0.8627451 ]],\n",
       "\n",
       "        ...,\n",
       "\n",
       "        [[0.67843137, 0.74117647, 0.84705882],\n",
       "         [0.67843137, 0.74117647, 0.85098039],\n",
       "         [0.67843137, 0.74117647, 0.85098039],\n",
       "         ...,\n",
       "         [0.69803922, 0.75686275, 0.86666667],\n",
       "         [0.69803922, 0.75294118, 0.8627451 ],\n",
       "         [0.69411765, 0.74901961, 0.85882353]],\n",
       "\n",
       "        [[0.68627451, 0.74117647, 0.85098039],\n",
       "         [0.69019608, 0.74509804, 0.85490196],\n",
       "         [0.69019608, 0.74509804, 0.85490196],\n",
       "         ...,\n",
       "         [0.69803922, 0.75294118, 0.8627451 ],\n",
       "         [0.69803922, 0.75294118, 0.8627451 ],\n",
       "         [0.69411765, 0.74901961, 0.85882353]],\n",
       "\n",
       "        [[0.69803922, 0.75294118, 0.8627451 ],\n",
       "         [0.69803922, 0.75294118, 0.8627451 ],\n",
       "         [0.69411765, 0.74901961, 0.85882353],\n",
       "         ...,\n",
       "         [0.69803922, 0.75294118, 0.8627451 ],\n",
       "         [0.69411765, 0.74901961, 0.8627451 ],\n",
       "         [0.69411765, 0.74901961, 0.85882353]]]])"
      ]
     },
     "execution_count": 17,
     "metadata": {},
     "output_type": "execute_result"
    }
   ],
   "source": [
    "x"
   ]
  },
  {
   "cell_type": "code",
   "execution_count": 18,
   "id": "b8c8e088-5356-4e50-8c35-754c1223430c",
   "metadata": {},
   "outputs": [],
   "source": [
    "y=df['encode_label']"
   ]
  },
  {
   "cell_type": "code",
   "execution_count": 19,
   "id": "ff0ac80c-50af-4dca-803f-485be30649bb",
   "metadata": {},
   "outputs": [],
   "source": [
    "from sklearn.model_selection import train_test_split"
   ]
  },
  {
   "cell_type": "code",
   "execution_count": 20,
   "id": "3a130ab9-c02d-4d6e-a2d9-2c4e332bb76e",
   "metadata": {},
   "outputs": [],
   "source": [
    "x_train,x_test,y_train,y_test=train_test_split(x,y,test_size=0.2,random_state=42)"
   ]
  },
  {
   "cell_type": "code",
   "execution_count": 21,
   "id": "3459ce20-4b51-4f96-ac83-0e6bd8058c83",
   "metadata": {},
   "outputs": [
    {
     "data": {
      "text/plain": [
       "0      1\n",
       "1      1\n",
       "2      1\n",
       "3      1\n",
       "4      1\n",
       "      ..\n",
       "283    0\n",
       "284    0\n",
       "285    0\n",
       "286    0\n",
       "287    0\n",
       "Name: encode_label, Length: 288, dtype: int64"
      ]
     },
     "execution_count": 21,
     "metadata": {},
     "output_type": "execute_result"
    }
   ],
   "source": [
    "y"
   ]
  },
  {
   "cell_type": "code",
   "execution_count": 22,
   "id": "2dfba65d-253f-413e-a421-b37a8fb012f1",
   "metadata": {},
   "outputs": [],
   "source": [
    "from keras.models import Sequential\n",
    "from keras.layers import Conv2D, Dense, Flatten, Input, MaxPooling2D, Dropout,BatchNormalization, Reshape"
   ]
  },
  {
   "cell_type": "code",
   "execution_count": 23,
   "id": "464e4036-6887-43f5-b7d5-4e6c4f40c05c",
   "metadata": {},
   "outputs": [],
   "source": [
    "model=Sequential()\n",
    "model.add(Input(shape=(170,170,3)))\n",
    "model.add(Conv2D(filters=32, kernel_size=(3,3),activation='relu'))\n",
    "model.add(MaxPooling2D(pool_size=(2,2)))\n",
    "model.add(Conv2D(filters=64, kernel_size=(3,3),activation='relu'))\n",
    "model.add(MaxPooling2D(pool_size=(2,2)))\n",
    "model.add(Flatten())\n",
    "model.add(Dense(128)) #10 farklı cevap classification 0-9 a kadar olan rakamlar\n",
    "model.add(Dense(2, activation=\"softmax\"))\n",
    "model. compile(optimizer='adam',loss='sparse_categorical_crossentropy',metrics=['accuracy'])"
   ]
  },
  {
   "cell_type": "code",
   "execution_count": 24,
   "id": "232589c5-66f0-4015-bc7c-8e98b989df50",
   "metadata": {},
   "outputs": [
    {
     "name": "stdout",
     "output_type": "stream",
     "text": [
      "Epoch 1/20\n",
      "\u001b[1m8/8\u001b[0m \u001b[32m━━━━━━━━━━━━━━━━━━━━\u001b[0m\u001b[37m\u001b[0m \u001b[1m7s\u001b[0m 599ms/step - accuracy: 0.6581 - loss: 18.0721 - val_accuracy: 0.2759 - val_loss: 2.5709\n",
      "Epoch 2/20\n",
      "\u001b[1m8/8\u001b[0m \u001b[32m━━━━━━━━━━━━━━━━━━━━\u001b[0m\u001b[37m\u001b[0m \u001b[1m4s\u001b[0m 548ms/step - accuracy: 0.5206 - loss: 1.6316 - val_accuracy: 0.7069 - val_loss: 0.6507\n",
      "Epoch 3/20\n",
      "\u001b[1m8/8\u001b[0m \u001b[32m━━━━━━━━━━━━━━━━━━━━\u001b[0m\u001b[37m\u001b[0m \u001b[1m4s\u001b[0m 543ms/step - accuracy: 0.7309 - loss: 0.5769 - val_accuracy: 0.7931 - val_loss: 0.4893\n",
      "Epoch 4/20\n",
      "\u001b[1m8/8\u001b[0m \u001b[32m━━━━━━━━━━━━━━━━━━━━\u001b[0m\u001b[37m\u001b[0m \u001b[1m4s\u001b[0m 545ms/step - accuracy: 0.8436 - loss: 0.4213 - val_accuracy: 0.7414 - val_loss: 0.5369\n",
      "Epoch 5/20\n",
      "\u001b[1m8/8\u001b[0m \u001b[32m━━━━━━━━━━━━━━━━━━━━\u001b[0m\u001b[37m\u001b[0m \u001b[1m5s\u001b[0m 640ms/step - accuracy: 0.8893 - loss: 0.3418 - val_accuracy: 0.8103 - val_loss: 0.4345\n",
      "Epoch 6/20\n",
      "\u001b[1m8/8\u001b[0m \u001b[32m━━━━━━━━━━━━━━━━━━━━\u001b[0m\u001b[37m\u001b[0m \u001b[1m5s\u001b[0m 636ms/step - accuracy: 0.8488 - loss: 0.3443 - val_accuracy: 0.9138 - val_loss: 0.3240\n",
      "Epoch 7/20\n",
      "\u001b[1m8/8\u001b[0m \u001b[32m━━━━━━━━━━━━━━━━━━━━\u001b[0m\u001b[37m\u001b[0m \u001b[1m5s\u001b[0m 644ms/step - accuracy: 0.9096 - loss: 0.2597 - val_accuracy: 0.8621 - val_loss: 0.3465\n",
      "Epoch 8/20\n",
      "\u001b[1m8/8\u001b[0m \u001b[32m━━━━━━━━━━━━━━━━━━━━\u001b[0m\u001b[37m\u001b[0m \u001b[1m5s\u001b[0m 592ms/step - accuracy: 0.9124 - loss: 0.2301 - val_accuracy: 0.8793 - val_loss: 0.3100\n",
      "Epoch 9/20\n",
      "\u001b[1m8/8\u001b[0m \u001b[32m━━━━━━━━━━━━━━━━━━━━\u001b[0m\u001b[37m\u001b[0m \u001b[1m5s\u001b[0m 576ms/step - accuracy: 0.9507 - loss: 0.1460 - val_accuracy: 0.8448 - val_loss: 0.3675\n",
      "Epoch 10/20\n",
      "\u001b[1m8/8\u001b[0m \u001b[32m━━━━━━━━━━━━━━━━━━━━\u001b[0m\u001b[37m\u001b[0m \u001b[1m5s\u001b[0m 573ms/step - accuracy: 0.9130 - loss: 0.1761 - val_accuracy: 0.8621 - val_loss: 0.3148\n",
      "Epoch 11/20\n",
      "\u001b[1m8/8\u001b[0m \u001b[32m━━━━━━━━━━━━━━━━━━━━\u001b[0m\u001b[37m\u001b[0m \u001b[1m4s\u001b[0m 553ms/step - accuracy: 0.9417 - loss: 0.1504 - val_accuracy: 0.8448 - val_loss: 0.3507\n",
      "Epoch 12/20\n",
      "\u001b[1m8/8\u001b[0m \u001b[32m━━━━━━━━━━━━━━━━━━━━\u001b[0m\u001b[37m\u001b[0m \u001b[1m5s\u001b[0m 566ms/step - accuracy: 0.9878 - loss: 0.0932 - val_accuracy: 0.8621 - val_loss: 0.2713\n",
      "Epoch 13/20\n",
      "\u001b[1m8/8\u001b[0m \u001b[32m━━━━━━━━━━━━━━━━━━━━\u001b[0m\u001b[37m\u001b[0m \u001b[1m5s\u001b[0m 591ms/step - accuracy: 0.9652 - loss: 0.1019 - val_accuracy: 0.8621 - val_loss: 0.4471\n",
      "Epoch 14/20\n",
      "\u001b[1m8/8\u001b[0m \u001b[32m━━━━━━━━━━━━━━━━━━━━\u001b[0m\u001b[37m\u001b[0m \u001b[1m5s\u001b[0m 651ms/step - accuracy: 0.9661 - loss: 0.1189 - val_accuracy: 0.8276 - val_loss: 0.3526\n",
      "Epoch 15/20\n",
      "\u001b[1m8/8\u001b[0m \u001b[32m━━━━━━━━━━━━━━━━━━━━\u001b[0m\u001b[37m\u001b[0m \u001b[1m5s\u001b[0m 593ms/step - accuracy: 0.9863 - loss: 0.0830 - val_accuracy: 0.8793 - val_loss: 0.3253\n",
      "Epoch 16/20\n",
      "\u001b[1m8/8\u001b[0m \u001b[32m━━━━━━━━━━━━━━━━━━━━\u001b[0m\u001b[37m\u001b[0m \u001b[1m5s\u001b[0m 581ms/step - accuracy: 0.9915 - loss: 0.0604 - val_accuracy: 0.8103 - val_loss: 0.3471\n",
      "Epoch 17/20\n",
      "\u001b[1m8/8\u001b[0m \u001b[32m━━━━━━━━━━━━━━━━━━━━\u001b[0m\u001b[37m\u001b[0m \u001b[1m5s\u001b[0m 567ms/step - accuracy: 1.0000 - loss: 0.0407 - val_accuracy: 0.8621 - val_loss: 0.3028\n",
      "Epoch 18/20\n",
      "\u001b[1m8/8\u001b[0m \u001b[32m━━━━━━━━━━━━━━━━━━━━\u001b[0m\u001b[37m\u001b[0m \u001b[1m5s\u001b[0m 593ms/step - accuracy: 1.0000 - loss: 0.0216 - val_accuracy: 0.8621 - val_loss: 0.2893\n",
      "Epoch 19/20\n",
      "\u001b[1m8/8\u001b[0m \u001b[32m━━━━━━━━━━━━━━━━━━━━\u001b[0m\u001b[37m\u001b[0m \u001b[1m5s\u001b[0m 626ms/step - accuracy: 1.0000 - loss: 0.0165 - val_accuracy: 0.8793 - val_loss: 0.2927\n",
      "Epoch 20/20\n",
      "\u001b[1m8/8\u001b[0m \u001b[32m━━━━━━━━━━━━━━━━━━━━\u001b[0m\u001b[37m\u001b[0m \u001b[1m5s\u001b[0m 601ms/step - accuracy: 1.0000 - loss: 0.0130 - val_accuracy: 0.8621 - val_loss: 0.3260\n"
     ]
    }
   ],
   "source": [
    "history=model.fit(x_train,y_train,validation_data=(x_test, y_test), epochs=20,verbose=1)"
   ]
  },
  {
   "cell_type": "code",
   "execution_count": 25,
   "id": "4adba294-5057-47c1-9cf1-c7eec81c6746",
   "metadata": {},
   "outputs": [
    {
     "name": "stderr",
     "output_type": "stream",
     "text": [
      "WARNING:absl:You are saving your model as an HDF5 file via `model.save()` or `keras.saving.save_model(model)`. This file format is considered legacy. We recommend using instead the native Keras format, e.g. `model.save('my_model.keras')` or `keras.saving.save_model(model, 'my_model.keras')`. \n"
     ]
    }
   ],
   "source": [
    "model.save('my_cnn_mode.h5')"
   ]
  },
  {
   "cell_type": "code",
   "execution_count": 26,
   "id": "1b9e174b-a2ee-4ef2-9260-9fe417d965f2",
   "metadata": {},
   "outputs": [],
   "source": [
    "# VGGNET, Resnet50, Inceptionsv3, Xception, MobileNetV2 Transfer Learning"
   ]
  },
  {
   "cell_type": "code",
   "execution_count": 27,
   "id": "8a880077-c9ba-44d8-b512-bafbd739b095",
   "metadata": {},
   "outputs": [],
   "source": [
    "from keras.models import Sequential\n",
    "from keras.layers import Conv2D, Dense, Flatten, Input, MaxPooling2D, Dropout,BatchNormalization, Reshape\n",
    "from tensorflow.keras.applications import VGG16,ResNet50\n",
    "from tensorflow.keras.preprocessing.image import ImageDataGenerator"
   ]
  },
  {
   "cell_type": "code",
   "execution_count": 29,
   "id": "1c9e50d1-8755-4295-a407-08b0dba6d3be",
   "metadata": {},
   "outputs": [
    {
     "name": "stdout",
     "output_type": "stream",
     "text": [
      "Found 232 images belonging to 2 classes.\n",
      "Found 56 images belonging to 2 classes.\n",
      "Epoch 1/10\n",
      "\u001b[1m8/8\u001b[0m \u001b[32m━━━━━━━━━━━━━━━━━━━━\u001b[0m\u001b[37m\u001b[0m \u001b[1m30s\u001b[0m 4s/step - accuracy: 0.6096 - loss: 2.6691 - val_accuracy: 0.7143 - val_loss: 0.7061\n",
      "Epoch 2/10\n",
      "\u001b[1m8/8\u001b[0m \u001b[32m━━━━━━━━━━━━━━━━━━━━\u001b[0m\u001b[37m\u001b[0m \u001b[1m33s\u001b[0m 4s/step - accuracy: 0.7279 - loss: 0.6475 - val_accuracy: 0.7857 - val_loss: 0.4321\n",
      "Epoch 3/10\n",
      "\u001b[1m8/8\u001b[0m \u001b[32m━━━━━━━━━━━━━━━━━━━━\u001b[0m\u001b[37m\u001b[0m \u001b[1m32s\u001b[0m 4s/step - accuracy: 0.7958 - loss: 0.3854 - val_accuracy: 0.7857 - val_loss: 0.3954\n",
      "Epoch 4/10\n",
      "\u001b[1m8/8\u001b[0m \u001b[32m━━━━━━━━━━━━━━━━━━━━\u001b[0m\u001b[37m\u001b[0m \u001b[1m29s\u001b[0m 4s/step - accuracy: 0.9024 - loss: 0.2285 - val_accuracy: 0.8036 - val_loss: 0.3655\n",
      "Epoch 5/10\n",
      "\u001b[1m8/8\u001b[0m \u001b[32m━━━━━━━━━━━━━━━━━━━━\u001b[0m\u001b[37m\u001b[0m \u001b[1m34s\u001b[0m 4s/step - accuracy: 0.9235 - loss: 0.2277 - val_accuracy: 0.8036 - val_loss: 0.3547\n",
      "Epoch 6/10\n",
      "\u001b[1m8/8\u001b[0m \u001b[32m━━━━━━━━━━━━━━━━━━━━\u001b[0m\u001b[37m\u001b[0m \u001b[1m35s\u001b[0m 5s/step - accuracy: 0.9599 - loss: 0.1684 - val_accuracy: 0.8036 - val_loss: 0.3461\n",
      "Epoch 7/10\n",
      "\u001b[1m8/8\u001b[0m \u001b[32m━━━━━━━━━━━━━━━━━━━━\u001b[0m\u001b[37m\u001b[0m \u001b[1m35s\u001b[0m 4s/step - accuracy: 0.9598 - loss: 0.1466 - val_accuracy: 0.7857 - val_loss: 0.3712\n",
      "Epoch 8/10\n",
      "\u001b[1m8/8\u001b[0m \u001b[32m━━━━━━━━━━━━━━━━━━━━\u001b[0m\u001b[37m\u001b[0m \u001b[1m39s\u001b[0m 5s/step - accuracy: 0.9670 - loss: 0.1417 - val_accuracy: 0.8036 - val_loss: 0.3367\n",
      "Epoch 9/10\n",
      "\u001b[1m8/8\u001b[0m \u001b[32m━━━━━━━━━━━━━━━━━━━━\u001b[0m\u001b[37m\u001b[0m \u001b[1m47s\u001b[0m 6s/step - accuracy: 0.9744 - loss: 0.1265 - val_accuracy: 0.8393 - val_loss: 0.3512\n",
      "Epoch 10/10\n",
      "\u001b[1m8/8\u001b[0m \u001b[32m━━━━━━━━━━━━━━━━━━━━\u001b[0m\u001b[37m\u001b[0m \u001b[1m50s\u001b[0m 6s/step - accuracy: 0.9749 - loss: 0.1054 - val_accuracy: 0.8393 - val_loss: 0.3664\n"
     ]
    },
    {
     "data": {
      "text/plain": [
       "<keras.src.callbacks.history.History at 0x2568e00aa20>"
      ]
     },
     "execution_count": 29,
     "metadata": {},
     "output_type": "execute_result"
    }
   ],
   "source": [
    "data_dir='Skin_Data'\n",
    "img_width,img_height=170,170\n",
    "train_datagen=ImageDataGenerator(rescale=1/255.0, validation_split=.20)\n",
    "train_datagenerator=train_datagen.flow_from_directory(directory=data_dir,target_size=(170,170),\n",
    "                                class_mode='binary',subset='training')\n",
    "test_datagen=ImageDataGenerator(rescale=1/255.0)\n",
    "test_datagenerator=train_datagen.flow_from_directory(directory=data_dir,target_size=(170,170),\n",
    "                                class_mode='binary',subset='validation')\n",
    "\n",
    "base_model = VGG16(weights='imagenet', include_top=False, input_shape=(170, 170, 3))\n",
    "\n",
    "#base_model=VGG16(weights='imagenet', input_shape=(img_width,img_height,3))\n",
    "\n",
    "model=Sequential()\n",
    "\n",
    "model.add(base_model)\n",
    "for layer in base_model.layers:\n",
    "    layer.trainable=False\n",
    "\n",
    "model.add(Flatten())\n",
    "model.add(Dense(1024,activation='relu'))\n",
    "model.add(Dense(1,activation='sigmoid'))\n",
    "\n",
    "model.compile(optimizer='adam',loss='binary_crossentropy',metrics=['accuracy'])\n",
    "\n",
    "model.fit(train_datagenerator,epochs=10,validation_data=test_datagenerator)"
   ]
  },
  {
   "cell_type": "code",
   "execution_count": 30,
   "id": "4a672632-19fb-4f51-8d32-6d96dab82310",
   "metadata": {},
   "outputs": [
    {
     "data": {
      "text/html": [
       "<pre style=\"white-space:pre;overflow-x:auto;line-height:normal;font-family:Menlo,'DejaVu Sans Mono',consolas,'Courier New',monospace\"><span style=\"font-weight: bold\">Model: \"sequential_2\"</span>\n",
       "</pre>\n"
      ],
      "text/plain": [
       "\u001b[1mModel: \"sequential_2\"\u001b[0m\n"
      ]
     },
     "metadata": {},
     "output_type": "display_data"
    },
    {
     "data": {
      "text/html": [
       "<pre style=\"white-space:pre;overflow-x:auto;line-height:normal;font-family:Menlo,'DejaVu Sans Mono',consolas,'Courier New',monospace\">┏━━━━━━━━━━━━━━━━━━━━━━━━━━━━━━━━━━━━━━┳━━━━━━━━━━━━━━━━━━━━━━━━━━━━━┳━━━━━━━━━━━━━━━━━┓\n",
       "┃<span style=\"font-weight: bold\"> Layer (type)                         </span>┃<span style=\"font-weight: bold\"> Output Shape                </span>┃<span style=\"font-weight: bold\">         Param # </span>┃\n",
       "┡━━━━━━━━━━━━━━━━━━━━━━━━━━━━━━━━━━━━━━╇━━━━━━━━━━━━━━━━━━━━━━━━━━━━━╇━━━━━━━━━━━━━━━━━┩\n",
       "│ vgg16 (<span style=\"color: #0087ff; text-decoration-color: #0087ff\">Functional</span>)                   │ (<span style=\"color: #00d7ff; text-decoration-color: #00d7ff\">None</span>, <span style=\"color: #00af00; text-decoration-color: #00af00\">5</span>, <span style=\"color: #00af00; text-decoration-color: #00af00\">5</span>, <span style=\"color: #00af00; text-decoration-color: #00af00\">512</span>)           │      <span style=\"color: #00af00; text-decoration-color: #00af00\">14,714,688</span> │\n",
       "├──────────────────────────────────────┼─────────────────────────────┼─────────────────┤\n",
       "│ flatten_2 (<span style=\"color: #0087ff; text-decoration-color: #0087ff\">Flatten</span>)                  │ (<span style=\"color: #00d7ff; text-decoration-color: #00d7ff\">None</span>, <span style=\"color: #00af00; text-decoration-color: #00af00\">12800</span>)               │               <span style=\"color: #00af00; text-decoration-color: #00af00\">0</span> │\n",
       "├──────────────────────────────────────┼─────────────────────────────┼─────────────────┤\n",
       "│ dense_4 (<span style=\"color: #0087ff; text-decoration-color: #0087ff\">Dense</span>)                      │ (<span style=\"color: #00d7ff; text-decoration-color: #00d7ff\">None</span>, <span style=\"color: #00af00; text-decoration-color: #00af00\">1024</span>)                │      <span style=\"color: #00af00; text-decoration-color: #00af00\">13,108,224</span> │\n",
       "├──────────────────────────────────────┼─────────────────────────────┼─────────────────┤\n",
       "│ dense_5 (<span style=\"color: #0087ff; text-decoration-color: #0087ff\">Dense</span>)                      │ (<span style=\"color: #00d7ff; text-decoration-color: #00d7ff\">None</span>, <span style=\"color: #00af00; text-decoration-color: #00af00\">1</span>)                   │           <span style=\"color: #00af00; text-decoration-color: #00af00\">1,025</span> │\n",
       "└──────────────────────────────────────┴─────────────────────────────┴─────────────────┘\n",
       "</pre>\n"
      ],
      "text/plain": [
       "┏━━━━━━━━━━━━━━━━━━━━━━━━━━━━━━━━━━━━━━┳━━━━━━━━━━━━━━━━━━━━━━━━━━━━━┳━━━━━━━━━━━━━━━━━┓\n",
       "┃\u001b[1m \u001b[0m\u001b[1mLayer (type)                        \u001b[0m\u001b[1m \u001b[0m┃\u001b[1m \u001b[0m\u001b[1mOutput Shape               \u001b[0m\u001b[1m \u001b[0m┃\u001b[1m \u001b[0m\u001b[1m        Param #\u001b[0m\u001b[1m \u001b[0m┃\n",
       "┡━━━━━━━━━━━━━━━━━━━━━━━━━━━━━━━━━━━━━━╇━━━━━━━━━━━━━━━━━━━━━━━━━━━━━╇━━━━━━━━━━━━━━━━━┩\n",
       "│ vgg16 (\u001b[38;5;33mFunctional\u001b[0m)                   │ (\u001b[38;5;45mNone\u001b[0m, \u001b[38;5;34m5\u001b[0m, \u001b[38;5;34m5\u001b[0m, \u001b[38;5;34m512\u001b[0m)           │      \u001b[38;5;34m14,714,688\u001b[0m │\n",
       "├──────────────────────────────────────┼─────────────────────────────┼─────────────────┤\n",
       "│ flatten_2 (\u001b[38;5;33mFlatten\u001b[0m)                  │ (\u001b[38;5;45mNone\u001b[0m, \u001b[38;5;34m12800\u001b[0m)               │               \u001b[38;5;34m0\u001b[0m │\n",
       "├──────────────────────────────────────┼─────────────────────────────┼─────────────────┤\n",
       "│ dense_4 (\u001b[38;5;33mDense\u001b[0m)                      │ (\u001b[38;5;45mNone\u001b[0m, \u001b[38;5;34m1024\u001b[0m)                │      \u001b[38;5;34m13,108,224\u001b[0m │\n",
       "├──────────────────────────────────────┼─────────────────────────────┼─────────────────┤\n",
       "│ dense_5 (\u001b[38;5;33mDense\u001b[0m)                      │ (\u001b[38;5;45mNone\u001b[0m, \u001b[38;5;34m1\u001b[0m)                   │           \u001b[38;5;34m1,025\u001b[0m │\n",
       "└──────────────────────────────────────┴─────────────────────────────┴─────────────────┘\n"
      ]
     },
     "metadata": {},
     "output_type": "display_data"
    },
    {
     "data": {
      "text/html": [
       "<pre style=\"white-space:pre;overflow-x:auto;line-height:normal;font-family:Menlo,'DejaVu Sans Mono',consolas,'Courier New',monospace\"><span style=\"font-weight: bold\"> Total params: </span><span style=\"color: #00af00; text-decoration-color: #00af00\">54,042,437</span> (206.16 MB)\n",
       "</pre>\n"
      ],
      "text/plain": [
       "\u001b[1m Total params: \u001b[0m\u001b[38;5;34m54,042,437\u001b[0m (206.16 MB)\n"
      ]
     },
     "metadata": {},
     "output_type": "display_data"
    },
    {
     "data": {
      "text/html": [
       "<pre style=\"white-space:pre;overflow-x:auto;line-height:normal;font-family:Menlo,'DejaVu Sans Mono',consolas,'Courier New',monospace\"><span style=\"font-weight: bold\"> Trainable params: </span><span style=\"color: #00af00; text-decoration-color: #00af00\">13,109,249</span> (50.01 MB)\n",
       "</pre>\n"
      ],
      "text/plain": [
       "\u001b[1m Trainable params: \u001b[0m\u001b[38;5;34m13,109,249\u001b[0m (50.01 MB)\n"
      ]
     },
     "metadata": {},
     "output_type": "display_data"
    },
    {
     "data": {
      "text/html": [
       "<pre style=\"white-space:pre;overflow-x:auto;line-height:normal;font-family:Menlo,'DejaVu Sans Mono',consolas,'Courier New',monospace\"><span style=\"font-weight: bold\"> Non-trainable params: </span><span style=\"color: #00af00; text-decoration-color: #00af00\">14,714,688</span> (56.13 MB)\n",
       "</pre>\n"
      ],
      "text/plain": [
       "\u001b[1m Non-trainable params: \u001b[0m\u001b[38;5;34m14,714,688\u001b[0m (56.13 MB)\n"
      ]
     },
     "metadata": {},
     "output_type": "display_data"
    },
    {
     "data": {
      "text/html": [
       "<pre style=\"white-space:pre;overflow-x:auto;line-height:normal;font-family:Menlo,'DejaVu Sans Mono',consolas,'Courier New',monospace\"><span style=\"font-weight: bold\"> Optimizer params: </span><span style=\"color: #00af00; text-decoration-color: #00af00\">26,218,500</span> (100.02 MB)\n",
       "</pre>\n"
      ],
      "text/plain": [
       "\u001b[1m Optimizer params: \u001b[0m\u001b[38;5;34m26,218,500\u001b[0m (100.02 MB)\n"
      ]
     },
     "metadata": {},
     "output_type": "display_data"
    }
   ],
   "source": [
    "model.summary()"
   ]
  },
  {
   "cell_type": "code",
   "execution_count": 1,
   "id": "5fecea68-1b48-45ce-b9c2-eff7aa52f911",
   "metadata": {},
   "outputs": [],
   "source": [
    "#AutoKeras AutoML gibi "
   ]
  },
  {
   "cell_type": "code",
   "execution_count": 3,
   "id": "9f7cd682-e58c-4e1d-a2e2-dab0b053dccd",
   "metadata": {},
   "outputs": [],
   "source": [
    "from tensorflow.keras.applications.resnet50 import ResNet50"
   ]
  },
  {
   "cell_type": "code",
   "execution_count": 5,
   "id": "bac985c9-6cd6-4c6c-818b-61a9ef007fc5",
   "metadata": {},
   "outputs": [],
   "source": [
    "from tensorflow.keras.preprocessing import image"
   ]
  },
  {
   "cell_type": "code",
   "execution_count": 9,
   "id": "8ac9507c-b152-4a9f-8165-72b79eebe75c",
   "metadata": {},
   "outputs": [],
   "source": [
    "from tensorflow.keras.applications.resnet50 import preprocess_input, decode_predictions"
   ]
  },
  {
   "cell_type": "code",
   "execution_count": 11,
   "id": "1f6c0596-1dfb-414f-8d7c-60af60d36e0f",
   "metadata": {},
   "outputs": [],
   "source": [
    "import numpy as np"
   ]
  },
  {
   "cell_type": "code",
   "execution_count": 23,
   "id": "f6a38611-6cfd-414f-bd92-37a13f23df16",
   "metadata": {},
   "outputs": [
    {
     "data": {
      "image/jpeg": "[encoded data removed]",
      "text/plain": [
       "<IPython.core.display.Image object>"
      ]
     },
     "execution_count": 23,
     "metadata": {},
     "output_type": "execute_result"
    }
   ],
   "source": [
    "from IPython.display import Image\n",
    "Image('savasucagi.jpg')"
   ]
  },
  {
   "cell_type": "code",
   "execution_count": 25,
   "id": "0cb9d2fa-952f-46a9-92c5-e1d250d85274",
   "metadata": {},
   "outputs": [],
   "source": [
    "img=image.load_img('savasucagi.jpg',target_size=(224,224))\n",
    "img=image.img_to_array(img)\n",
    "img=np.expand_dims(img,axis=0)\n",
    "img=preprocess_input(img)"
   ]
  },
  {
   "cell_type": "code",
   "execution_count": 27,
   "id": "f43f7aaa-5408-43a7-ab2a-7dbc49e89f59",
   "metadata": {},
   "outputs": [],
   "source": [
    "model=ResNet50(weights='imagenet')"
   ]
  },
  {
   "cell_type": "code",
   "execution_count": 29,
   "id": "aab7cbe8-f71d-4ea2-951b-2497ffaac3d6",
   "metadata": {},
   "outputs": [
    {
     "name": "stdout",
     "output_type": "stream",
     "text": [
      "\u001b[1m1/1\u001b[0m \u001b[32m━━━━━━━━━━━━━━━━━━━━\u001b[0m\u001b[37m\u001b[0m \u001b[1m4s\u001b[0m 4s/step\n"
     ]
    }
   ],
   "source": [
    "pred=model.predict(img)"
   ]
  },
  {
   "cell_type": "code",
   "execution_count": 30,
   "id": "56204ada-653c-4c56-907b-54d8fb58fb9e",
   "metadata": {},
   "outputs": [
    {
     "name": "stdout",
     "output_type": "stream",
     "text": [
      "Downloading data from https://storage.googleapis.com/download.tensorflow.org/data/imagenet_class_index.json\n",
      "\u001b[1m35363/35363\u001b[0m \u001b[32m━━━━━━━━━━━━━━━━━━━━\u001b[0m\u001b[37m\u001b[0m \u001b[1m0s\u001b[0m 0us/step\n"
     ]
    },
    {
     "data": {
      "text/plain": [
       "[[('n04552348', 'warplane', 0.8522521)]]"
      ]
     },
     "execution_count": 30,
     "metadata": {},
     "output_type": "execute_result"
    }
   ],
   "source": [
    "decode_predictions(pred, top=1)"
   ]
  },
  {
   "cell_type": "code",
   "execution_count": 19,
   "id": "0ef555a5-2022-45d7-b063-3b8408a0ad2c",
   "metadata": {},
   "outputs": [],
   "source": [
    "# CI/CD Continuous Integration / Continuous Development"
   ]
  },
  {
   "cell_type": "code",
   "execution_count": null,
   "id": "e6f2404c-60c8-4695-a11e-4a7072a0b2e4",
   "metadata": {},
   "outputs": [],
   "source": []
  }
 ],
 "metadata": {
  "kernelspec": {
   "display_name": "Python 3 (ipykernel)",
   "language": "python",
   "name": "python3"
  },
  "language_info": {
   "codemirror_mode": {
    "name": "ipython",
    "version": 3
   },
   "file_extension": ".py",
   "mimetype": "text/x-python",
   "name": "python",
   "nbconvert_exporter": "python",
   "pygments_lexer": "ipython3",
   "version": "3.12.4"
  }
 },
 "nbformat": 4,
 "nbformat_minor": 5
}
