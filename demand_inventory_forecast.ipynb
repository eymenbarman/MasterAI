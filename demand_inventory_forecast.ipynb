{
  "nbformat": 4,
  "nbformat_minor": 0,
  "metadata": {
    "colab": {
      "provenance": []
    },
    "kernelspec": {
      "name": "python3",
      "display_name": "Python 3"
    },
    "language_info": {
      "name": "python"
    }
  },
  "cells": [
    {
      "cell_type": "code",
      "execution_count": null,
      "metadata": {
        "colab": {
          "base_uri": "https://localhost:8080/"
        },
        "id": "SQwvzjf2Pifr",
        "outputId": "0a7796a5-1f3c-4c04-e2a6-f32b57da5661"
      },
      "outputs": [
        {
          "output_type": "stream",
          "name": "stdout",
          "text": [
            "   Unnamed: 0        Date Product_ID  Demand  Inventory\n",
            "0           0  2023-06-01         P1      51       5500\n",
            "1           1  2023-06-02         P1     141       5449\n",
            "2           2  2023-06-03         P1     172       5308\n",
            "3           3  2023-06-04         P1      91       5136\n",
            "4           4  2023-06-05         P1     198       5045\n",
            "Index(['Unnamed: 0', 'Date', 'Product_ID', 'Demand', 'Inventory'], dtype='object')\n",
            "<class 'pandas.core.frame.DataFrame'>\n",
            "RangeIndex: 62 entries, 0 to 61\n",
            "Data columns (total 5 columns):\n",
            " #   Column      Non-Null Count  Dtype \n",
            "---  ------      --------------  ----- \n",
            " 0   Unnamed: 0  62 non-null     int64 \n",
            " 1   Date        62 non-null     object\n",
            " 2   Product_ID  62 non-null     object\n",
            " 3   Demand      62 non-null     int64 \n",
            " 4   Inventory   62 non-null     int64 \n",
            "dtypes: int64(3), object(2)\n",
            "memory usage: 2.6+ KB\n",
            "None\n"
          ]
        }
      ],
      "source": [
        "import pandas as pd\n",
        "\n",
        "# Dosyayı oku\n",
        "df = pd.read_csv(\"demand_inventory.csv\")\n",
        "\n",
        "# İlk 5 satıra göz at\n",
        "print(df.head())\n",
        "print(df.columns)\n",
        "print(df.info())\n"
      ]
    },
    {
      "cell_type": "code",
      "source": [
        "import pandas as pd\n",
        "import matplotlib.pyplot as plt\n",
        "import seaborn as sns\n",
        "from sklearn.linear_model import LinearRegression\n",
        "from sklearn.metrics import mean_squared_error\n",
        "from sklearn.model_selection import train_test_split\n",
        "import pickle\n"
      ],
      "metadata": {
        "id": "HGwmwbUYPrvZ"
      },
      "execution_count": null,
      "outputs": []
    },
    {
      "cell_type": "code",
      "source": [
        "df['Date'] = pd.to_datetime(df['Date'])\n",
        "df['Day'] = df['Date'].dt.day\n",
        "df['Month'] = df['Date'].dt.month\n",
        "df['Weekday'] = df['Date'].dt.weekday\n"
      ],
      "metadata": {
        "id": "8Df7xzWbcklz"
      },
      "execution_count": null,
      "outputs": []
    },
    {
      "cell_type": "code",
      "source": [
        "X = df[['Day', 'Month', 'Weekday', 'Inventory']]\n",
        "y = df['Demand']\n"
      ],
      "metadata": {
        "id": "UDdNAZpicmTe"
      },
      "execution_count": null,
      "outputs": []
    },
    {
      "cell_type": "code",
      "source": [
        "X_train, X_test, y_train, y_test = train_test_split(X, y, test_size=0.2, random_state=42)\n",
        "\n",
        "model = LinearRegression()\n",
        "model.fit(X_train, y_train)\n",
        "\n",
        "y_pred = model.predict(X_test)\n",
        "\n"
      ],
      "metadata": {
        "id": "AEbo3OiVcn8s"
      },
      "execution_count": null,
      "outputs": []
    },
    {
      "cell_type": "code",
      "source": [
        "with open(\"demand_forecast_model.pkl\", \"wb\") as f:\n",
        "    pickle.dump(model, f)\n"
      ],
      "metadata": {
        "id": "DH_mXJbJcpkH"
      },
      "execution_count": null,
      "outputs": []
    },
    {
      "cell_type": "code",
      "source": [
        "sample = pd.DataFrame({\n",
        "    'Day': [15],\n",
        "    'Month': [6],\n",
        "    'Weekday': [3],\n",
        "    'Inventory': [5000]\n",
        "})\n",
        "\n",
        "print(\"Tahmini Talep:\", model.predict(sample)[0])\n"
      ],
      "metadata": {
        "colab": {
          "base_uri": "https://localhost:8080/"
        },
        "id": "Ql1bITCacs1X",
        "outputId": "470eac37-e1ec-4dc7-888a-6555399409be"
      },
      "execution_count": null,
      "outputs": [
        {
          "output_type": "stream",
          "name": "stdout",
          "text": [
            "Tahmini Talep: 137.11453738513484\n"
          ]
        }
      ]
    },
    {
      "cell_type": "code",
      "source": [],
      "metadata": {
        "id": "rkaPTqobcuV8"
      },
      "execution_count": null,
      "outputs": []
    }
  ]
}