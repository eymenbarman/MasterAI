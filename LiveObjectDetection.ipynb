{
 "cells": [
  {
   "cell_type": "code",
   "execution_count": 3,
   "id": "c5c5ec06-83f7-42a1-a35a-6630b4efadf5",
   "metadata": {},
   "outputs": [],
   "source": [
    "#pip install cvlib"
   ]
  },
  {
   "cell_type": "markdown",
   "id": "e1ddba80-02e1-4160-a8f7-8902a1c20a46",
   "metadata": {},
   "source": [
    "### Görüntü tanıma ve nesne tanıma programı"
   ]
  },
  {
   "cell_type": "code",
   "execution_count": 1,
   "id": "1f73cc48-ce76-4909-b09b-d4df5a10d0a6",
   "metadata": {},
   "outputs": [],
   "source": [
    "import cv2\n",
    "from cvlib.object_detection import draw_bbox\n",
    "import cvlib as cv\n",
    "\n",
    "webcam=cv2.VideoCapture(0)  # 0 pc nin ilk kamerasını alır \n",
    "while webcam.isOpened():\n",
    "    ret,frame=webcam.read()\n",
    "    bbox,label,conf=cv.detect_common_objects(frame) \n",
    "    out=draw_bbox(frame,bbox,label,conf)\n",
    "    cv2.imshow('gercek zamanli nesne tanima',out)\n",
    "    if cv2.waitKey(1) & 0XFF==ord('q'):\n",
    "        break\n",
    "webcam.release()\n",
    "cv2.destroyAllWindows()\n"
   ]
  },
  {
   "cell_type": "code",
   "execution_count": null,
   "id": "20fc9c9f-769f-4874-863f-eb457c9b80ba",
   "metadata": {},
   "outputs": [],
   "source": []
  }
 ],
 "metadata": {
  "kernelspec": {
   "display_name": "Python 3 (ipykernel)",
   "language": "python",
   "name": "python3"
  },
  "language_info": {
   "codemirror_mode": {
    "name": "ipython",
    "version": 3
   },
   "file_extension": ".py",
   "mimetype": "text/x-python",
   "name": "python",
   "nbconvert_exporter": "python",
   "pygments_lexer": "ipython3",
   "version": "3.12.4"
  }
 },
 "nbformat": 4,
 "nbformat_minor": 5
}
