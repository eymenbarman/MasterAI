{
  "nbformat": 4,
  "nbformat_minor": 0,
  "metadata": {
    "colab": {
      "provenance": []
    },
    "kernelspec": {
      "name": "python3",
      "display_name": "Python 3"
    },
    "language_info": {
      "name": "python"
    }
  },
  "cells": [
    {
      "cell_type": "code",
      "execution_count": null,
      "metadata": {
        "colab": {
          "base_uri": "https://localhost:8080/"
        },
        "id": "9iE_6na8hKc0",
        "outputId": "2004d693-bbf8-48ba-fa2f-a19aa609648a"
      },
      "outputs": [
        {
          "output_type": "stream",
          "name": "stdout",
          "text": [
            "                  Date  Instagram reach\n",
            "0  2022-04-01T00:00:00             7620\n",
            "1  2022-04-02T00:00:00            12859\n",
            "2  2022-04-03T00:00:00            16008\n",
            "3  2022-04-04T00:00:00            24349\n",
            "4  2022-04-05T00:00:00            20532\n",
            "Index(['Date', 'Instagram reach'], dtype='object')\n"
          ]
        }
      ],
      "source": [
        "import pandas as pd\n",
        "\n",
        "df = pd.read_csv(\"Instagram-Reach.csv\")\n",
        "print(df.head())\n",
        "print(df.columns)\n",
        "\n"
      ]
    },
    {
      "cell_type": "code",
      "source": [
        "df[\"Date\"] = pd.to_datetime(df[\"Date\"])\n",
        "df[\"Day\"] = df[\"Date\"].dt.day\n",
        "df[\"Month\"] = df[\"Date\"].dt.month\n",
        "df[\"Weekday\"] = df[\"Date\"].dt.weekday  # 0: Pazartesi, 6: Pazar\n"
      ],
      "metadata": {
        "id": "L-7l9gA0iFJ5"
      },
      "execution_count": null,
      "outputs": []
    },
    {
      "cell_type": "code",
      "source": [
        "X = df[[\"Day\", \"Month\", \"Weekday\"]]\n",
        "y = df[\"Instagram reach\"]"
      ],
      "metadata": {
        "id": "nzz7ZMnoibus"
      },
      "execution_count": null,
      "outputs": []
    },
    {
      "cell_type": "code",
      "source": [
        "from sklearn.model_selection import train_test_split\n",
        "from sklearn.ensemble import RandomForestRegressor\n",
        "from sklearn.metrics import mean_squared_error\n",
        "import pickle\n",
        "\n",
        "# Train-test split\n",
        "X_train, X_test, y_train, y_test = train_test_split(X, y, test_size=0.2, random_state=42)\n",
        "\n",
        "# Model\n",
        "model = RandomForestRegressor()\n",
        "model.fit(X_train, y_train)\n",
        "\n",
        "# Tahmin ve skor\n",
        "y_pred = model.predict(X_test)\n",
        "\n",
        "\n",
        "# Kaydet\n",
        "with open(\"insta_reach_model.pkl\", \"wb\") as f:\n",
        "    pickle.dump(model, f)\n"
      ],
      "metadata": {
        "id": "mQfAl37mid0A"
      },
      "execution_count": null,
      "outputs": []
    },
    {
      "cell_type": "code",
      "source": [],
      "metadata": {
        "id": "48Hw2B-yifoX"
      },
      "execution_count": null,
      "outputs": []
    }
  ]
}