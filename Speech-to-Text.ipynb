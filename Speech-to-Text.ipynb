{
 "cells": [
  {
   "cell_type": "markdown",
   "id": "0f99442e-760b-4e5a-96fc-7b0ed4d1fa0d",
   "metadata": {},
   "source": [
    "# Speech to Text"
   ]
  },
  {
   "cell_type": "code",
   "execution_count": 6,
   "id": "fa4548b8-b9d6-49a0-a268-90d5d0364acb",
   "metadata": {},
   "outputs": [],
   "source": [
    "#!pip install pytube"
   ]
  },
  {
   "cell_type": "code",
   "execution_count": 8,
   "id": "94ffa536-4487-4a0e-9177-8685f89c8730",
   "metadata": {},
   "outputs": [],
   "source": [
    "import pytube"
   ]
  },
  {
   "cell_type": "code",
   "execution_count": 36,
   "id": "60de99b2-f8be-4d3a-9603-a1ca136d39d2",
   "metadata": {},
   "outputs": [],
   "source": [
    "video='https://www.youtube.com/watch?v=AkvJgfu8QuI'"
   ]
  },
  {
   "cell_type": "code",
   "execution_count": 38,
   "id": "cd8441e5-9a09-4502-b857-cbb74cbeae8e",
   "metadata": {},
   "outputs": [],
   "source": [
    "data=pytube.YouTube(video)"
   ]
  },
  {
   "cell_type": "code",
   "execution_count": 42,
   "id": "480eed35-02fc-40a5-9781-2d4634893ed8",
   "metadata": {},
   "outputs": [],
   "source": [
    "audio=data.streams.get_audio_only()"
   ]
  },
  {
   "cell_type": "code",
   "execution_count": null,
   "id": "d10ada66-b4e7-44b4-8cb9-3b630e59cd35",
   "metadata": {},
   "outputs": [],
   "source": [
    "audio.download()"
   ]
  },
  {
   "cell_type": "code",
   "execution_count": null,
   "id": "84db8172-125e-42a9-aec5-8bd10979abf9",
   "metadata": {},
   "outputs": [],
   "source": [
    "#!pip install git+https://github.com/openai/whisper.git -q"
   ]
  },
  {
   "cell_type": "code",
   "execution_count": null,
   "id": "f9ad92a5-3242-4a87-94fd-407f293bcf4a",
   "metadata": {},
   "outputs": [],
   "source": [
    "import whisper"
   ]
  },
  {
   "cell_type": "code",
   "execution_count": null,
   "id": "3a81d82e-cdd1-43c0-9cc2-13e97c351626",
   "metadata": {},
   "outputs": [],
   "source": [
    "model=whisper.load_model()"
   ]
  },
  {
   "cell_type": "code",
   "execution_count": null,
   "id": "03edd433-4506-4be5-be7f-225b7995a880",
   "metadata": {},
   "outputs": [],
   "source": [
    "text=whisper.load_model('large')"
   ]
  },
  {
   "cell_type": "code",
   "execution_count": null,
   "id": "b19b39c9-42cd-4b63-b78d-0c91b725b98c",
   "metadata": {},
   "outputs": [],
   "source": [
    "text=model.transcribe('liam.mp4')"
   ]
  },
  {
   "cell_type": "code",
   "execution_count": null,
   "id": "94176401-d341-471b-91fa-e8cd6c65a52b",
   "metadata": {},
   "outputs": [],
   "source": []
  }
 ],
 "metadata": {
  "kernelspec": {
   "display_name": "Python 3 (ipykernel)",
   "language": "python",
   "name": "python3"
  },
  "language_info": {
   "codemirror_mode": {
    "name": "ipython",
    "version": 3
   },
   "file_extension": ".py",
   "mimetype": "text/x-python",
   "name": "python",
   "nbconvert_exporter": "python",
   "pygments_lexer": "ipython3",
   "version": "3.12.4"
  }
 },
 "nbformat": 4,
 "nbformat_minor": 5
}
