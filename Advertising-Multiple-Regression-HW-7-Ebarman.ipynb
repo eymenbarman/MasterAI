{
 "cells": [
  {
   "cell_type": "markdown",
   "id": "79f02a6a-8555-48d3-9424-9bb169aa0ba3",
   "metadata": {},
   "source": [
    "### In this project, we wiil see how ınvestements on diffeerent channels effect the increase on sales. There are 3 categories for investment as Radio,Newspaper, and TV "
   ]
  },
  {
   "cell_type": "markdown",
   "id": "e3ac8732-81e2-4a9d-8525-d4d36864f3f7",
   "metadata": {},
   "source": [
    "<img src=\"https://th.bing.com/th/id/R.371bbd044da16c02526a8884bf5124b8?rik=cLOfBrNnz16TBw&riu=http%3a%2f%2fschool.mangoanimate.com%2fwp-content%2fuploads%2f2020%2f10%2fAnimated-Ads-Maker-Mango-Animation-Maker.png&ehk=237kBfRfwpXi7%2fCdZjpeRe3685K%2fAWlxuFapT2czEvA%3d&risl=&pid=ImgRaw&r=0\">"
   ]
  },
  {
   "cell_type": "markdown",
   "id": "da688d69-5a35-419c-9018-8595b3787d75",
   "metadata": {},
   "source": [
    "### Install and import packages"
   ]
  },
  {
   "cell_type": "code",
   "execution_count": 5,
   "id": "b5a319d5-0d7e-4122-81e6-3ae2b0ec5f77",
   "metadata": {},
   "outputs": [],
   "source": [
    "import pandas as pd\n",
    "import numpy as np\n",
    "import matplotlib.pyplot as plt\n",
    "import seaborn as sns\n",
    "import warnings\n",
    "warnings.filterwarnings(\"ignore\")\n",
    "pd.set_option(\"display.max_columns\",100)\n",
    "\n",
    "from sklearn.linear_model import LinearRegression,SGDRegressor,Ridge,Lasso,ElasticNet\n",
    "from sklearn.neighbors import KNeighborsRegressor, RadiusNeighborsRegressor\n",
    "from sklearn.ensemble import GradientBoostingRegressor,AdaBoostRegressor\n",
    "from sklearn.tree import DecisionTreeRegressor, plot_tree, ExtraTreeRegressor\n",
    "#pip install xgboost\n",
    "from xgboost import XGBRegressor\n",
    "from sklearn.svm import SVR\n",
    "\n",
    "from sklearn.neural_network import MLPRegressor\n",
    "\n",
    "from sklearn.model_selection import train_test_split\n",
    "from sklearn.metrics import mean_squared_error,r2_score,mean_absolute_error\n",
    "\n",
    "from sklearn.preprocessing import StandardScaler"
   ]
  },
  {
   "cell_type": "code",
   "execution_count": 7,
   "id": "23e0daf1-b8ce-4b33-9228-94602f9f1d22",
   "metadata": {},
   "outputs": [],
   "source": [
    "df=pd.read_csv('advertising.csv')"
   ]
  },
  {
   "cell_type": "markdown",
   "id": "2c50196e-3c35-4c02-a24b-ac791c416055",
   "metadata": {},
   "source": [
    "## EDA - Exploratory DataAnalysis "
   ]
  },
  {
   "cell_type": "code",
   "execution_count": 10,
   "id": "bb8678a6-94ef-42b7-a240-caeaf9f394c1",
   "metadata": {},
   "outputs": [
    {
     "data": {
      "text/html": [
       "<div>\n",
       "<style scoped>\n",
       "    .dataframe tbody tr th:only-of-type {\n",
       "        vertical-align: middle;\n",
       "    }\n",
       "\n",
       "    .dataframe tbody tr th {\n",
       "        vertical-align: top;\n",
       "    }\n",
       "\n",
       "    .dataframe thead th {\n",
       "        text-align: right;\n",
       "    }\n",
       "</style>\n",
       "<table border=\"1\" class=\"dataframe\">\n",
       "  <thead>\n",
       "    <tr style=\"text-align: right;\">\n",
       "      <th></th>\n",
       "      <th>TV</th>\n",
       "      <th>Radio</th>\n",
       "      <th>Newspaper</th>\n",
       "      <th>Sales</th>\n",
       "    </tr>\n",
       "  </thead>\n",
       "  <tbody>\n",
       "    <tr>\n",
       "      <th>0</th>\n",
       "      <td>230.1</td>\n",
       "      <td>37.8</td>\n",
       "      <td>69.2</td>\n",
       "      <td>22.1</td>\n",
       "    </tr>\n",
       "    <tr>\n",
       "      <th>1</th>\n",
       "      <td>44.5</td>\n",
       "      <td>39.3</td>\n",
       "      <td>45.1</td>\n",
       "      <td>10.4</td>\n",
       "    </tr>\n",
       "    <tr>\n",
       "      <th>2</th>\n",
       "      <td>17.2</td>\n",
       "      <td>45.9</td>\n",
       "      <td>69.3</td>\n",
       "      <td>9.3</td>\n",
       "    </tr>\n",
       "    <tr>\n",
       "      <th>3</th>\n",
       "      <td>151.5</td>\n",
       "      <td>41.3</td>\n",
       "      <td>58.5</td>\n",
       "      <td>18.5</td>\n",
       "    </tr>\n",
       "    <tr>\n",
       "      <th>4</th>\n",
       "      <td>180.8</td>\n",
       "      <td>10.8</td>\n",
       "      <td>58.4</td>\n",
       "      <td>12.9</td>\n",
       "    </tr>\n",
       "  </tbody>\n",
       "</table>\n",
       "</div>"
      ],
      "text/plain": [
       "      TV  Radio  Newspaper  Sales\n",
       "0  230.1   37.8       69.2   22.1\n",
       "1   44.5   39.3       45.1   10.4\n",
       "2   17.2   45.9       69.3    9.3\n",
       "3  151.5   41.3       58.5   18.5\n",
       "4  180.8   10.8       58.4   12.9"
      ]
     },
     "execution_count": 10,
     "metadata": {},
     "output_type": "execute_result"
    }
   ],
   "source": [
    "df.head()"
   ]
  },
  {
   "cell_type": "code",
   "execution_count": 12,
   "id": "467927c1-6cc3-481a-ae3c-712831677e5b",
   "metadata": {},
   "outputs": [
    {
     "data": {
      "text/plain": [
       "(200, 4)"
      ]
     },
     "execution_count": 12,
     "metadata": {},
     "output_type": "execute_result"
    }
   ],
   "source": [
    "df.shape"
   ]
  },
  {
   "cell_type": "code",
   "execution_count": 16,
   "id": "9ab3e035-98e9-4968-84a0-cadf0ec668fa",
   "metadata": {},
   "outputs": [
    {
     "name": "stdout",
     "output_type": "stream",
     "text": [
      "<class 'pandas.core.frame.DataFrame'>\n",
      "RangeIndex: 200 entries, 0 to 199\n",
      "Data columns (total 4 columns):\n",
      " #   Column     Non-Null Count  Dtype  \n",
      "---  ------     --------------  -----  \n",
      " 0   TV         200 non-null    float64\n",
      " 1   Radio      200 non-null    float64\n",
      " 2   Newspaper  200 non-null    float64\n",
      " 3   Sales      200 non-null    float64\n",
      "dtypes: float64(4)\n",
      "memory usage: 6.4 KB\n"
     ]
    }
   ],
   "source": [
    "df.info()"
   ]
  },
  {
   "cell_type": "code",
   "execution_count": 18,
   "id": "950bea51-da52-4838-bb8d-e919714c2c9a",
   "metadata": {},
   "outputs": [
    {
     "data": {
      "text/html": [
       "<div>\n",
       "<style scoped>\n",
       "    .dataframe tbody tr th:only-of-type {\n",
       "        vertical-align: middle;\n",
       "    }\n",
       "\n",
       "    .dataframe tbody tr th {\n",
       "        vertical-align: top;\n",
       "    }\n",
       "\n",
       "    .dataframe thead th {\n",
       "        text-align: right;\n",
       "    }\n",
       "</style>\n",
       "<table border=\"1\" class=\"dataframe\">\n",
       "  <thead>\n",
       "    <tr style=\"text-align: right;\">\n",
       "      <th></th>\n",
       "      <th>TV</th>\n",
       "      <th>Radio</th>\n",
       "      <th>Newspaper</th>\n",
       "      <th>Sales</th>\n",
       "    </tr>\n",
       "  </thead>\n",
       "  <tbody>\n",
       "    <tr>\n",
       "      <th>36</th>\n",
       "      <td>266.9</td>\n",
       "      <td>43.8</td>\n",
       "      <td>5.0</td>\n",
       "      <td>25.4</td>\n",
       "    </tr>\n",
       "  </tbody>\n",
       "</table>\n",
       "</div>"
      ],
      "text/plain": [
       "       TV  Radio  Newspaper  Sales\n",
       "36  266.9   43.8        5.0   25.4"
      ]
     },
     "execution_count": 18,
     "metadata": {},
     "output_type": "execute_result"
    }
   ],
   "source": [
    "df.sample()"
   ]
  },
  {
   "cell_type": "code",
   "execution_count": 20,
   "id": "55319739-6ecb-4f9e-8d76-35cf0e7c79bd",
   "metadata": {},
   "outputs": [
    {
     "data": {
      "text/html": [
       "<div>\n",
       "<style scoped>\n",
       "    .dataframe tbody tr th:only-of-type {\n",
       "        vertical-align: middle;\n",
       "    }\n",
       "\n",
       "    .dataframe tbody tr th {\n",
       "        vertical-align: top;\n",
       "    }\n",
       "\n",
       "    .dataframe thead th {\n",
       "        text-align: right;\n",
       "    }\n",
       "</style>\n",
       "<table border=\"1\" class=\"dataframe\">\n",
       "  <thead>\n",
       "    <tr style=\"text-align: right;\">\n",
       "      <th></th>\n",
       "      <th>count</th>\n",
       "      <th>mean</th>\n",
       "      <th>std</th>\n",
       "      <th>min</th>\n",
       "      <th>25%</th>\n",
       "      <th>50%</th>\n",
       "      <th>75%</th>\n",
       "      <th>max</th>\n",
       "    </tr>\n",
       "  </thead>\n",
       "  <tbody>\n",
       "    <tr>\n",
       "      <th>TV</th>\n",
       "      <td>200.0</td>\n",
       "      <td>147.0425</td>\n",
       "      <td>85.854236</td>\n",
       "      <td>0.7</td>\n",
       "      <td>74.375</td>\n",
       "      <td>149.75</td>\n",
       "      <td>218.825</td>\n",
       "      <td>296.4</td>\n",
       "    </tr>\n",
       "    <tr>\n",
       "      <th>Radio</th>\n",
       "      <td>200.0</td>\n",
       "      <td>23.2640</td>\n",
       "      <td>14.846809</td>\n",
       "      <td>0.0</td>\n",
       "      <td>9.975</td>\n",
       "      <td>22.90</td>\n",
       "      <td>36.525</td>\n",
       "      <td>49.6</td>\n",
       "    </tr>\n",
       "    <tr>\n",
       "      <th>Newspaper</th>\n",
       "      <td>200.0</td>\n",
       "      <td>30.5540</td>\n",
       "      <td>21.778621</td>\n",
       "      <td>0.3</td>\n",
       "      <td>12.750</td>\n",
       "      <td>25.75</td>\n",
       "      <td>45.100</td>\n",
       "      <td>114.0</td>\n",
       "    </tr>\n",
       "    <tr>\n",
       "      <th>Sales</th>\n",
       "      <td>200.0</td>\n",
       "      <td>14.0225</td>\n",
       "      <td>5.217457</td>\n",
       "      <td>1.6</td>\n",
       "      <td>10.375</td>\n",
       "      <td>12.90</td>\n",
       "      <td>17.400</td>\n",
       "      <td>27.0</td>\n",
       "    </tr>\n",
       "  </tbody>\n",
       "</table>\n",
       "</div>"
      ],
      "text/plain": [
       "           count      mean        std  min     25%     50%      75%    max\n",
       "TV         200.0  147.0425  85.854236  0.7  74.375  149.75  218.825  296.4\n",
       "Radio      200.0   23.2640  14.846809  0.0   9.975   22.90   36.525   49.6\n",
       "Newspaper  200.0   30.5540  21.778621  0.3  12.750   25.75   45.100  114.0\n",
       "Sales      200.0   14.0225   5.217457  1.6  10.375   12.90   17.400   27.0"
      ]
     },
     "execution_count": 20,
     "metadata": {},
     "output_type": "execute_result"
    }
   ],
   "source": [
    "df.describe().T"
   ]
  },
  {
   "cell_type": "code",
   "execution_count": 22,
   "id": "b191a74d-69ec-449c-8a10-96518ee63e60",
   "metadata": {},
   "outputs": [
    {
     "data": {
      "text/html": [
       "<div>\n",
       "<style scoped>\n",
       "    .dataframe tbody tr th:only-of-type {\n",
       "        vertical-align: middle;\n",
       "    }\n",
       "\n",
       "    .dataframe tbody tr th {\n",
       "        vertical-align: top;\n",
       "    }\n",
       "\n",
       "    .dataframe thead th {\n",
       "        text-align: right;\n",
       "    }\n",
       "</style>\n",
       "<table border=\"1\" class=\"dataframe\">\n",
       "  <thead>\n",
       "    <tr style=\"text-align: right;\">\n",
       "      <th></th>\n",
       "      <th>TV</th>\n",
       "      <th>Radio</th>\n",
       "      <th>Newspaper</th>\n",
       "      <th>Sales</th>\n",
       "    </tr>\n",
       "  </thead>\n",
       "  <tbody>\n",
       "    <tr>\n",
       "      <th>TV</th>\n",
       "      <td>1.000000</td>\n",
       "      <td>0.054809</td>\n",
       "      <td>0.056648</td>\n",
       "      <td>0.782224</td>\n",
       "    </tr>\n",
       "    <tr>\n",
       "      <th>Radio</th>\n",
       "      <td>0.054809</td>\n",
       "      <td>1.000000</td>\n",
       "      <td>0.354104</td>\n",
       "      <td>0.576223</td>\n",
       "    </tr>\n",
       "    <tr>\n",
       "      <th>Newspaper</th>\n",
       "      <td>0.056648</td>\n",
       "      <td>0.354104</td>\n",
       "      <td>1.000000</td>\n",
       "      <td>0.228299</td>\n",
       "    </tr>\n",
       "    <tr>\n",
       "      <th>Sales</th>\n",
       "      <td>0.782224</td>\n",
       "      <td>0.576223</td>\n",
       "      <td>0.228299</td>\n",
       "      <td>1.000000</td>\n",
       "    </tr>\n",
       "  </tbody>\n",
       "</table>\n",
       "</div>"
      ],
      "text/plain": [
       "                 TV     Radio  Newspaper     Sales\n",
       "TV         1.000000  0.054809   0.056648  0.782224\n",
       "Radio      0.054809  1.000000   0.354104  0.576223\n",
       "Newspaper  0.056648  0.354104   1.000000  0.228299\n",
       "Sales      0.782224  0.576223   0.228299  1.000000"
      ]
     },
     "execution_count": 22,
     "metadata": {},
     "output_type": "execute_result"
    }
   ],
   "source": [
    "df.corr(numeric_only=True)"
   ]
  },
  {
   "cell_type": "code",
   "execution_count": 24,
   "id": "b6cf23ed-1640-47cb-8d49-853ff07b22da",
   "metadata": {},
   "outputs": [
    {
     "data": {
      "image/png": "[encoded data removed]",
      "text/plain": [
       "<Figure size 640x480 with 2 Axes>"
      ]
     },
     "metadata": {},
     "output_type": "display_data"
    }
   ],
   "source": [
    "sns.heatmap(df.corr(numeric_only=True),annot=True); #; TV has high effect at first glance"
   ]
  },
  {
   "cell_type": "code",
   "execution_count": 26,
   "id": "89fdf758-3d1a-4c39-b180-3f23510166ae",
   "metadata": {},
   "outputs": [
    {
     "data": {
      "text/plain": [
       "TV           0\n",
       "Radio        0\n",
       "Newspaper    0\n",
       "Sales        0\n",
       "dtype: int64"
      ]
     },
     "execution_count": 26,
     "metadata": {},
     "output_type": "execute_result"
    }
   ],
   "source": [
    "df.isnull().sum() # hangi sütunda kaç boş veri var"
   ]
  },
  {
   "cell_type": "code",
   "execution_count": 28,
   "id": "b8f1ddb6-5af2-41da-8d04-c9ab307a3d89",
   "metadata": {},
   "outputs": [
    {
     "data": {
      "image/png": "[encoded data removed]",
      "text/plain": [
       "<Figure size 640x480 with 1 Axes>"
      ]
     },
     "metadata": {},
     "output_type": "display_data"
    }
   ],
   "source": [
    "sns.scatterplot(x='Sales',y='TV', data=df);"
   ]
  },
  {
   "cell_type": "code",
   "execution_count": 30,
   "id": "f2527d42-2a19-4173-876a-ab5697d36430",
   "metadata": {},
   "outputs": [
    {
     "data": {
      "image/png": "[encoded data removed]",
      "text/plain": [
       "<Figure size 640x480 with 1 Axes>"
      ]
     },
     "metadata": {},
     "output_type": "display_data"
    }
   ],
   "source": [
    "sns.scatterplot(x='Sales',y='Radio', data=df);"
   ]
  },
  {
   "cell_type": "code",
   "execution_count": 32,
   "id": "458cb8e4-9f5b-4d2d-aa8f-015dbf465130",
   "metadata": {},
   "outputs": [
    {
     "data": {
      "image/png": "[encoded data removed]",
      "text/plain": [
       "<Figure size 640x480 with 1 Axes>"
      ]
     },
     "metadata": {},
     "output_type": "display_data"
    }
   ],
   "source": [
    "sns.scatterplot(x='Sales',y='Newspaper', data=df);"
   ]
  },
  {
   "cell_type": "markdown",
   "id": "4f04f069-c038-47fd-9593-804d99de75c6",
   "metadata": {},
   "source": [
    "### Observing p value"
   ]
  },
  {
   "cell_type": "code",
   "execution_count": 38,
   "id": "45361eee-1325-4dcc-aa32-a6b6bc6a4fd7",
   "metadata": {},
   "outputs": [],
   "source": [
    "from scipy.stats import ttest_ind"
   ]
  },
  {
   "cell_type": "code",
   "execution_count": 42,
   "id": "0218d169-bcce-4767-b6e9-4cc8a42f28d0",
   "metadata": {},
   "outputs": [],
   "source": [
    "#Ho = Sales ve TV yatırımı arasında bir bağ yok\n",
    "#Ha = Sales ve TV yatırımı arasında bir bağ var"
   ]
  },
  {
   "cell_type": "code",
   "execution_count": 48,
   "id": "fb49a997-56d1-45c8-ba79-62eb9a3bc497",
   "metadata": {},
   "outputs": [],
   "source": [
    "t,p=ttest_ind(df['TV'],df['Sales'])"
   ]
  },
  {
   "cell_type": "code",
   "execution_count": 50,
   "id": "42ea9a89-cae3-4b0b-a42f-98d436b6fe37",
   "metadata": {},
   "outputs": [
    {
     "data": {
      "text/plain": [
       "3.287531216460733e-70"
      ]
     },
     "execution_count": 50,
     "metadata": {},
     "output_type": "execute_result"
    }
   ],
   "source": [
    "p"
   ]
  },
  {
   "cell_type": "code",
   "execution_count": 52,
   "id": "b71df55a-8c14-45e0-b6e5-c4166ac7e1e0",
   "metadata": {},
   "outputs": [
    {
     "data": {
      "text/plain": [
       "21.87105520413898"
      ]
     },
     "execution_count": 52,
     "metadata": {},
     "output_type": "execute_result"
    }
   ],
   "source": [
    "t"
   ]
  },
  {
   "cell_type": "code",
   "execution_count": 54,
   "id": "e2191eb4-d50d-4180-94b4-fb72ec0dd22b",
   "metadata": {},
   "outputs": [
    {
     "data": {
      "image/png": "[encoded data removed]",
      "text/plain": [
       "<Figure size 640x480 with 1 Axes>"
      ]
     },
     "metadata": {},
     "output_type": "display_data"
    }
   ],
   "source": [
    "sns.histplot(x=df['Sales'],kde=True, color='red', bins=50);"
   ]
  },
  {
   "cell_type": "code",
   "execution_count": 56,
   "id": "f3c177d8-94cd-44a7-978f-646e233b6b07",
   "metadata": {},
   "outputs": [
    {
     "data": {
      "text/plain": [
       "<Axes: xlabel='Sales', ylabel='Density'>"
      ]
     },
     "execution_count": 56,
     "metadata": {},
     "output_type": "execute_result"
    },
    {
     "data": {
      "image/png": "[encoded data removed]",
      "text/plain": [
       "<Figure size 640x480 with 1 Axes>"
      ]
     },
     "metadata": {},
     "output_type": "display_data"
    }
   ],
   "source": [
    "sns.kdeplot(x=df['Sales'], fill=True,color='green')"
   ]
  },
  {
   "cell_type": "code",
   "execution_count": 58,
   "id": "5f273e67-a1ec-44cd-bc37-d0f830ccdbcb",
   "metadata": {},
   "outputs": [
    {
     "data": {
      "image/png": "[encoded data removed]",
      "text/plain": [
       "<Figure size 640x480 with 1 Axes>"
      ]
     },
     "metadata": {},
     "output_type": "display_data"
    }
   ],
   "source": [
    "sns.boxplot([df['Sales'], df['TV']]);"
   ]
  },
  {
   "cell_type": "markdown",
   "id": "1a945251-4aa9-4520-8c9f-47940b918c2c",
   "metadata": {},
   "source": [
    "## Feature Engineering"
   ]
  },
  {
   "cell_type": "code",
   "execution_count": 63,
   "id": "21c9149c-add3-4932-aacf-acd6be275b01",
   "metadata": {},
   "outputs": [
    {
     "data": {
      "text/html": [
       "<div>\n",
       "<style scoped>\n",
       "    .dataframe tbody tr th:only-of-type {\n",
       "        vertical-align: middle;\n",
       "    }\n",
       "\n",
       "    .dataframe tbody tr th {\n",
       "        vertical-align: top;\n",
       "    }\n",
       "\n",
       "    .dataframe thead th {\n",
       "        text-align: right;\n",
       "    }\n",
       "</style>\n",
       "<table border=\"1\" class=\"dataframe\">\n",
       "  <thead>\n",
       "    <tr style=\"text-align: right;\">\n",
       "      <th></th>\n",
       "      <th>TV</th>\n",
       "      <th>Radio</th>\n",
       "      <th>Newspaper</th>\n",
       "      <th>Sales</th>\n",
       "    </tr>\n",
       "  </thead>\n",
       "  <tbody>\n",
       "    <tr>\n",
       "      <th>TV</th>\n",
       "      <td>1.000000</td>\n",
       "      <td>0.054809</td>\n",
       "      <td>0.056648</td>\n",
       "      <td>0.782224</td>\n",
       "    </tr>\n",
       "    <tr>\n",
       "      <th>Radio</th>\n",
       "      <td>0.054809</td>\n",
       "      <td>1.000000</td>\n",
       "      <td>0.354104</td>\n",
       "      <td>0.576223</td>\n",
       "    </tr>\n",
       "    <tr>\n",
       "      <th>Newspaper</th>\n",
       "      <td>0.056648</td>\n",
       "      <td>0.354104</td>\n",
       "      <td>1.000000</td>\n",
       "      <td>0.228299</td>\n",
       "    </tr>\n",
       "    <tr>\n",
       "      <th>Sales</th>\n",
       "      <td>0.782224</td>\n",
       "      <td>0.576223</td>\n",
       "      <td>0.228299</td>\n",
       "      <td>1.000000</td>\n",
       "    </tr>\n",
       "  </tbody>\n",
       "</table>\n",
       "</div>"
      ],
      "text/plain": [
       "                 TV     Radio  Newspaper     Sales\n",
       "TV         1.000000  0.054809   0.056648  0.782224\n",
       "Radio      0.054809  1.000000   0.354104  0.576223\n",
       "Newspaper  0.056648  0.354104   1.000000  0.228299\n",
       "Sales      0.782224  0.576223   0.228299  1.000000"
      ]
     },
     "execution_count": 63,
     "metadata": {},
     "output_type": "execute_result"
    }
   ],
   "source": [
    "df.corr(numeric_only=True)"
   ]
  },
  {
   "cell_type": "code",
   "execution_count": 65,
   "id": "a435d4b0-402e-47b6-bff2-4f0caa83f41c",
   "metadata": {},
   "outputs": [
    {
     "data": {
      "text/plain": [
       "Sales        1.000000\n",
       "TV           0.782224\n",
       "Radio        0.576223\n",
       "Newspaper    0.228299\n",
       "Name: Sales, dtype: float64"
      ]
     },
     "execution_count": 65,
     "metadata": {},
     "output_type": "execute_result"
    }
   ],
   "source": [
    "abs(df.corr(numeric_only=True)['Sales'].sort_values(ascending=False)) #0.9'un üstünü(veri kendini tekrar ediyor olmasın diye) ve 0.2 altında olanları almıyoruz çünkü contribution'u az bu parametrelerin"
   ]
  },
  {
   "cell_type": "code",
   "execution_count": 75,
   "id": "5820066c-7a8f-4c43-9020-03e85c750fd0",
   "metadata": {},
   "outputs": [],
   "source": [
    "x=df[['TV','Newspaper','Radio']]\n",
    "y=df[['Sales']]"
   ]
  },
  {
   "cell_type": "code",
   "execution_count": 77,
   "id": "0c2e07ac-eff4-4b22-afe0-fa2769ed433f",
   "metadata": {},
   "outputs": [],
   "source": [
    "x_train,x_test,y_train,y_test=train_test_split(x,y,test_size=0.20,random_state=42)"
   ]
  },
  {
   "cell_type": "code",
   "execution_count": 79,
   "id": "0a016c82-4511-4f07-89da-33dfb18e231e",
   "metadata": {},
   "outputs": [
    {
     "name": "stdout",
     "output_type": "stream",
     "text": [
      "Shape of x: (200, 3)\n",
      "Shape of y: (200, 1)\n"
     ]
    }
   ],
   "source": [
    "print(\"Shape of x:\", x.shape)\n",
    "print(\"Shape of y:\", y.shape)"
   ]
  },
  {
   "cell_type": "markdown",
   "id": "8e9b1e67-8c17-4497-859e-48abb13a3de1",
   "metadata": {},
   "source": [
    "## Modeling"
   ]
  },
  {
   "cell_type": "code",
   "execution_count": 82,
   "id": "59bbe3d3-fa36-43c5-a923-c3d8d8037ee2",
   "metadata": {},
   "outputs": [],
   "source": [
    "lr=LinearRegression()"
   ]
  },
  {
   "cell_type": "code",
   "execution_count": 84,
   "id": "586e45e9-305a-49e0-b880-00ee579cf9b9",
   "metadata": {},
   "outputs": [],
   "source": [
    "model=lr.fit(x_train,y_train) #makine Ogrenmesi"
   ]
  },
  {
   "cell_type": "code",
   "execution_count": 86,
   "id": "c9917590-f121-40bc-821a-8c64c1c89792",
   "metadata": {},
   "outputs": [],
   "source": [
    "tahmin=model.predict(x_test)"
   ]
  },
  {
   "cell_type": "code",
   "execution_count": 88,
   "id": "af40eb97-2675-42be-9514-3c0c8bf0cd7c",
   "metadata": {},
   "outputs": [
    {
     "data": {
      "text/plain": [
       "1.7815996615334502"
      ]
     },
     "execution_count": 88,
     "metadata": {},
     "output_type": "execute_result"
    }
   ],
   "source": [
    "mean_squared_error(y_test,tahmin) ** .5 "
   ]
  },
  {
   "cell_type": "code",
   "execution_count": 90,
   "id": "4c7238c9-37c7-4469-89ea-d65f4ea6fda7",
   "metadata": {},
   "outputs": [
    {
     "data": {
      "text/plain": [
       "0.899438024100912"
      ]
     },
     "execution_count": 90,
     "metadata": {},
     "output_type": "execute_result"
    }
   ],
   "source": [
    "r2_score(y_test,tahmin) "
   ]
  },
  {
   "cell_type": "code",
   "execution_count": 92,
   "id": "9c10a3bd-37c6-4a02-a897-a1b06d0fbf32",
   "metadata": {},
   "outputs": [],
   "source": [
    "R=Ridge()\n",
    "L=Lasso()\n",
    "E=ElasticNet()"
   ]
  },
  {
   "cell_type": "code",
   "execution_count": 94,
   "id": "36ae7d59-0e2f-4201-aeb1-f69f7768351f",
   "metadata": {},
   "outputs": [],
   "source": [
    "Rmodel=R.fit(x_train,y_train)"
   ]
  },
  {
   "cell_type": "code",
   "execution_count": 96,
   "id": "3bcdc626-8e4c-4675-8b4e-2a6a5875a10c",
   "metadata": {},
   "outputs": [],
   "source": [
    "tahmin2=Rmodel.predict(x_test)"
   ]
  },
  {
   "cell_type": "code",
   "execution_count": 98,
   "id": "f3a9e693-6d26-419e-b2d0-082f9cc9312c",
   "metadata": {},
   "outputs": [
    {
     "data": {
      "text/plain": [
       "1.781598948162221"
      ]
     },
     "execution_count": 98,
     "metadata": {},
     "output_type": "execute_result"
    }
   ],
   "source": [
    "mean_squared_error(y_test,tahmin2)**0.5"
   ]
  },
  {
   "cell_type": "code",
   "execution_count": 100,
   "id": "1e3f29f2-62ab-4ae0-b7d8-e585c53dc6c7",
   "metadata": {},
   "outputs": [
    {
     "data": {
      "text/plain": [
       "0.89943810463304"
      ]
     },
     "execution_count": 100,
     "metadata": {},
     "output_type": "execute_result"
    }
   ],
   "source": [
    "r2_score(y_test,tahmin2)"
   ]
  },
  {
   "cell_type": "code",
   "execution_count": 102,
   "id": "22eda857-4c73-4aca-9def-2b16e395842a",
   "metadata": {},
   "outputs": [],
   "source": [
    "dt=DecisionTreeRegressor()"
   ]
  },
  {
   "cell_type": "code",
   "execution_count": 104,
   "id": "b55069bc-cec4-46a7-be66-320e70cd7456",
   "metadata": {},
   "outputs": [],
   "source": [
    "Dmodel=dt.fit(x_train,y_train)"
   ]
  },
  {
   "cell_type": "code",
   "execution_count": 106,
   "id": "a8993de7-660c-4a9f-aa0d-72fa40d1dec9",
   "metadata": {},
   "outputs": [],
   "source": [
    "tahmin3=dt.predict(x_test)"
   ]
  },
  {
   "cell_type": "code",
   "execution_count": 108,
   "id": "6bdf7291-1ac6-4571-a26f-0161031c7ea8",
   "metadata": {},
   "outputs": [
    {
     "data": {
      "text/plain": [
       "1.3119641763401926"
      ]
     },
     "execution_count": 108,
     "metadata": {},
     "output_type": "execute_result"
    }
   ],
   "source": [
    "mean_squared_error(y_test,tahmin3)**.5"
   ]
  },
  {
   "cell_type": "code",
   "execution_count": 110,
   "id": "87890a0d-5361-4b23-8b9c-c08fea3a5ce4",
   "metadata": {},
   "outputs": [
    {
     "data": {
      "text/plain": [
       "0.9454672362838912"
      ]
     },
     "execution_count": 110,
     "metadata": {},
     "output_type": "execute_result"
    }
   ],
   "source": [
    "r2_score(y_test,tahmin3)"
   ]
  },
  {
   "cell_type": "code",
   "execution_count": 116,
   "id": "5daa01c3-d17e-4441-a3c7-eb8885a361ee",
   "metadata": {},
   "outputs": [],
   "source": [
    "from sklearn.ensemble import ExtraTreesRegressor  #grup yani birçok ağaç modelini deniyor"
   ]
  },
  {
   "cell_type": "code",
   "execution_count": 118,
   "id": "e96126c8-7cdb-4dd7-80bd-74e9bcf636aa",
   "metadata": {},
   "outputs": [],
   "source": [
    "ET=ExtraTreesRegressor()"
   ]
  },
  {
   "cell_type": "code",
   "execution_count": 122,
   "id": "8a4260a8-4a25-4336-b3a1-e0c1419c13e9",
   "metadata": {},
   "outputs": [],
   "source": [
    "ETmodel=ET.fit(x_train,y_train)"
   ]
  },
  {
   "cell_type": "code",
   "execution_count": 124,
   "id": "01d9c735-a108-4394-bcfb-ff1c6b098620",
   "metadata": {},
   "outputs": [],
   "source": [
    "tahmin4=ET.predict(x_test)"
   ]
  },
  {
   "cell_type": "code",
   "execution_count": 126,
   "id": "1bf4b2d4-a362-40f9-b351-3bddc4a0a619",
   "metadata": {},
   "outputs": [
    {
     "data": {
      "text/plain": [
       "0.5008656256921565"
      ]
     },
     "execution_count": 126,
     "metadata": {},
     "output_type": "execute_result"
    }
   ],
   "source": [
    "mean_squared_error(y_test,tahmin4)**.5"
   ]
  },
  {
   "cell_type": "code",
   "execution_count": 130,
   "id": "646cb6d3-8071-48c8-ac15-76100fb3bee0",
   "metadata": {},
   "outputs": [
    {
     "data": {
      "text/plain": [
       "0.9920520338404116"
      ]
     },
     "execution_count": 130,
     "metadata": {},
     "output_type": "execute_result"
    }
   ],
   "source": [
    "r2_score(y_test,tahmin4)"
   ]
  },
  {
   "cell_type": "code",
   "execution_count": null,
   "id": "cb1bee93-ed44-48a1-a8fb-c401de98a2bd",
   "metadata": {},
   "outputs": [],
   "source": []
  }
 ],
 "metadata": {
  "kernelspec": {
   "display_name": "Python 3 (ipykernel)",
   "language": "python",
   "name": "python3"
  },
  "language_info": {
   "codemirror_mode": {
    "name": "ipython",
    "version": 3
   },
   "file_extension": ".py",
   "mimetype": "text/x-python",
   "name": "python",
   "nbconvert_exporter": "python",
   "pygments_lexer": "ipython3",
   "version": "3.12.4"
  }
 },
 "nbformat": 4,
 "nbformat_minor": 5
}
