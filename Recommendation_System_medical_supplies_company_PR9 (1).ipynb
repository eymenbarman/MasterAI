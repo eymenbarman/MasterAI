{
  "nbformat": 4,
  "nbformat_minor": 0,
  "metadata": {
    "colab": {
      "provenance": []
    },
    "kernelspec": {
      "name": "python3",
      "display_name": "Python 3"
    },
    "language_info": {
      "name": "python"
    }
  },
  "cells": [
    {
      "cell_type": "code",
      "execution_count": null,
      "metadata": {
        "id": "Q5knbQkIucxH"
      },
      "outputs": [],
      "source": [
        "# Recommendation System for a medial supply company"
      ]
    },
    {
      "cell_type": "code",
      "source": [
        "import pandas as pd\n",
        "\n",
        "df = pd.read_csv('PBL 5 recommendation data.csv', encoding='ISO-8859-1')\n",
        "print(df.shape)\n",
        "df.head()"
      ],
      "metadata": {
        "colab": {
          "base_uri": "https://localhost:8080/",
          "height": 310
        },
        "id": "-nZiTixUvt11",
        "outputId": "e2e959be-8faf-470f-989f-0b80884e5bee"
      },
      "execution_count": null,
      "outputs": [
        {
          "output_type": "stream",
          "name": "stdout",
          "text": [
            "(4194, 181)\n"
          ]
        },
        {
          "output_type": "stream",
          "name": "stderr",
          "text": [
            "<ipython-input-2-cb62cf6fea16>:3: DtypeWarning: Columns (20,33,73,106,158) have mixed types. Specify dtype option on import or set low_memory=False.\n",
            "  df = pd.read_csv('PBL 5 recommendation data.csv', encoding='ISO-8859-1')\n"
          ]
        },
        {
          "output_type": "execute_result",
          "data": {
            "text/plain": [
              "   Customers.id Customers.fname Customers.lname Customers.company  \\\n",
              "0           797         Christy            Dill          Company0   \n",
              "1             3            John           Smith          Company1   \n",
              "2             3            John           Smith          Company1   \n",
              "3             4           James        Anderson               NaN   \n",
              "4             5         Abraham          Pollak          Company3   \n",
              "\n",
              "   Customers.create_date  Customers.status  Customers.mailing  \\\n",
              "0             1426018724               NaN                NaN   \n",
              "1             1386089139               NaN                NaN   \n",
              "2             1386089139               NaN                NaN   \n",
              "3             1386780263               NaN                NaN   \n",
              "4             1386861599               0.0                0.0   \n",
              "\n",
              "   Customers.reminders  Customers.tax_exempt  Customers.account_id  ...  \\\n",
              "0                  NaN                   NaN                   NaN  ...   \n",
              "1                  NaN                   NaN                   NaN  ...   \n",
              "2                  NaN                   NaN                   NaN  ...   \n",
              "3                  NaN                   NaN                   NaN  ...   \n",
              "4                  NaN                   NaN                   NaN  ...   \n",
              "\n",
              "   Products.google_shopping_label  Products.product_option    Products.size  \\\n",
              "0                             NaN                      NaN              NaN   \n",
              "1                             NaN                      NaN              NaN   \n",
              "2                             NaN                      NaN  2 x Extra large   \n",
              "3                             NaN                      NaN              NaN   \n",
              "4                             NaN                      NaN              NaN   \n",
              "\n",
              "   Products.material  Products.arm_style  Products.leg_style  \\\n",
              "0                NaN                 NaN                 NaN   \n",
              "1                NaN                 NaN                 NaN   \n",
              "2            Nitrile                 NaN                 NaN   \n",
              "3                NaN                 NaN                 NaN   \n",
              "4                NaN                 NaN                 NaN   \n",
              "\n",
              "   Products.seat_size Products.family_id Products.saved_status  \\\n",
              "0                 NaN            PF61071                   0.0   \n",
              "1                 NaN            PF02132                   NaN   \n",
              "2                 NaN            PF00342                   0.0   \n",
              "3                 NaN            PF04970                   NaN   \n",
              "4                 NaN            PF03045                   NaN   \n",
              "\n",
              "  Products.freight_cost  \n",
              "0                   NaN  \n",
              "1                   NaN  \n",
              "2                   NaN  \n",
              "3                   NaN  \n",
              "4                   NaN  \n",
              "\n",
              "[5 rows x 181 columns]"
            ],
            "text/html": [
              "\n",
              "  <div id=\"df-25fac709-b8b4-401f-91e2-b942b8e27487\" class=\"colab-df-container\">\n",
              "    <div>\n",
              "<style scoped>\n",
              "    .dataframe tbody tr th:only-of-type {\n",
              "        vertical-align: middle;\n",
              "    }\n",
              "\n",
              "    .dataframe tbody tr th {\n",
              "        vertical-align: top;\n",
              "    }\n",
              "\n",
              "    .dataframe thead th {\n",
              "        text-align: right;\n",
              "    }\n",
              "</style>\n",
              "<table border=\"1\" class=\"dataframe\">\n",
              "  <thead>\n",
              "    <tr style=\"text-align: right;\">\n",
              "      <th></th>\n",
              "      <th>Customers.id</th>\n",
              "      <th>Customers.fname</th>\n",
              "      <th>Customers.lname</th>\n",
              "      <th>Customers.company</th>\n",
              "      <th>Customers.create_date</th>\n",
              "      <th>Customers.status</th>\n",
              "      <th>Customers.mailing</th>\n",
              "      <th>Customers.reminders</th>\n",
              "      <th>Customers.tax_exempt</th>\n",
              "      <th>Customers.account_id</th>\n",
              "      <th>...</th>\n",
              "      <th>Products.google_shopping_label</th>\n",
              "      <th>Products.product_option</th>\n",
              "      <th>Products.size</th>\n",
              "      <th>Products.material</th>\n",
              "      <th>Products.arm_style</th>\n",
              "      <th>Products.leg_style</th>\n",
              "      <th>Products.seat_size</th>\n",
              "      <th>Products.family_id</th>\n",
              "      <th>Products.saved_status</th>\n",
              "      <th>Products.freight_cost</th>\n",
              "    </tr>\n",
              "  </thead>\n",
              "  <tbody>\n",
              "    <tr>\n",
              "      <th>0</th>\n",
              "      <td>797</td>\n",
              "      <td>Christy</td>\n",
              "      <td>Dill</td>\n",
              "      <td>Company0</td>\n",
              "      <td>1426018724</td>\n",
              "      <td>NaN</td>\n",
              "      <td>NaN</td>\n",
              "      <td>NaN</td>\n",
              "      <td>NaN</td>\n",
              "      <td>NaN</td>\n",
              "      <td>...</td>\n",
              "      <td>NaN</td>\n",
              "      <td>NaN</td>\n",
              "      <td>NaN</td>\n",
              "      <td>NaN</td>\n",
              "      <td>NaN</td>\n",
              "      <td>NaN</td>\n",
              "      <td>NaN</td>\n",
              "      <td>PF61071</td>\n",
              "      <td>0.0</td>\n",
              "      <td>NaN</td>\n",
              "    </tr>\n",
              "    <tr>\n",
              "      <th>1</th>\n",
              "      <td>3</td>\n",
              "      <td>John</td>\n",
              "      <td>Smith</td>\n",
              "      <td>Company1</td>\n",
              "      <td>1386089139</td>\n",
              "      <td>NaN</td>\n",
              "      <td>NaN</td>\n",
              "      <td>NaN</td>\n",
              "      <td>NaN</td>\n",
              "      <td>NaN</td>\n",
              "      <td>...</td>\n",
              "      <td>NaN</td>\n",
              "      <td>NaN</td>\n",
              "      <td>NaN</td>\n",
              "      <td>NaN</td>\n",
              "      <td>NaN</td>\n",
              "      <td>NaN</td>\n",
              "      <td>NaN</td>\n",
              "      <td>PF02132</td>\n",
              "      <td>NaN</td>\n",
              "      <td>NaN</td>\n",
              "    </tr>\n",
              "    <tr>\n",
              "      <th>2</th>\n",
              "      <td>3</td>\n",
              "      <td>John</td>\n",
              "      <td>Smith</td>\n",
              "      <td>Company1</td>\n",
              "      <td>1386089139</td>\n",
              "      <td>NaN</td>\n",
              "      <td>NaN</td>\n",
              "      <td>NaN</td>\n",
              "      <td>NaN</td>\n",
              "      <td>NaN</td>\n",
              "      <td>...</td>\n",
              "      <td>NaN</td>\n",
              "      <td>NaN</td>\n",
              "      <td>2 x Extra large</td>\n",
              "      <td>Nitrile</td>\n",
              "      <td>NaN</td>\n",
              "      <td>NaN</td>\n",
              "      <td>NaN</td>\n",
              "      <td>PF00342</td>\n",
              "      <td>0.0</td>\n",
              "      <td>NaN</td>\n",
              "    </tr>\n",
              "    <tr>\n",
              "      <th>3</th>\n",
              "      <td>4</td>\n",
              "      <td>James</td>\n",
              "      <td>Anderson</td>\n",
              "      <td>NaN</td>\n",
              "      <td>1386780263</td>\n",
              "      <td>NaN</td>\n",
              "      <td>NaN</td>\n",
              "      <td>NaN</td>\n",
              "      <td>NaN</td>\n",
              "      <td>NaN</td>\n",
              "      <td>...</td>\n",
              "      <td>NaN</td>\n",
              "      <td>NaN</td>\n",
              "      <td>NaN</td>\n",
              "      <td>NaN</td>\n",
              "      <td>NaN</td>\n",
              "      <td>NaN</td>\n",
              "      <td>NaN</td>\n",
              "      <td>PF04970</td>\n",
              "      <td>NaN</td>\n",
              "      <td>NaN</td>\n",
              "    </tr>\n",
              "    <tr>\n",
              "      <th>4</th>\n",
              "      <td>5</td>\n",
              "      <td>Abraham</td>\n",
              "      <td>Pollak</td>\n",
              "      <td>Company3</td>\n",
              "      <td>1386861599</td>\n",
              "      <td>0.0</td>\n",
              "      <td>0.0</td>\n",
              "      <td>NaN</td>\n",
              "      <td>NaN</td>\n",
              "      <td>NaN</td>\n",
              "      <td>...</td>\n",
              "      <td>NaN</td>\n",
              "      <td>NaN</td>\n",
              "      <td>NaN</td>\n",
              "      <td>NaN</td>\n",
              "      <td>NaN</td>\n",
              "      <td>NaN</td>\n",
              "      <td>NaN</td>\n",
              "      <td>PF03045</td>\n",
              "      <td>NaN</td>\n",
              "      <td>NaN</td>\n",
              "    </tr>\n",
              "  </tbody>\n",
              "</table>\n",
              "<p>5 rows × 181 columns</p>\n",
              "</div>\n",
              "    <div class=\"colab-df-buttons\">\n",
              "\n",
              "  <div class=\"colab-df-container\">\n",
              "    <button class=\"colab-df-convert\" onclick=\"convertToInteractive('df-25fac709-b8b4-401f-91e2-b942b8e27487')\"\n",
              "            title=\"Convert this dataframe to an interactive table.\"\n",
              "            style=\"display:none;\">\n",
              "\n",
              "  <svg xmlns=\"http://www.w3.org/2000/svg\" height=\"24px\" viewBox=\"0 -960 960 960\">\n",
              "    <path d=\"M120-120v-720h720v720H120Zm60-500h600v-160H180v160Zm220 220h160v-160H400v160Zm0 220h160v-160H400v160ZM180-400h160v-160H180v160Zm440 0h160v-160H620v160ZM180-180h160v-160H180v160Zm440 0h160v-160H620v160Z\"/>\n",
              "  </svg>\n",
              "    </button>\n",
              "\n",
              "  <style>\n",
              "    .colab-df-container {\n",
              "      display:flex;\n",
              "      gap: 12px;\n",
              "    }\n",
              "\n",
              "    .colab-df-convert {\n",
              "      background-color: #E8F0FE;\n",
              "      border: none;\n",
              "      border-radius: 50%;\n",
              "      cursor: pointer;\n",
              "      display: none;\n",
              "      fill: #1967D2;\n",
              "      height: 32px;\n",
              "      padding: 0 0 0 0;\n",
              "      width: 32px;\n",
              "    }\n",
              "\n",
              "    .colab-df-convert:hover {\n",
              "      background-color: #E2EBFA;\n",
              "      box-shadow: 0px 1px 2px rgba(60, 64, 67, 0.3), 0px 1px 3px 1px rgba(60, 64, 67, 0.15);\n",
              "      fill: #174EA6;\n",
              "    }\n",
              "\n",
              "    .colab-df-buttons div {\n",
              "      margin-bottom: 4px;\n",
              "    }\n",
              "\n",
              "    [theme=dark] .colab-df-convert {\n",
              "      background-color: #3B4455;\n",
              "      fill: #D2E3FC;\n",
              "    }\n",
              "\n",
              "    [theme=dark] .colab-df-convert:hover {\n",
              "      background-color: #434B5C;\n",
              "      box-shadow: 0px 1px 3px 1px rgba(0, 0, 0, 0.15);\n",
              "      filter: drop-shadow(0px 1px 2px rgba(0, 0, 0, 0.3));\n",
              "      fill: #FFFFFF;\n",
              "    }\n",
              "  </style>\n",
              "\n",
              "    <script>\n",
              "      const buttonEl =\n",
              "        document.querySelector('#df-25fac709-b8b4-401f-91e2-b942b8e27487 button.colab-df-convert');\n",
              "      buttonEl.style.display =\n",
              "        google.colab.kernel.accessAllowed ? 'block' : 'none';\n",
              "\n",
              "      async function convertToInteractive(key) {\n",
              "        const element = document.querySelector('#df-25fac709-b8b4-401f-91e2-b942b8e27487');\n",
              "        const dataTable =\n",
              "          await google.colab.kernel.invokeFunction('convertToInteractive',\n",
              "                                                    [key], {});\n",
              "        if (!dataTable) return;\n",
              "\n",
              "        const docLinkHtml = 'Like what you see? Visit the ' +\n",
              "          '<a target=\"_blank\" href=https://colab.research.google.com/notebooks/data_table.ipynb>data table notebook</a>'\n",
              "          + ' to learn more about interactive tables.';\n",
              "        element.innerHTML = '';\n",
              "        dataTable['output_type'] = 'display_data';\n",
              "        await google.colab.output.renderOutput(dataTable, element);\n",
              "        const docLink = document.createElement('div');\n",
              "        docLink.innerHTML = docLinkHtml;\n",
              "        element.appendChild(docLink);\n",
              "      }\n",
              "    </script>\n",
              "  </div>\n",
              "\n",
              "\n",
              "    <div id=\"df-354b9177-7642-48d9-94fe-cb9f324af697\">\n",
              "      <button class=\"colab-df-quickchart\" onclick=\"quickchart('df-354b9177-7642-48d9-94fe-cb9f324af697')\"\n",
              "                title=\"Suggest charts\"\n",
              "                style=\"display:none;\">\n",
              "\n",
              "<svg xmlns=\"http://www.w3.org/2000/svg\" height=\"24px\"viewBox=\"0 0 24 24\"\n",
              "     width=\"24px\">\n",
              "    <g>\n",
              "        <path d=\"M19 3H5c-1.1 0-2 .9-2 2v14c0 1.1.9 2 2 2h14c1.1 0 2-.9 2-2V5c0-1.1-.9-2-2-2zM9 17H7v-7h2v7zm4 0h-2V7h2v10zm4 0h-2v-4h2v4z\"/>\n",
              "    </g>\n",
              "</svg>\n",
              "      </button>\n",
              "\n",
              "<style>\n",
              "  .colab-df-quickchart {\n",
              "      --bg-color: #E8F0FE;\n",
              "      --fill-color: #1967D2;\n",
              "      --hover-bg-color: #E2EBFA;\n",
              "      --hover-fill-color: #174EA6;\n",
              "      --disabled-fill-color: #AAA;\n",
              "      --disabled-bg-color: #DDD;\n",
              "  }\n",
              "\n",
              "  [theme=dark] .colab-df-quickchart {\n",
              "      --bg-color: #3B4455;\n",
              "      --fill-color: #D2E3FC;\n",
              "      --hover-bg-color: #434B5C;\n",
              "      --hover-fill-color: #FFFFFF;\n",
              "      --disabled-bg-color: #3B4455;\n",
              "      --disabled-fill-color: #666;\n",
              "  }\n",
              "\n",
              "  .colab-df-quickchart {\n",
              "    background-color: var(--bg-color);\n",
              "    border: none;\n",
              "    border-radius: 50%;\n",
              "    cursor: pointer;\n",
              "    display: none;\n",
              "    fill: var(--fill-color);\n",
              "    height: 32px;\n",
              "    padding: 0;\n",
              "    width: 32px;\n",
              "  }\n",
              "\n",
              "  .colab-df-quickchart:hover {\n",
              "    background-color: var(--hover-bg-color);\n",
              "    box-shadow: 0 1px 2px rgba(60, 64, 67, 0.3), 0 1px 3px 1px rgba(60, 64, 67, 0.15);\n",
              "    fill: var(--button-hover-fill-color);\n",
              "  }\n",
              "\n",
              "  .colab-df-quickchart-complete:disabled,\n",
              "  .colab-df-quickchart-complete:disabled:hover {\n",
              "    background-color: var(--disabled-bg-color);\n",
              "    fill: var(--disabled-fill-color);\n",
              "    box-shadow: none;\n",
              "  }\n",
              "\n",
              "  .colab-df-spinner {\n",
              "    border: 2px solid var(--fill-color);\n",
              "    border-color: transparent;\n",
              "    border-bottom-color: var(--fill-color);\n",
              "    animation:\n",
              "      spin 1s steps(1) infinite;\n",
              "  }\n",
              "\n",
              "  @keyframes spin {\n",
              "    0% {\n",
              "      border-color: transparent;\n",
              "      border-bottom-color: var(--fill-color);\n",
              "      border-left-color: var(--fill-color);\n",
              "    }\n",
              "    20% {\n",
              "      border-color: transparent;\n",
              "      border-left-color: var(--fill-color);\n",
              "      border-top-color: var(--fill-color);\n",
              "    }\n",
              "    30% {\n",
              "      border-color: transparent;\n",
              "      border-left-color: var(--fill-color);\n",
              "      border-top-color: var(--fill-color);\n",
              "      border-right-color: var(--fill-color);\n",
              "    }\n",
              "    40% {\n",
              "      border-color: transparent;\n",
              "      border-right-color: var(--fill-color);\n",
              "      border-top-color: var(--fill-color);\n",
              "    }\n",
              "    60% {\n",
              "      border-color: transparent;\n",
              "      border-right-color: var(--fill-color);\n",
              "    }\n",
              "    80% {\n",
              "      border-color: transparent;\n",
              "      border-right-color: var(--fill-color);\n",
              "      border-bottom-color: var(--fill-color);\n",
              "    }\n",
              "    90% {\n",
              "      border-color: transparent;\n",
              "      border-bottom-color: var(--fill-color);\n",
              "    }\n",
              "  }\n",
              "</style>\n",
              "\n",
              "      <script>\n",
              "        async function quickchart(key) {\n",
              "          const quickchartButtonEl =\n",
              "            document.querySelector('#' + key + ' button');\n",
              "          quickchartButtonEl.disabled = true;  // To prevent multiple clicks.\n",
              "          quickchartButtonEl.classList.add('colab-df-spinner');\n",
              "          try {\n",
              "            const charts = await google.colab.kernel.invokeFunction(\n",
              "                'suggestCharts', [key], {});\n",
              "          } catch (error) {\n",
              "            console.error('Error during call to suggestCharts:', error);\n",
              "          }\n",
              "          quickchartButtonEl.classList.remove('colab-df-spinner');\n",
              "          quickchartButtonEl.classList.add('colab-df-quickchart-complete');\n",
              "        }\n",
              "        (() => {\n",
              "          let quickchartButtonEl =\n",
              "            document.querySelector('#df-354b9177-7642-48d9-94fe-cb9f324af697 button');\n",
              "          quickchartButtonEl.style.display =\n",
              "            google.colab.kernel.accessAllowed ? 'block' : 'none';\n",
              "        })();\n",
              "      </script>\n",
              "    </div>\n",
              "\n",
              "    </div>\n",
              "  </div>\n"
            ],
            "application/vnd.google.colaboratory.intrinsic+json": {
              "type": "dataframe",
              "variable_name": "df"
            }
          },
          "metadata": {},
          "execution_count": 2
        }
      ]
    },
    {
      "cell_type": "code",
      "source": [
        "df.shape"
      ],
      "metadata": {
        "colab": {
          "base_uri": "https://localhost:8080/"
        },
        "id": "kOXrMfisvus9",
        "outputId": "aa0f1765-3018-4154-9358-46e93ed777e4"
      },
      "execution_count": null,
      "outputs": [
        {
          "output_type": "execute_result",
          "data": {
            "text/plain": [
              "(4194, 181)"
            ]
          },
          "metadata": {},
          "execution_count": 3
        }
      ]
    },
    {
      "cell_type": "code",
      "source": [
        "df.info()\n",
        "print(\"\\nEksik değer sayısı:\")\n",
        "print(df.isnull().sum())"
      ],
      "metadata": {
        "colab": {
          "base_uri": "https://localhost:8080/"
        },
        "id": "jsheKc9n2s9G",
        "outputId": "ceea5914-274d-4527-af43-e97174f4e3ae"
      },
      "execution_count": null,
      "outputs": [
        {
          "output_type": "stream",
          "name": "stdout",
          "text": [
            "<class 'pandas.core.frame.DataFrame'>\n",
            "RangeIndex: 4194 entries, 0 to 4193\n",
            "Columns: 181 entries, Customers.id to Products.freight_cost\n",
            "dtypes: float64(98), int64(10), object(73)\n",
            "memory usage: 5.8+ MB\n",
            "\n",
            "Eksik değer sayısı:\n",
            "Customers.id                0\n",
            "Customers.fname             0\n",
            "Customers.lname             0\n",
            "Customers.company        3467\n",
            "Customers.create_date       0\n",
            "                         ... \n",
            "Products.leg_style       4194\n",
            "Products.seat_size       4032\n",
            "Products.family_id        325\n",
            "Products.saved_status     264\n",
            "Products.freight_cost    4194\n",
            "Length: 181, dtype: int64\n"
          ]
        }
      ]
    },
    {
      "cell_type": "code",
      "source": [
        "print(df.columns.tolist())"
      ],
      "metadata": {
        "colab": {
          "base_uri": "https://localhost:8080/"
        },
        "id": "i9kGhI2A3t0y",
        "outputId": "ba4848a8-fd05-4535-9613-b4ce6c299bf0"
      },
      "execution_count": null,
      "outputs": [
        {
          "output_type": "stream",
          "name": "stdout",
          "text": [
            "['Customers.id', 'Customers.fname', 'Customers.lname', 'Customers.company', 'Customers.create_date', 'Customers.status', 'Customers.mailing', 'Customers.reminders', 'Customers.tax_exempt', 'Customers.account_id', 'Customers.sales_rep', 'Customers.rewards', 'Customers.profile_id', 'Customers.last_modified', 'Customers.customer_type', 'Orders.id', 'Orders.customer_id', 'Orders.fname', 'Orders.lname', 'Orders.company', 'Orders.order_number', 'Orders.reorder_id', 'Orders.external_source', 'Orders.external_id', 'Orders.currency', 'Orders.sales_rep', 'Orders.subtotal', 'Orders.tax', 'Orders.shipping', 'Orders.coupon_id', 'Orders.coupon_amount', 'Orders.gift_id', 'Orders.gift_amount', 'Orders.fee_name', 'Orders.fee_amount', 'Orders.discount_name', 'Orders.discount_amount', 'Orders.total', 'Orders.balance_due', 'Orders.shipping_carrier', 'Orders.shipping_method', 'Orders.shipping_trans', 'Orders.shipping_flags', 'Orders.weight', 'Orders.tracking', 'Orders.payment_status', 'Orders.payment_date', 'Orders.payment_user', 'Orders.payment_type', 'Orders.payment_method', 'Orders.payment_amount', 'Orders.purchase_order', 'Orders.payment_id', 'Orders.payment_code', 'Orders.payment_ref', 'Orders.status', 'Orders.placed_date', 'Orders.updated_date', 'Orders.shipped_date', 'Orders.comments', 'Orders.notes', 'Orders.registry_id', 'Orders.gift_message', 'Orders.website', 'Orders.mailing', 'Orders.flags', 'Orders.partial_ship', 'Orders.customer_type', 'Order_Items.id', 'Order_Items.parent', 'Order_Items.product_id', 'Order_Items.product_name', 'Order_Items.attributes', 'Order_Items.attribute_names', 'Order_Items.attribute_prices', 'Order_Items.qty', 'Order_Items.price', 'Order_Items.cost', 'Order_Items.registry_item', 'Order_Items.related_id', 'Order_Items.reorder_frequency', 'Order_Items.account_id', 'Order_Items.flags', 'Products.id', 'Products.status', 'Products.product_type', 'Products.template', 'Products.vendor', 'Products.import_id', 'Products.name', 'Products.display_name', 'Products.menu_name', 'Products.list_price', 'Products.price', 'Products.sale_price', 'Products.cost', 'Products.flags', 'Products.left_flag', 'Products.right_flag', 'Products.last_modified', 'Products.taxable', 'Products.shopping_gtin', 'Products.shopping_brand', 'Products.shopping_mpn', 'Products.shopping_gender', 'Products.shopping_color', 'Products.shopping_age', 'Products.shopping_flags', 'Products.amazon_asin', 'Products.amazon_type', 'Products.amazon_item_type', 'Products.amazon_price', 'Products.google_shopping_id', 'Products.google_shopping_type', 'Products.google_shopping_cat', 'Products.google_adwords', 'Products.shopping_cat', 'Products.shopping_type', 'Products.pricegrabber_cat', 'Products.shopzilla_cat', 'Products.thefind_cat', 'Products.quickbooks_id', 'Products.qb_edit_sequence', 'Products.price_break_type', 'Products.price_breaks', 'Products.short_description', 'Products.long_description', 'Products.websites', 'Products.video', 'Products.audio', 'Products.seo_title', 'Products.seo_description', 'Products.seo_keywords', 'Products.seo_header', 'Products.seo_footer', 'Products.seo_url', 'Products.seo_category', 'Products.unit', 'Products.packaging', 'Products.display_packaging', 'Products.multiple', 'Products.length', 'Products.width', 'Products.height', 'Products.rx', 'Products.latex', 'Products.upc', 'Products.msds_link', 'Products.msds_label', 'Products.lit_link', 'Products.lit_label', 'Products.hcpcs', 'Products.case_qty', 'Products.markup', 'Products.override_markup', 'Products.notes', 'Products.import_flags', 'Products.map_price', 'Products.features_title', 'Products.warranty', 'Products.hygienic', 'Products.default_quantity', 'Products.user_size', 'Products.assembly', 'Products.installation', 'Products.shipping_length', 'Products.shipping_width', 'Products.shipping_height', 'Products.shipping_weight', 'Products.handling_time', 'Products.rotation_link', 'Products.google_shopping_label', 'Products.product_option', 'Products.size', 'Products.material', 'Products.arm_style', 'Products.leg_style', 'Products.seat_size', 'Products.family_id', 'Products.saved_status', 'Products.freight_cost']\n"
          ]
        }
      ]
    },
    {
      "cell_type": "code",
      "source": [
        "print(\"\\nSayısal kolonlarda istatistiksel özet:\")\n",
        "print(df.describe())\n",
        "\n",
        "print(\"\\nKategorik kolonlarda benzersiz değerler:\")\n",
        "for col in df.select_dtypes(include='object').columns:\n",
        "    print(f\"{col}: {df[col].nunique()} benzersiz\")"
      ],
      "metadata": {
        "colab": {
          "base_uri": "https://localhost:8080/"
        },
        "id": "nPXOz7D-2xR8",
        "outputId": "64430e40-337f-458b-cfa7-352008a975d4"
      },
      "execution_count": null,
      "outputs": [
        {
          "output_type": "stream",
          "name": "stdout",
          "text": [
            "\n",
            "Sayısal kolonlarda istatistiksel özet:\n",
            "       Customers.id  Customers.create_date  Customers.status  \\\n",
            "count   4194.000000           4.194000e+03             101.0   \n",
            "mean    1796.518121           1.440971e+09               0.0   \n",
            "std     1065.679090           1.887681e+07               0.0   \n",
            "min        3.000000           1.386089e+09               0.0   \n",
            "25%      865.250000           1.427323e+09               0.0   \n",
            "50%     1747.500000           1.446412e+09               0.0   \n",
            "75%     2698.750000           1.456955e+09               0.0   \n",
            "max     3736.000000           1.463418e+09               0.0   \n",
            "\n",
            "       Customers.mailing  Customers.reminders  Customers.tax_exempt  \\\n",
            "count        2114.000000                  0.0              5.000000   \n",
            "mean            0.979659                  NaN              0.200000   \n",
            "std             0.141196                  NaN              0.447214   \n",
            "min             0.000000                  NaN              0.000000   \n",
            "25%             1.000000                  NaN              0.000000   \n",
            "50%             1.000000                  NaN              0.000000   \n",
            "75%             1.000000                  NaN              0.000000   \n",
            "max             1.000000                  NaN              1.000000   \n",
            "\n",
            "       Customers.account_id  Customers.sales_rep  Customers.rewards  \\\n",
            "count              3.000000                  0.0                0.0   \n",
            "mean               7.333333                  NaN                NaN   \n",
            "std                0.577350                  NaN                NaN   \n",
            "min                7.000000                  NaN                NaN   \n",
            "25%                7.000000                  NaN                NaN   \n",
            "50%                7.000000                  NaN                NaN   \n",
            "75%                7.500000                  NaN                NaN   \n",
            "max                8.000000                  NaN                NaN   \n",
            "\n",
            "       Customers.profile_id  ...  Products.hygienic  \\\n",
            "count                   0.0  ...        2080.000000   \n",
            "mean                    NaN  ...           0.064423   \n",
            "std                     NaN  ...           0.245564   \n",
            "min                     NaN  ...           0.000000   \n",
            "25%                     NaN  ...           0.000000   \n",
            "50%                     NaN  ...           0.000000   \n",
            "75%                     NaN  ...           0.000000   \n",
            "max                     NaN  ...           1.000000   \n",
            "\n",
            "       Products.default_quantity  Products.shipping_length  \\\n",
            "count                        0.0               3998.000000   \n",
            "mean                         NaN                 17.208216   \n",
            "std                          NaN                 10.508782   \n",
            "min                          NaN                  0.000000   \n",
            "25%                          NaN                  9.000000   \n",
            "50%                          NaN                 15.500000   \n",
            "75%                          NaN                 23.500000   \n",
            "max                          NaN                 90.000000   \n",
            "\n",
            "       Products.shipping_width  Products.shipping_height  \\\n",
            "count              3998.000000               3998.000000   \n",
            "mean                 10.872750                 11.592447   \n",
            "std                   6.781847                 10.250909   \n",
            "min                   0.000000                  0.000000   \n",
            "25%                   5.700000                  4.000000   \n",
            "50%                  10.000000                  8.645000   \n",
            "75%                  15.000000                 15.000000   \n",
            "max                  80.000000                 58.000000   \n",
            "\n",
            "       Products.shipping_weight  Products.google_shopping_label  \\\n",
            "count                659.000000                      387.000000   \n",
            "mean                  15.487041                        3.863049   \n",
            "std                   22.256617                        2.098446   \n",
            "min                    0.020000                        0.000000   \n",
            "25%                    2.775000                        5.000000   \n",
            "50%                    8.900000                        5.000000   \n",
            "75%                   21.000000                        5.000000   \n",
            "max                  175.000000                        5.000000   \n",
            "\n",
            "       Products.leg_style  Products.saved_status  Products.freight_cost  \n",
            "count                 0.0            3930.000000                    0.0  \n",
            "mean                  NaN               0.876336                    NaN  \n",
            "std                   NaN               1.364374                    NaN  \n",
            "min                   NaN               0.000000                    NaN  \n",
            "25%                   NaN               0.000000                    NaN  \n",
            "50%                   NaN               0.000000                    NaN  \n",
            "75%                   NaN               3.000000                    NaN  \n",
            "max                   NaN               3.000000                    NaN  \n",
            "\n",
            "[8 rows x 108 columns]\n",
            "\n",
            "Kategorik kolonlarda benzersiz değerler:\n",
            "Customers.fname: 1631 benzersiz\n",
            "Customers.lname: 2557 benzersiz\n",
            "Customers.company: 425 benzersiz\n",
            "Orders.fname: 1636 benzersiz\n",
            "Orders.lname: 2559 benzersiz\n",
            "Orders.company: 427 benzersiz\n",
            "Orders.order_number: 3565 benzersiz\n",
            "Orders.external_source: 3 benzersiz\n",
            "Orders.currency: 1 benzersiz\n",
            "Orders.fee_name: 19 benzersiz\n",
            "Orders.discount_name: 26 benzersiz\n",
            "Orders.shipping_carrier: 11 benzersiz\n",
            "Orders.shipping_method: 14 benzersiz\n",
            "Orders.tracking: 695 benzersiz\n",
            "Orders.payment_user: 5 benzersiz\n",
            "Orders.payment_type: 5 benzersiz\n",
            "Orders.payment_method: 4 benzersiz\n",
            "Orders.payment_id: 3135 benzersiz\n",
            "Orders.payment_code: 2848 benzersiz\n",
            "Orders.comments: 212 benzersiz\n",
            "Orders.notes: 253 benzersiz\n",
            "Order_Items.product_name: 1821 benzersiz\n",
            "Order_Items.attribute_names: 1 benzersiz\n",
            "Products.template: 2 benzersiz\n",
            "Products.name: 1391 benzersiz\n",
            "Products.display_name: 1220 benzersiz\n",
            "Products.shopping_brand: 101 benzersiz\n",
            "Products.shopping_mpn: 1706 benzersiz\n",
            "Products.shopping_gender: 1 benzersiz\n",
            "Products.shopping_color: 98 benzersiz\n",
            "Products.shopping_age: 1 benzersiz\n",
            "Products.amazon_asin: 976 benzersiz\n",
            "Products.amazon_item_type: 1 benzersiz\n",
            "Products.google_shopping_id: 1541 benzersiz\n",
            "Products.google_shopping_type: 313 benzersiz\n",
            "Products.google_shopping_cat: 5 benzersiz\n",
            "Products.shopping_type: 1 benzersiz\n",
            "Products.pricegrabber_cat: 1 benzersiz\n",
            "Products.thefind_cat: 1 benzersiz\n",
            "Products.quickbooks_id: 1521 benzersiz\n",
            "Products.short_description: 1008 benzersiz\n",
            "Products.long_description: 1214 benzersiz\n",
            "Products.video: 62 benzersiz\n",
            "Products.seo_title: 1686 benzersiz\n",
            "Products.seo_description: 40 benzersiz\n",
            "Products.seo_keywords: 206 benzersiz\n",
            "Products.seo_header: 2 benzersiz\n",
            "Products.seo_url: 1710 benzersiz\n",
            "Products.unit: 20 benzersiz\n",
            "Products.packaging: 195 benzersiz\n",
            "Products.display_packaging: 14 benzersiz\n",
            "Products.multiple: 14 benzersiz\n",
            "Products.rx: 2 benzersiz\n",
            "Products.latex: 9 benzersiz\n",
            "Products.msds_link: 167 benzersiz\n",
            "Products.msds_label: 182 benzersiz\n",
            "Products.lit_link: 374 benzersiz\n",
            "Products.lit_label: 203 benzersiz\n",
            "Products.hcpcs: 201 benzersiz\n",
            "Products.notes: 39 benzersiz\n",
            "Products.features_title: 1 benzersiz\n",
            "Products.warranty: 25 benzersiz\n",
            "Products.user_size: 15 benzersiz\n",
            "Products.assembly: 2 benzersiz\n",
            "Products.installation: 3 benzersiz\n",
            "Products.handling_time: 6 benzersiz\n",
            "Products.rotation_link: 72 benzersiz\n",
            "Products.product_option: 148 benzersiz\n",
            "Products.size: 319 benzersiz\n",
            "Products.material: 73 benzersiz\n",
            "Products.arm_style: 17 benzersiz\n",
            "Products.seat_size: 13 benzersiz\n",
            "Products.family_id: 1002 benzersiz\n"
          ]
        }
      ]
    },
    {
      "cell_type": "code",
      "source": [
        "popular_by_volume = df.groupby('Order_Items.product_name')['Order_Items.qty'].sum().sort_values(ascending=False)\n",
        "print(\"\\nEn çok satılan ürünler (adet):\")\n",
        "print(popular_by_volume.head())"
      ],
      "metadata": {
        "colab": {
          "base_uri": "https://localhost:8080/"
        },
        "id": "1tuaVfcH24G-",
        "outputId": "20c10688-1deb-46c0-c901-40556bc630fb"
      },
      "execution_count": null,
      "outputs": [
        {
          "output_type": "stream",
          "name": "stdout",
          "text": [
            "\n",
            "En çok satılan ürünler (adet):\n",
            "Order_Items.product_name\n",
            "TruTemp                                                                     500\n",
            "Disposable Emergency Blanket, Gray, Not Applicable                          305\n",
            "2-Ply Tissue/Poly Professional Towels, White, Not Applicable                220\n",
            "Medline MoliCare Super Plus Disposable Adult Diapers - Medium/Large Size    164\n",
            "Sanitary Pads with Adhesive & Wings                                         133\n",
            "Name: Order_Items.qty, dtype: int64\n"
          ]
        }
      ]
    },
    {
      "cell_type": "code",
      "source": [
        "top_company = df.groupby('Customers.company')['Orders.total'].sum().sort_values(ascending=False)\n",
        "print(\"\\nEn çok satın alma yapan şirketler:\")\n",
        "print(top_company.head())"
      ],
      "metadata": {
        "colab": {
          "base_uri": "https://localhost:8080/"
        },
        "id": "xmxxqKMm38ne",
        "outputId": "228d6351-5ae5-48ef-b60d-7754ca15e509"
      },
      "execution_count": null,
      "outputs": [
        {
          "output_type": "stream",
          "name": "stdout",
          "text": [
            "\n",
            "En çok satın alma yapan şirketler:\n",
            "Customers.company\n",
            "Company59     12790.69\n",
            "Company207     9502.36\n",
            "Company145     8530.28\n",
            "Company159     8452.78\n",
            "Company130     7330.23\n",
            "Name: Orders.total, dtype: float64\n"
          ]
        }
      ]
    },
    {
      "cell_type": "code",
      "source": [
        "top_company = df.groupby('Customers.company')['Orders.total'].sum().sort_values(ascending=False)\n",
        "print(\"\\nEn çok satın alma yapan şirketler:\")\n",
        "print(top_company.head())"
      ],
      "metadata": {
        "colab": {
          "base_uri": "https://localhost:8080/"
        },
        "id": "UPovIBEC28pC",
        "outputId": "84089b0d-387f-4ea8-9104-2d584215655e"
      },
      "execution_count": null,
      "outputs": [
        {
          "output_type": "stream",
          "name": "stdout",
          "text": [
            "\n",
            "En çok satın alma yapan şirketler:\n",
            "Customers.company\n",
            "Company59     12790.69\n",
            "Company207     9502.36\n",
            "Company145     8530.28\n",
            "Company159     8452.78\n",
            "Company130     7330.23\n",
            "Name: Orders.total, dtype: float64\n"
          ]
        }
      ]
    },
    {
      "cell_type": "code",
      "source": [
        "df['Customers.company'] = df['Customers.company'].fillna('Unknown')"
      ],
      "metadata": {
        "id": "O8R0RsWp3Lnv"
      },
      "execution_count": null,
      "outputs": []
    },
    {
      "cell_type": "code",
      "source": [
        "import matplotlib.pyplot as plt\n",
        "\n",
        "popular_by_volume.head(10).plot(kind='bar', title='En Çok Satılan 10 Ürün (Adet)')\n",
        "plt.ylabel('Adet')\n",
        "plt.show()\n",
        "\n",
        "top_company.head(10).plot(kind='bar', title='En Çok Alım Yapan 10 Şirket')\n",
        "plt.ylabel('Toplam Harcama')\n",
        "plt.show()"
      ],
      "metadata": {
        "colab": {
          "base_uri": "https://localhost:8080/",
          "height": 1000
        },
        "id": "IOt_pZ274DLv",
        "outputId": "88d042b9-3ad7-4b2e-a5e0-28ef7f556386"
      },
      "execution_count": null,
      "outputs": [
        {
          "output_type": "display_data",
          "data": {
            "text/plain": [
              "<Figure size 640x480 with 1 Axes>"
            ],
            "image/png": "[encoded data removed]"
          },
          "metadata": {}
        },
        {
          "output_type": "display_data",
          "data": {
            "text/plain": [
              "<Figure size 640x480 with 1 Axes>"
            ],
            "image/png": "[encoded data removed]"
          },
          "metadata": {}
        }
      ]
    },
    {
      "cell_type": "code",
      "source": [
        "# Örnek dolgu (en önemli kolonlara göre)\n",
        "df['Customers.company'] = df['Customers.company'].fillna('Unknown')\n",
        "df['Products.family_id'] = df['Products.family_id'].fillna(-1)\n",
        "df['Products.saved_status'] = df['Products.saved_status'].fillna(0)"
      ],
      "metadata": {
        "id": "RQBOXsWT4IJq"
      },
      "execution_count": null,
      "outputs": []
    },
    {
      "cell_type": "code",
      "source": [
        "# En çok satılan ürün (adet bazında)\n",
        "popular_by_volume = df.groupby('Order_Items.product_id')['Order_Items.qty'].sum().sort_values(ascending=False)\n",
        "print(popular_by_volume.head())\n",
        "\n",
        "# En yüksek ciro getiren ürün (toplam değer)\n",
        "df['order_value'] = df['Order_Items.qty'] * df['Order_Items.price']\n",
        "popular_by_value = df.groupby('Order_Items.product_id')['order_value'].sum().sort_values(ascending=False)\n",
        "print(popular_by_value.head())"
      ],
      "metadata": {
        "colab": {
          "base_uri": "https://localhost:8080/"
        },
        "id": "nAv_Tjoq6iM-",
        "outputId": "9e4fbe23-0f49-4534-e815-19d92114e73a"
      },
      "execution_count": null,
      "outputs": [
        {
          "output_type": "stream",
          "name": "stdout",
          "text": [
            "Order_Items.product_id\n",
            "1846.0    396\n",
            "2107.0    228\n",
            "1672.0    220\n",
            "1648.0    133\n",
            "1842.0    112\n",
            "Name: Order_Items.qty, dtype: int64\n",
            "Order_Items.product_id\n",
            "1846.0    13705.56\n",
            "2107.0    12542.26\n",
            "911.0      8449.00\n",
            "910.0      8420.49\n",
            "858.0      6818.94\n",
            "Name: order_value, dtype: float64\n"
          ]
        }
      ]
    },
    {
      "cell_type": "code",
      "source": [
        "company_total = df.groupby('Customers.company')['order_value'].sum().sort_values(ascending=False)\n",
        "print(company_total.head())"
      ],
      "metadata": {
        "colab": {
          "base_uri": "https://localhost:8080/"
        },
        "id": "fa0gmIJV6lMl",
        "outputId": "166696aa-ac10-4ba6-9b57-0ac1a8b9d273"
      },
      "execution_count": null,
      "outputs": [
        {
          "output_type": "stream",
          "name": "stdout",
          "text": [
            "Customers.company\n",
            "Unknown       290635.31\n",
            "Company59      13186.41\n",
            "Company343      5628.56\n",
            "Company17       4167.15\n",
            "Company281      3061.96\n",
            "Name: order_value, dtype: float64\n"
          ]
        }
      ]
    },
    {
      "cell_type": "code",
      "source": [
        "def popularity_recommender(df, top_n=10):\n",
        "    top_products = df.groupby('Order_Items.product_id')['Order_Items.qty'].sum().sort_values(ascending=False).head(top_n).index\n",
        "    return df[df['Order_Items.product_id'].isin(top_products)][['Order_Items.product_id', 'Products.name']].drop_duplicates()\n",
        "\n",
        "print(popularity_recommender(df))"
      ],
      "metadata": {
        "colab": {
          "base_uri": "https://localhost:8080/"
        },
        "id": "hP2lnhcl66-h",
        "outputId": "97ceb681-3dab-4733-eab3-9c2f4e577bc3"
      },
      "execution_count": null,
      "outputs": [
        {
          "output_type": "stream",
          "name": "stdout",
          "text": [
            "      Order_Items.product_id  \\\n",
            "17                     910.0   \n",
            "86                     911.0   \n",
            "119                   1842.0   \n",
            "146                   1862.0   \n",
            "308                   2107.0   \n",
            "522                   1672.0   \n",
            "608                   1469.0   \n",
            "846                   1846.0   \n",
            "1153                   493.0   \n",
            "3469                  1648.0   \n",
            "\n",
            "                                          Products.name  \n",
            "17    Aluminum Transport Chair with 12\" Wheels,Blue,...  \n",
            "86    Aluminum Transport Chair with 12\" Wheels,Red,F...  \n",
            "119                          Emesis Bags,Blue,36.000 OZ  \n",
            "146                  Silent Knight Pill Crusher Pouches  \n",
            "308       MoliCare Disposable Super Plus Briefs,27\"-47\"  \n",
            "522   2-Ply Tissue/Poly Professional Towels,Not Appl...  \n",
            "608   Protection Plus Super Protective Adult Underwe...  \n",
            "846         Disposable Emergency Blanket,Not Applicable  \n",
            "1153                          Corrugated Aerosol Tubing  \n",
            "3469                Sanitary Pads with Adhesive & Wings  \n"
          ]
        }
      ]
    },
    {
      "cell_type": "code",
      "source": [
        "#!pip install scikit-surprise"
      ],
      "metadata": {
        "id": "mnNFTQSh7Vv7"
      },
      "execution_count": null,
      "outputs": []
    },
    {
      "cell_type": "code",
      "source": [
        "#!pip install numpy==1.23.5"
      ],
      "metadata": {
        "id": "Dg0d9A897YdY"
      },
      "execution_count": null,
      "outputs": []
    },
    {
      "cell_type": "code",
      "source": [
        "#!pip install scikit-surprise\n"
      ],
      "metadata": {
        "id": "MniypgAi7_8W"
      },
      "execution_count": null,
      "outputs": []
    },
    {
      "cell_type": "code",
      "source": [],
      "metadata": {
        "id": "CgaL9IMv8DVL"
      },
      "execution_count": null,
      "outputs": []
    },
    {
      "cell_type": "code",
      "source": [
        "#!pip install --user scikit-surprise"
      ],
      "metadata": {
        "id": "bapePy4D7Yg4"
      },
      "execution_count": null,
      "outputs": []
    },
    {
      "cell_type": "code",
      "source": [
        "from sklearn.feature_extraction.text import TfidfVectorizer\n",
        "from sklearn.metrics.pairwise import cosine_similarity\n",
        "\n",
        "# Ürün açıklamalarıdan matris\n",
        "tfidf = TfidfVectorizer(stop_words='english')\n",
        "tfidf_matrix = tfidf.fit_transform(df['Products.long_description'].fillna(''))\n",
        "\n",
        "# Cosine similarity\n",
        "cosine_sim = cosine_similarity(tfidf_matrix, tfidf_matrix)\n",
        "\n",
        "# Örnek: ilk ürünle en benzer ürünler\n",
        "import numpy as np\n",
        "sim_scores = list(enumerate(cosine_sim[0]))\n",
        "sim_scores = sorted(sim_scores, key=lambda x: x[1], reverse=True)\n",
        "top_similar = [i for i, score in sim_scores[1:6]]\n",
        "print(df.iloc[top_similar][['Products.id', 'Products.name']])\n"
      ],
      "metadata": {
        "colab": {
          "base_uri": "https://localhost:8080/"
        },
        "id": "arO2zMyv7C_F",
        "outputId": "c1c78990-bdec-44f1-d80a-9288bc8d80b1"
      },
      "execution_count": null,
      "outputs": [
        {
          "output_type": "stream",
          "name": "stdout",
          "text": [
            "      Products.id               Products.name\n",
            "824        2308.0  Basic Steel Rollators,Blue\n",
            "859        2312.0   Basic Steel Rollators,Red\n",
            "1117       2309.0  Basic Steel Rollators,Blue\n",
            "1450       2309.0  Basic Steel Rollators,Blue\n",
            "1551       2308.0  Basic Steel Rollators,Blue\n"
          ]
        }
      ]
    },
    {
      "cell_type": "code",
      "source": [],
      "metadata": {
        "id": "zEOf5Kdg7KG7"
      },
      "execution_count": null,
      "outputs": []
    }
  ]
}