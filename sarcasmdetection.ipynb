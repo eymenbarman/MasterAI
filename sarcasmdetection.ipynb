{
  "nbformat": 4,
  "nbformat_minor": 0,
  "metadata": {
    "colab": {
      "provenance": []
    },
    "kernelspec": {
      "name": "python3",
      "display_name": "Python 3"
    },
    "language_info": {
      "name": "python"
    }
  },
  "cells": [
    {
      "cell_type": "code",
      "execution_count": null,
      "metadata": {
        "colab": {
          "base_uri": "https://localhost:8080/"
        },
        "id": "AxDEH_pysU7C",
        "outputId": "789d2c07-1fcf-4325-f851-738c4368b7e2"
      },
      "outputs": [
        {
          "output_type": "stream",
          "name": "stdout",
          "text": [
            "                                            headline  is_sarcastic\n",
            "0  former versace store clerk sues over secret 'b...             0\n",
            "1  the 'roseanne' revival catches up to our thorn...             0\n",
            "2  mom starting to fear son's web series closest ...             1\n",
            "3  boehner just wants wife to listen, not come up...             1\n",
            "4  j.k. rowling wishes snape happy birthday in th...             0\n",
            "is_sarcastic\n",
            "0    14985\n",
            "1    11724\n",
            "Name: count, dtype: int64\n"
          ]
        }
      ],
      "source": [
        "import pandas as pd\n",
        "import json\n",
        "\n",
        "# Veri yükle\n",
        "url = \"https://raw.githubusercontent.com/amankharwal/Website-data/master/Sarcasm.json\"\n",
        "data = pd.read_json(url, lines=True)\n",
        "\n",
        "# Sadece ihtiyacımız olan sütunlar\n",
        "df = data[[\"headline\", \"is_sarcastic\"]]\n",
        "\n",
        "print(df.head())\n",
        "print(df['is_sarcastic'].value_counts())\n"
      ]
    },
    {
      "cell_type": "code",
      "source": [
        "from sklearn.model_selection import train_test_split\n",
        "from sklearn.feature_extraction.text import TfidfVectorizer\n",
        "from sklearn.linear_model import LogisticRegression\n",
        "from sklearn.metrics import classification_report, accuracy_score\n",
        "\n",
        "# Eğitim/veri böl\n",
        "X_train, X_test, y_train, y_test = train_test_split(df[\"headline\"], df[\"is_sarcastic\"], test_size=0.2, random_state=42)\n",
        "\n",
        "# TF-IDF vektörleştirme\n",
        "vectorizer = TfidfVectorizer(max_features=5000)\n",
        "X_train_tfidf = vectorizer.fit_transform(X_train)\n",
        "X_test_tfidf = vectorizer.transform(X_test)\n",
        "\n",
        "# Model\n",
        "model = LogisticRegression()\n",
        "model.fit(X_train_tfidf, y_train)\n",
        "\n",
        "# Tahmin ve değerlendirme\n",
        "y_pred = model.predict(X_test_tfidf)\n",
        "print(\"Accuracy:\", accuracy_score(y_test, y_pred))\n",
        "print(classification_report(y_test, y_pred))\n"
      ],
      "metadata": {
        "colab": {
          "base_uri": "https://localhost:8080/"
        },
        "id": "vj6Fj-nxsXSV",
        "outputId": "a29e2eb4-e1cf-45bd-eca5-48e753afd27f"
      },
      "execution_count": null,
      "outputs": [
        {
          "output_type": "stream",
          "name": "stdout",
          "text": [
            "Accuracy: 0.8395731935604642\n",
            "              precision    recall  f1-score   support\n",
            "\n",
            "           0       0.85      0.87      0.86      2996\n",
            "           1       0.83      0.80      0.81      2346\n",
            "\n",
            "    accuracy                           0.84      5342\n",
            "   macro avg       0.84      0.84      0.84      5342\n",
            "weighted avg       0.84      0.84      0.84      5342\n",
            "\n"
          ]
        }
      ]
    },
    {
      "cell_type": "code",
      "source": [
        "import pickle\n",
        "\n",
        "# Model ve vectorizer birlikte kaydet\n",
        "with open(\"sarcasm_model.pkl\", \"wb\") as f:\n",
        "    pickle.dump((model, vectorizer), f)\n"
      ],
      "metadata": {
        "id": "oZ8_IyB0sfKz"
      },
      "execution_count": null,
      "outputs": []
    },
    {
      "cell_type": "code",
      "source": [],
      "metadata": {
        "id": "CWZIADG3siOe"
      },
      "execution_count": null,
      "outputs": []
    }
  ]
}